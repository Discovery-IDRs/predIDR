{
 "cells": [
  {
   "cell_type": "code",
   "execution_count": 1,
   "id": "local-screen",
   "metadata": {
    "scrolled": true
   },
   "outputs": [
    {
     "data": {
      "text/plain": [
       "'Calculate correlations between learned and known features.'"
      ]
     },
     "execution_count": 1,
     "metadata": {},
     "output_type": "execute_result"
    }
   ],
   "source": [
    "\"\"\"Calculate correlations between learned and known features.\"\"\""
   ]
  },
  {
   "cell_type": "code",
   "execution_count": 2,
   "id": "alike-elizabeth",
   "metadata": {},
   "outputs": [],
   "source": [
    "import os\n",
    "import numpy as np\n",
    "import tensorflow as tf\n",
    "import src.models.utils\n",
    "import src.utils\n",
    "\n",
    "class MaskedConv1D(tf.keras.layers.Conv1D):\n",
    "    def __init__(self, filters, kernel_size, **kwargs):\n",
    "        super().__init__(filters, kernel_size, **kwargs)\n",
    "        self.supports_masking = True"
   ]
  },
  {
   "cell_type": "code",
   "execution_count": 3,
   "id": "worst-navigation",
   "metadata": {},
   "outputs": [],
   "source": [
    "alphabet = ['A', 'C', 'D', 'E', 'F', 'G', 'H', 'I', 'K', 'L', 'M', 'N', 'P', 'Q', 'R', 'S', 'T', 'V', 'W', 'Y']\n",
    "weights = {'0': 1, '1': 2, '-': 3}\n",
    "batch_size = 32\n",
    "model_acc = [\"6_2\"] # [\"3_6_1\", \"6_2\", \"7_1_2\", \"7_2_2\", \"7_3_2\"]\n",
    "\n",
    "batch_data = src.models.utils.load_data('../../mobidb-pdb_validation/split_data/out/all_seqs.fasta', '../../mobidb-pdb_validation/split_data/out/all_labels.fasta')\n",
    "batches = src.models.utils.BatchGenerator(batch_data, batch_size, alphabet, weights, shuffle=False)\n",
    "\n",
    "seq_fasta = src.utils.read_fasta('../../mobidb-pdb_validation/split_data/out/all_seqs.fasta')\n",
    "\n",
    "window_sizes = [20] #[10,20,30,40,50]\n",
    "\n",
    "feature_dict = {\"chain_expanding_frac\":lambda seq:get_X_frac(seq,\"EDRKP\"),\n",
    "                \"aromatic_frac\":lambda seq:get_X_frac(seq,\"FYW\"),\n",
    "                \"disorder_promoting_frac\":lambda seq:get_X_frac(seq,\"TAGRDHQKSEP\")}"
   ]
  },
  {
   "cell_type": "code",
   "execution_count": 4,
   "id": "yellow-oakland",
   "metadata": {},
   "outputs": [],
   "source": [
    "feature_dict = {\"S_frac\":lambda seq:get_X_frac(seq,\"S\"),\n",
    "                \"P_frac\":lambda seq:get_X_frac(seq,\"P\"),\n",
    "                \"T_frac\":lambda seq:get_X_frac(seq,\"T\"),\n",
    "                \"A_frac\":lambda seq:get_X_frac(seq,\"A\"),\n",
    "                \"H_frac\":lambda seq:get_X_frac(seq,\"H\"),\n",
    "                \"Q_frac\":lambda seq:get_X_frac(seq,\"Q\"),\n",
    "                \"N_frac\":lambda seq:get_X_frac(seq,\"N\"),\n",
    "                \"G_frac\":lambda seq:get_X_frac(seq,\"G\"),\n",
    "                \"charge_frac\":lambda seq:get_X_frac(seq,\"DERK\"),\n",
    "                \"net_charge\":lambda seq:get_X_frac(seq,\"RK\")-get_X_frac(seq,\"DE\"),\n",
    "                \"RK_ratio\":lambda seq:(get_X_frac(seq,\"R\")+1)/(get_X_frac(seq,\"K\")+1),\n",
    "                \"ED_ratio\":lambda seq:(get_X_frac(seq,\"E\")+1)/(get_X_frac(seq,\"D\")+1),\n",
    "                \"acidic_frac\":lambda seq:get_X_frac(seq,\"DE\"),\n",
    "                \"basic_frac\":lambda seq:get_X_frac(seq,\"RK\"),\n",
    "                \"hydrophobicity\":lambda seq:get_hydrophobicity(seq),\n",
    "                \"aliphatic_frac\":lambda seq:get_X_frac(seq,\"ALMIV\"),\n",
    "                \"polarity\":lambda seq:get_polarity(seq),\n",
    "                \"polar_frac\":lambda seq:get_X_frac(seq,\"QNSTGCH\"),\n",
    "                \"chain_expanding_frac\":lambda seq:get_X_frac(seq,\"EDRKP\"),\n",
    "                \"aromatic_frac\":lambda seq:get_X_frac(seq,\"FYW\"),\n",
    "                \"disorder_promoting_frac\":lambda seq:get_X_frac(seq,\"TAGRDHQKSEP\"),\n",
    "                \"Q_repeat_frac\":lambda seq:get_pair_repeat_frac(seq,\"QQ\"),\n",
    "                \"N_repeat_frac\":lambda seq:get_pair_repeat_frac(seq,\"NN\"),\n",
    "                \"S_repeat_frac\":lambda seq:get_pair_repeat_frac(seq,\"SS\"),\n",
    "                \"G_repeat_frac\":lambda seq:get_pair_repeat_frac(seq,\"GG\"),\n",
    "                \"E_repeat_frac\":lambda seq:get_pair_repeat_frac(seq,\"EE\"),\n",
    "                \"D_repeat_frac\":lambda seq:get_pair_repeat_frac(seq,\"DD\"),\n",
    "                \"K_repeat_frac\":lambda seq:get_pair_repeat_frac(seq,\"KK\"),\n",
    "                \"R_repeat_frac\":lambda seq:get_pair_repeat_frac(seq,\"RR\"),\n",
    "                \"P_repeat_frac\":lambda seq:get_pair_repeat_frac(seq,\"PP\"),\n",
    "                \"QN_repeat_frac\":lambda seq:get_pair_repeat_frac(seq,\"QN\"),\n",
    "                \"RG_repeat_frac\":lambda seq:get_pair_repeat_frac(seq,\"RG\"),\n",
    "                \"FG_repeat_frac\":lambda seq:get_pair_repeat_frac(seq,\"FG\"),\n",
    "                \"SG_repeat_frac\":lambda seq:get_pair_repeat_frac(seq,\"SG\"),\n",
    "                \"SR_repeat_frac\":lambda seq:get_pair_repeat_frac(seq,\"SR\"),\n",
    "                \"KAP_repeat_frac\":lambda seq:get_pair_repeat_frac(seq,\"KAP\"),\n",
    "                \"PTS_repeat_frac\":lambda seq:get_pair_repeat_frac(seq,\"PTS\")}"
   ]
  },
  {
   "cell_type": "code",
   "execution_count": 5,
   "id": "acquired-friend",
   "metadata": {},
   "outputs": [],
   "source": [
    "# Load models as dictionary of mapping of model name to model\n",
    "model_dict = {}\n",
    "for acc in model_acc:\n",
    "    model_name = f\"mobidb-pdb_cnn_{acc}\"\n",
    "    model_path = f\"../../models/{model_name}/out_model/{model_name}.h5\"\n",
    "    model = tf.keras.models.load_model(model_path, custom_objects={\"MaskedConv1D\":MaskedConv1D})\n",
    "    model_dict[model_name] = model"
   ]
  },
  {
   "cell_type": "code",
   "execution_count": 6,
   "id": "congressional-theater",
   "metadata": {
    "scrolled": true
   },
   "outputs": [],
   "source": [
    "# Calculate learned features\n",
    "model_learned_features = {}  # {\"model_name\":[features learned by model for each protein]}\n",
    "for model_key in model_dict:\n",
    "    model = model_dict[model_key]\n",
    "    layer = model.get_layer(\"conv1d2\")\n",
    "    feature_extractor = tf.keras.Model(inputs=model.inputs, outputs=layer.output)\n",
    "    \n",
    "    learned_features = []\n",
    "    for input, _, training_weights, in batches:  # Predict method was acting strange, so extract individual batches\n",
    "        features = feature_extractor(input).numpy()\n",
    "        for protein_features, protein_weights in zip(features, training_weights):\n",
    "            protein_features = protein_features[protein_weights != 0]  # Drop padding\n",
    "            learned_features.append(protein_features)\n",
    "    \n",
    "    model_learned_features[model_key] = learned_features"
   ]
  },
  {
   "cell_type": "code",
   "execution_count": 7,
   "id": "generic-analyst",
   "metadata": {},
   "outputs": [],
   "source": [
    "# Extract accessions\n",
    "accessions = []\n",
    "for accession, _, in seq_fasta:\n",
    "    accessions.append(accession.split(\"|\")[0][1:]) # Keep only acc"
   ]
  },
  {
   "cell_type": "code",
   "execution_count": 8,
   "id": "roman-technical",
   "metadata": {},
   "outputs": [],
   "source": [
    "# Construct new record objects that contain known and learned features\n",
    "records = {}  # {model_key:{accession:{seq:,labels:,learned_features:,known_features:{window_size:{known_feature:}}}}}\n",
    "for model_key in model_dict:\n",
    "    model_records = {}\n",
    "    \n",
    "    for accession, (seq, labels), learned_features in zip(accessions, batch_data, model_learned_features[model_key]):\n",
    "        known_features = {}\n",
    "        for window_size in window_sizes:\n",
    "            window_features = {}\n",
    "            with open(f\"../generate_maps/out/window_size{window_size}/{accession}_feature_map{window_size}.tsv\") as file:\n",
    "                for feature in feature_dict:\n",
    "                    window_features[feature] = []\n",
    "            \n",
    "                for line in file:\n",
    "                    line_values = line.split(\"\\t\")[:-1]  # Remove \\n\n",
    "                    for feature, value in zip(feature_dict.keys(), line_values):\n",
    "                        window_features[feature].append(float(value))\n",
    "            \n",
    "            known_features[f\"window{window_size}\"] = window_features\n",
    "        \n",
    "        model_records[accession] = {\"seq\": seq,\n",
    "                                    \"labels\":labels,\n",
    "                                    \"learned_features\":learned_features,\n",
    "                                    \"known_features\": known_features}\n",
    "              \n",
    "    records[model_key] = model_records"
   ]
  },
  {
   "cell_type": "code",
   "execution_count": 9,
   "id": "stuck-wallace",
   "metadata": {},
   "outputs": [],
   "source": [
    "# Construct matrix of learned feature values\n",
    "# Columns represent positions\n",
    "# Rows represent features\n",
    "\n",
    "learned_feature_arrays = []\n",
    "for model_key in records:\n",
    "    model_learned_features_lst = [[] for i in range(128)]\n",
    "        \n",
    "    for acc in records[model_key]:\n",
    "        acc_learned_features = np.transpose(records[model_key][acc][\"learned_features\"])\n",
    "        for index, acc_learned_feature in enumerate(acc_learned_features):\n",
    "            model_learned_features_lst[index].append(acc_learned_feature)\n",
    "            \n",
    "    model_learned_features_combined_lst = []\n",
    "    for learned_feature in model_learned_features_lst:\n",
    "        model_learned_features_combined_lst.append(np.concatenate(learned_feature))\n",
    "    \n",
    "    model_learned_features_array = np.array(model_learned_features_combined_lst)\n",
    "    learned_feature_arrays.append(model_learned_features_array)"
   ]
  },
  {
   "cell_type": "code",
   "execution_count": 10,
   "id": "interested-correspondence",
   "metadata": {},
   "outputs": [],
   "source": [
    "# Construct matrix of known feature values\n",
    "# Columns represent positions\n",
    "# Rows represent features\n",
    "\n",
    "known_feature_arrays = []\n",
    "for model_key in records:\n",
    "    model_known_features_lst = [[] for i in range(len(feature_dict))]\n",
    "    \n",
    "    for index, feature in enumerate(feature_dict):\n",
    "        for acc in records[model_key]:\n",
    "            acc_known_features = records[model_key][acc][\"known_features\"]['window20'][feature]\n",
    "            model_known_features_lst[index].append(acc_known_features)\n",
    "                \n",
    "    model_known_features_combined_lst = []\n",
    "    for known_feature in model_known_features_lst:\n",
    "        model_known_features_combined_lst.append(np.concatenate(known_feature))\n",
    "        \n",
    "    model_known_features_array = np.array(model_known_features_combined_lst)\n",
    "    known_feature_arrays.append(model_known_features_array)"
   ]
  },
  {
   "cell_type": "code",
   "execution_count": 11,
   "id": "mexican-bloom",
   "metadata": {},
   "outputs": [],
   "source": [
    "# Combine learned features array and known features array for each model into a tuple\n",
    "record_arrays = {}\n",
    "for learned_array, known_array, model_key in zip(learned_feature_arrays, known_feature_arrays, records.keys()):\n",
    "    record_arrays[model_key] = (learned_array, known_array)"
   ]
  },
  {
   "cell_type": "code",
   "execution_count": 12,
   "id": "intensive-oregon",
   "metadata": {},
   "outputs": [
    {
     "name": "stderr",
     "output_type": "stream",
     "text": [
      "c:\\users\\jason hong\\appdata\\local\\programs\\python\\python38\\lib\\site-packages\\scipy\\stats\\stats.py:3845: PearsonRConstantInputWarning: An input array is constant; the correlation coefficent is not defined.\n",
      "  warnings.warn(PearsonRConstantInputWarning())\n"
     ]
    }
   ],
   "source": [
    "# Calculate correlation between known and learned features for each model\n",
    "import scipy.stats\n",
    "\n",
    "model_corr = {}\n",
    "for model_key in record_arrays:\n",
    "    model_learned_features = record_arrays[model_key][0]\n",
    "    model_known_features = record_arrays[model_key][1]\n",
    "    \n",
    "    model_corr_list = []\n",
    "    for known_feature in model_known_features:\n",
    "        known_feature_corrcoefs = []\n",
    "        for learned_feature in model_learned_features:\n",
    "            known_feature_corrcoefs.append(scipy.stats.pearsonr(known_feature,learned_feature)[0])\n",
    "            \n",
    "        model_corr_list.append(known_feature_corrcoefs)\n",
    "        \n",
    "    model_corr_matrix = np.array(model_corr_list)\n",
    "    model_corr[model_key] = model_corr_matrix"
   ]
  },
  {
   "cell_type": "code",
   "execution_count": 14,
   "id": "tracked-sunglasses",
   "metadata": {},
   "outputs": [
    {
     "data": {
      "text/plain": [
       "<AxesSubplot:>"
      ]
     },
     "execution_count": 14,
     "metadata": {},
     "output_type": "execute_result"
    },
    {
     "data": {
      "image/png": "[encoded data removed]",
      "text/plain": [
       "<Figure size 432x288 with 2 Axes>"
      ]
     },
     "metadata": {
      "needs_background": "light"
     },
     "output_type": "display_data"
    }
   ],
   "source": [
    "# 6_2\n",
    "import matplotlib.pyplot as plt\n",
    "import seaborn as sns\n",
    "\n",
    "sns.heatmap(model_corr['mobidb-pdb_cnn_6_2'], cmap='RdYlGn')"
   ]
  },
  {
   "cell_type": "code",
   "execution_count": 132,
   "id": "honest-occurrence",
   "metadata": {
    "scrolled": false
   },
   "outputs": [
    {
     "data": {
      "text/plain": [
       "<AxesSubplot:>"
      ]
     },
     "execution_count": 132,
     "metadata": {},
     "output_type": "execute_result"
    },
    {
     "data": {
      "image/png": "[encoded data removed]",
      "text/plain": [
       "<Figure size 432x288 with 2 Axes>"
      ]
     },
     "metadata": {
      "needs_background": "light"
     },
     "output_type": "display_data"
    }
   ],
   "source": [
    "# 3_6_1\n",
    "import matplotlib.pyplot as plt\n",
    "import seaborn as sns\n",
    "\n",
    "#plt.subplots(figsize=(20,20))\n",
    "sns.heatmap(model_corr['mobidb-pdb_cnn_3_6_1'], cmap='RdYlGn')\n",
    "#sns.heatmap(model_corr['mobidb-pdb_cnn_3_6_1'], xticklabels=range(1,129), yticklabels=feature_dict.keys(), cmap='RdYlGn')"
   ]
  },
  {
   "cell_type": "code",
   "execution_count": 138,
   "id": "biological-platinum",
   "metadata": {},
   "outputs": [
    {
     "data": {
      "text/plain": [
       "'disorder_promoting_frac'"
      ]
     },
     "execution_count": 138,
     "metadata": {},
     "output_type": "execute_result"
    }
   ],
   "source": [
    "feature_keys = []\n",
    "for key in feature_dict:\n",
    "    feature_keys.append(key)\n",
    "\n",
    "feature_keys[20]"
   ]
  },
  {
   "cell_type": "code",
   "execution_count": null,
   "id": "academic-latest",
   "metadata": {},
   "outputs": [],
   "source": []
  },
  {
   "cell_type": "code",
   "execution_count": null,
   "id": "stainless-entity",
   "metadata": {},
   "outputs": [],
   "source": []
  },
  {
   "cell_type": "code",
   "execution_count": null,
   "id": "coated-frank",
   "metadata": {},
   "outputs": [],
   "source": []
  },
  {
   "cell_type": "code",
   "execution_count": 129,
   "id": "acknowledged-container",
   "metadata": {},
   "outputs": [
    {
     "data": {
      "text/plain": [
       "37"
      ]
     },
     "execution_count": 129,
     "metadata": {},
     "output_type": "execute_result"
    }
   ],
   "source": [
    "len(record_arrays['mobidb-pdb_cnn_3_6_1'][1])"
   ]
  },
  {
   "cell_type": "code",
   "execution_count": null,
   "id": "greater-helmet",
   "metadata": {},
   "outputs": [],
   "source": []
  },
  {
   "cell_type": "code",
   "execution_count": null,
   "id": "competent-controversy",
   "metadata": {},
   "outputs": [],
   "source": []
  },
  {
   "cell_type": "code",
   "execution_count": null,
   "id": "double-uruguay",
   "metadata": {},
   "outputs": [],
   "source": []
  },
  {
   "cell_type": "code",
   "execution_count": null,
   "id": "existing-station",
   "metadata": {},
   "outputs": [],
   "source": []
  },
  {
   "cell_type": "code",
   "execution_count": null,
   "id": "infectious-grade",
   "metadata": {},
   "outputs": [],
   "source": []
  },
  {
   "cell_type": "code",
   "execution_count": 108,
   "id": "chemical-denver",
   "metadata": {},
   "outputs": [],
   "source": [
    "for model_key in records:\n",
    "    model_known_features_dict = {}\n",
    "    for window_size in window_sizes:\n",
    "        for feature in feature_dict:\n",
    "            known_feature_key = f\"{feature}\"+ f\"{window_size}\"\n",
    "            model_known_features_dict[known_feature_key] = []\n",
    "            \n",
    "            for acc in records[model_key]:\n",
    "                acc_known_features = records[model_key][acc][\"known_features\"][f\"window{window_size}\"][feature]\n",
    "                model_known_features_dict[known_feature_key].append(acc_known_features)\n",
    "                \n",
    "            acc_known_features_combined = np.concatenate(model_known_features_dict[known_feature_key])\n",
    "            model_known_features_dict[known_feature_key] = acc_known_features_combined\n",
    "            \n",
    "    model_known_features_lst = []\n",
    "    for known_feature in model_known_features_dict:\n",
    "        model_known_features_lst.append(model_known_features_dict[known_feature])\n",
    "        \n",
    "    model_known_features_array = np.array(model_known_features_lst)"
   ]
  },
  {
   "cell_type": "code",
   "execution_count": 87,
   "id": "absolute-bullet",
   "metadata": {
    "scrolled": true
   },
   "outputs": [
    {
     "data": {
      "text/plain": [
       "10233688"
      ]
     },
     "execution_count": 87,
     "metadata": {},
     "output_type": "execute_result"
    }
   ],
   "source": [
    "len(model_learned_features_array[0])"
   ]
  },
  {
   "cell_type": "code",
   "execution_count": 64,
   "id": "iraqi-batch",
   "metadata": {},
   "outputs": [
    {
     "data": {
      "text/plain": [
       "2144"
      ]
     },
     "execution_count": 64,
     "metadata": {},
     "output_type": "execute_result"
    }
   ],
   "source": [
    "len(model_learned_features_lst[0])"
   ]
  },
  {
   "cell_type": "code",
   "execution_count": 50,
   "id": "accompanied-hamburg",
   "metadata": {
    "scrolled": true
   },
   "outputs": [
    {
     "data": {
      "text/plain": [
       "128"
      ]
     },
     "execution_count": 50,
     "metadata": {},
     "output_type": "execute_result"
    }
   ],
   "source": [
    "model_learned_features_array = np.empty(shape=[0, 128])\n",
    "model_learned_features_array = np.vstack([model_learned_features_array,records['mobidb-pdb_cnn_3_6_1']['A5FB55']['learned_features']])\n",
    "len(model_learned_features_array[0])"
   ]
  },
  {
   "cell_type": "code",
   "execution_count": null,
   "id": "listed-yesterday",
   "metadata": {},
   "outputs": [],
   "source": [
    "for model_key in records:\n",
    "    model_learned_features_array = np.empty(shape=(128))\n",
    "    for acc in records[model_key]:\n",
    "        "
   ]
  },
  {
   "cell_type": "code",
   "execution_count": 18,
   "id": "israeli-being",
   "metadata": {},
   "outputs": [
    {
     "ename": "TypeError",
     "evalue": "array() missing required argument 'object' (pos 1)",
     "output_type": "error",
     "traceback": [
      "\u001b[1;31m---------------------------------------------------------------------------\u001b[0m",
      "\u001b[1;31mTypeError\u001b[0m                                 Traceback (most recent call last)",
      "\u001b[1;32m<ipython-input-18-67d761e33e23>\u001b[0m in \u001b[0;36m<module>\u001b[1;34m\u001b[0m\n\u001b[0;32m     19\u001b[0m \u001b[1;33m\u001b[0m\u001b[0m\n\u001b[0;32m     20\u001b[0m     \u001b[1;31m#model_learned_features_lst = []\u001b[0m\u001b[1;33m\u001b[0m\u001b[1;33m\u001b[0m\u001b[1;33m\u001b[0m\u001b[0m\n\u001b[1;32m---> 21\u001b[1;33m     \u001b[0mmodel_learned_features_array\u001b[0m \u001b[1;33m=\u001b[0m \u001b[0mnp\u001b[0m\u001b[1;33m.\u001b[0m\u001b[0marray\u001b[0m\u001b[1;33m(\u001b[0m\u001b[1;33m)\u001b[0m\u001b[1;33m\u001b[0m\u001b[1;33m\u001b[0m\u001b[0m\n\u001b[0m\u001b[0;32m     22\u001b[0m     \u001b[1;32mfor\u001b[0m \u001b[0mlearned_feature\u001b[0m \u001b[1;32min\u001b[0m \u001b[0mmodel_learned_features_dict\u001b[0m\u001b[1;33m:\u001b[0m\u001b[1;33m\u001b[0m\u001b[1;33m\u001b[0m\u001b[0m\n\u001b[0;32m     23\u001b[0m         \u001b[0mmodel_learned_features_array\u001b[0m \u001b[1;33m=\u001b[0m \u001b[0mnumpy\u001b[0m\u001b[1;33m.\u001b[0m\u001b[0mvstack\u001b[0m\u001b[1;33m(\u001b[0m\u001b[1;33m[\u001b[0m\u001b[0mmodel_learned_features_array\u001b[0m\u001b[1;33m,\u001b[0m \u001b[0mlearned_feature\u001b[0m\u001b[1;33m]\u001b[0m\u001b[1;33m)\u001b[0m\u001b[1;33m\u001b[0m\u001b[1;33m\u001b[0m\u001b[0m\n",
      "\u001b[1;31mTypeError\u001b[0m: array() missing required argument 'object' (pos 1)"
     ]
    }
   ],
   "source": [
    "# Construct matrix of learned feature values and matrix of known feature values\n",
    "# Columns represent positions\n",
    "# Rows represent features\n",
    "record_arrays = {}\n",
    "\n",
    "for model_key in records:\n",
    "    model_learned_features_dict = {}\n",
    "    for i in range(1,129):\n",
    "        model_learned_features_dict[i] = []\n",
    "        \n",
    "    for acc in records[model_key]:\n",
    "        acc_learned_features = np.transpose(records[model_key][acc][\"learned_features\"])\n",
    "        for i, acc_learned_feature in zip(range(1,129), acc_learned_features):\n",
    "            model_learned_features_dict[i].append(acc_learned_feature)\n",
    "            \n",
    "    for learned_feature in model_learned_features_dict:\n",
    "        learned_feature_combined = np.concatenate(model_learned_features_dict[learned_feature])\n",
    "        model_learned_features_dict[learned_feature] = learned_feature_combined\n",
    "        \n",
    "    model_learned_features_lst = []\n",
    "    for learned_feature in model_learned_features_dict:\n",
    "        model_learned_features_lst.append(model_learned_features_dict[learned_feature])\n",
    "    \n",
    "    model_learned_features_array = np.array(model_learned_features_lst)\n",
    "    \n",
    "    model_known_features_dict = {}\n",
    "    for window_size in window_sizes:\n",
    "        for feature in feature_dict:\n",
    "            known_feature_key = f\"{feature}\"+ f\"{window_size}\"\n",
    "            model_known_features_dict[known_feature_key] = []\n",
    "            \n",
    "            for acc in records[model_key]:\n",
    "                acc_known_features = records[model_key][acc][\"known_features\"][f\"window{window_size}\"][feature]\n",
    "                model_known_features_dict[known_feature_key].append(acc_known_features)\n",
    "                \n",
    "            acc_known_features_combined = np.concatenate(model_known_features_dict[known_feature_key])\n",
    "            model_known_features_dict[known_feature_key] = acc_known_features_combined\n",
    "            \n",
    "    model_known_features_lst = []\n",
    "    for known_feature in model_known_features_dict:\n",
    "        model_known_features_lst.append(model_known_features_dict[known_feature])\n",
    "        \n",
    "    model_known_features_array = np.array(model_known_features_lst)\n",
    "    \n",
    "    record_arrays[model_key] = {\"learned\": model_learned_features_array, \"known\": model_known_features_array}"
   ]
  },
  {
   "cell_type": "code",
   "execution_count": 16,
   "id": "white-implement",
   "metadata": {},
   "outputs": [
    {
     "ename": "NameError",
     "evalue": "name 'model_learned_features_array' is not defined",
     "output_type": "error",
     "traceback": [
      "\u001b[1;31m---------------------------------------------------------------------------\u001b[0m",
      "\u001b[1;31mNameError\u001b[0m                                 Traceback (most recent call last)",
      "\u001b[1;32m<ipython-input-16-c41c5baeeea4>\u001b[0m in \u001b[0;36m<module>\u001b[1;34m\u001b[0m\n\u001b[1;32m----> 1\u001b[1;33m \u001b[0mmodel_learned_features_array\u001b[0m\u001b[1;33m\u001b[0m\u001b[1;33m\u001b[0m\u001b[0m\n\u001b[0m",
      "\u001b[1;31mNameError\u001b[0m: name 'model_learned_features_array' is not defined"
     ]
    }
   ],
   "source": [
    "model_learned_features_array"
   ]
  },
  {
   "cell_type": "code",
   "execution_count": null,
   "id": "alien-classification",
   "metadata": {},
   "outputs": [],
   "source": []
  },
  {
   "cell_type": "code",
   "execution_count": null,
   "id": "wrapped-wheel",
   "metadata": {},
   "outputs": [],
   "source": [
    "import scipy.stats"
   ]
  },
  {
   "cell_type": "code",
   "execution_count": 43,
   "id": "useful-interval",
   "metadata": {},
   "outputs": [
    {
     "data": {
      "text/plain": [
       "dict_keys"
      ]
     },
     "execution_count": 43,
     "metadata": {},
     "output_type": "execute_result"
    }
   ],
   "source": [
    "type(feature_dict.keys())"
   ]
  },
  {
   "cell_type": "code",
   "execution_count": 36,
   "id": "finnish-middle",
   "metadata": {},
   "outputs": [
    {
     "data": {
      "text/plain": [
       "3"
      ]
     },
     "execution_count": 36,
     "metadata": {},
     "output_type": "execute_result"
    }
   ],
   "source": [
    "len(model_corr['mobidb-pdb_cnn_3_6_1'])"
   ]
  },
  {
   "cell_type": "code",
   "execution_count": 242,
   "id": "multiple-kingdom",
   "metadata": {},
   "outputs": [],
   "source": [
    "# Calculate correlation between known and learned features for each model\n",
    "model_corr = {}\n",
    "for model_key in record_arrays:\n",
    "    model_known_features = record_arrays[model_key][\"known\"]\n",
    "    model_learned_features = record_arrays[model_key][\"learned\"]\n",
    "    model_corr_matrix = np.corrcoef(model_known_features, model_learned_features)\n",
    "    model_corr[model_key] = model_corr_matrix"
   ]
  },
  {
   "cell_type": "code",
   "execution_count": 243,
   "id": "interior-attachment",
   "metadata": {},
   "outputs": [
    {
     "data": {
      "text/plain": [
       "array([[ 1.        ,  0.01080537, -0.01228749, ..., -0.21713452,\n",
       "         0.01816685,         nan],\n",
       "       [ 0.01080537,  1.        ,  0.00453934, ..., -0.14631004,\n",
       "        -0.00993907,         nan],\n",
       "       [-0.01228749,  0.00453934,  1.        , ..., -0.0394879 ,\n",
       "         0.00601186,         nan],\n",
       "       ...,\n",
       "       [-0.21713452, -0.14631004, -0.0394879 , ...,  1.        ,\n",
       "        -0.08298673,         nan],\n",
       "       [ 0.01816685, -0.00993907,  0.00601186, ..., -0.08298673,\n",
       "         1.        ,         nan],\n",
       "       [        nan,         nan,         nan, ...,         nan,\n",
       "                nan,         nan]])"
      ]
     },
     "execution_count": 243,
     "metadata": {},
     "output_type": "execute_result"
    }
   ],
   "source": [
    "model_corr_matrix"
   ]
  },
  {
   "cell_type": "code",
   "execution_count": 109,
   "id": "blank-poultry",
   "metadata": {},
   "outputs": [
    {
     "data": {
      "text/plain": [
       "dict_keys(['chain_expanding_frac 20', 'aromatic_frac 20', 'disorder_promoting_frac 20'])"
      ]
     },
     "execution_count": 109,
     "metadata": {},
     "output_type": "execute_result"
    }
   ],
   "source": [
    "model_known_features_dict.keys()"
   ]
  },
  {
   "cell_type": "code",
   "execution_count": 24,
   "id": "contemporary-beaver",
   "metadata": {},
   "outputs": [
    {
     "data": {
      "text/plain": [
       "505"
      ]
     },
     "execution_count": 24,
     "metadata": {},
     "output_type": "execute_result"
    }
   ],
   "source": [
    "len(np.transpose(records['mobidb-pdb_cnn_3_6_1']['A5FB55']['learned_features'])[0])"
   ]
  },
  {
   "cell_type": "code",
   "execution_count": 28,
   "id": "dying-foundation",
   "metadata": {
    "scrolled": true
   },
   "outputs": [
    {
     "data": {
      "text/plain": [
       "array([2.903051  , 1.7324278 , 1.2580488 , 1.5944489 , 2.3398778 ,\n",
       "       3.303786  , 1.3265775 , 0.13554564, 0.        , 0.        ,\n",
       "       0.        , 0.        , 0.        , 0.        , 0.        ,\n",
       "       0.        , 0.        , 0.        , 0.        , 0.        ,\n",
       "       0.        , 0.        , 0.        , 0.        , 0.        ,\n",
       "       0.        , 0.        , 0.        , 0.        , 0.        ,\n",
       "       0.        , 0.        , 0.        , 0.        , 0.        ,\n",
       "       0.        , 0.        , 0.        , 0.        , 0.        ,\n",
       "       0.        , 0.        , 0.        , 0.        , 0.        ,\n",
       "       0.        , 0.        , 0.        , 0.        , 0.        ,\n",
       "       0.        , 0.        , 0.        , 0.        , 0.        ,\n",
       "       0.        , 0.        , 0.        , 0.        , 0.        ,\n",
       "       0.        , 0.        , 0.        , 0.        , 0.        ,\n",
       "       0.        , 0.        , 0.        , 0.        , 0.        ,\n",
       "       0.        , 0.        , 0.        , 0.        , 0.        ,\n",
       "       0.        , 0.        , 0.        , 0.        , 0.        ,\n",
       "       0.        , 0.        , 0.        , 0.        , 0.        ,\n",
       "       0.        , 0.        , 0.        , 0.        , 0.        ,\n",
       "       0.        , 0.        , 0.        , 0.        , 0.        ,\n",
       "       0.        , 0.        , 0.        , 0.        , 0.        ,\n",
       "       0.        , 0.        , 0.        , 0.        , 0.        ,\n",
       "       0.        , 0.        , 0.        , 0.        , 0.        ,\n",
       "       0.        , 0.        , 0.        , 0.        , 0.        ,\n",
       "       0.        , 0.        , 0.        , 0.        , 0.        ,\n",
       "       0.        , 0.        , 0.        , 0.        , 0.        ,\n",
       "       0.        , 0.        , 0.        , 0.        , 0.        ,\n",
       "       0.        , 0.        , 0.        , 0.        , 0.        ,\n",
       "       0.        , 0.        , 0.        , 0.        , 0.        ,\n",
       "       0.        , 0.        , 0.        , 0.        , 0.        ,\n",
       "       0.        , 0.        , 0.        , 0.        , 0.        ,\n",
       "       0.        , 0.        , 0.        , 0.        , 0.        ,\n",
       "       0.        , 0.        , 0.        , 0.        , 0.        ,\n",
       "       0.        , 0.        , 0.        , 0.        , 0.        ,\n",
       "       0.        , 0.        , 0.        , 0.        , 0.        ,\n",
       "       0.        , 0.        , 0.        , 0.        , 0.        ,\n",
       "       0.        , 0.        , 0.        , 0.        , 0.        ,\n",
       "       0.        , 0.        , 0.        , 0.        , 0.        ,\n",
       "       0.        , 0.        , 0.        , 0.        , 0.        ,\n",
       "       0.        , 0.        , 0.        , 0.        , 0.        ,\n",
       "       0.        , 0.        , 0.        , 0.        , 0.        ,\n",
       "       0.        , 0.        , 0.        , 0.        , 0.        ,\n",
       "       0.        , 0.        , 0.        , 0.        , 0.        ,\n",
       "       0.        , 0.        , 0.        , 0.        , 0.        ,\n",
       "       0.        , 0.        , 0.        , 0.        , 0.        ,\n",
       "       0.        , 0.        , 0.        , 0.        , 0.        ,\n",
       "       0.        , 0.        , 0.        , 0.        , 0.        ,\n",
       "       0.        , 0.        , 0.        , 0.        , 0.        ,\n",
       "       0.        , 0.        , 0.        , 0.        , 0.        ,\n",
       "       0.        , 0.        , 0.        , 0.        , 0.        ,\n",
       "       0.        , 0.        , 0.        , 0.        , 0.        ,\n",
       "       0.        , 0.        , 0.        , 0.        , 0.        ,\n",
       "       0.        , 0.        , 0.        , 0.        , 0.        ,\n",
       "       0.        , 0.        , 0.        , 0.        , 0.        ,\n",
       "       0.        , 0.        , 0.        , 0.        , 0.        ,\n",
       "       0.        , 0.        , 0.        , 0.        , 0.        ,\n",
       "       0.        , 0.        , 0.        , 0.        , 0.        ,\n",
       "       0.        , 0.        , 0.        , 0.        , 0.        ,\n",
       "       0.        , 0.        , 0.        , 0.        , 0.        ,\n",
       "       0.        , 0.        , 0.        , 0.        , 0.        ,\n",
       "       0.        , 0.        , 0.        , 0.        , 0.        ,\n",
       "       0.        , 0.        , 0.        , 0.        , 0.        ,\n",
       "       0.        , 0.        , 0.        , 0.        , 0.        ,\n",
       "       0.        , 0.        , 0.        , 0.        , 0.        ,\n",
       "       0.        , 0.        , 0.        , 0.        , 0.        ,\n",
       "       0.        , 0.        , 0.        , 0.        , 0.        ,\n",
       "       0.        , 0.        , 0.        , 0.        , 0.        ,\n",
       "       0.        , 0.        , 0.        , 0.        , 0.        ,\n",
       "       0.        , 0.        , 0.        , 0.        , 0.        ,\n",
       "       0.        , 0.        , 0.        , 0.        , 0.        ,\n",
       "       0.        , 0.        , 0.        , 0.        , 0.        ,\n",
       "       0.        , 0.        , 0.        , 0.        , 0.        ,\n",
       "       0.        , 0.        , 0.        , 0.        , 0.        ,\n",
       "       0.        , 0.        , 0.        , 0.        , 0.        ,\n",
       "       0.        , 0.        , 0.        , 0.        , 0.        ,\n",
       "       0.        , 0.        , 0.        , 0.        , 0.        ,\n",
       "       0.        , 0.        , 0.        , 0.        , 0.        ,\n",
       "       0.        , 0.        , 0.        , 0.        , 0.        ,\n",
       "       0.        , 0.        , 0.        , 0.        , 0.        ,\n",
       "       0.        , 0.        , 0.        , 0.        , 0.        ,\n",
       "       0.        , 0.        , 0.        , 0.        , 0.        ,\n",
       "       0.        , 0.        , 0.        , 0.        , 0.        ,\n",
       "       0.        , 0.        , 0.        , 0.        , 0.        ,\n",
       "       0.        , 0.        , 0.        , 0.        , 0.        ,\n",
       "       0.        , 0.        , 0.        , 0.        , 0.        ,\n",
       "       0.        , 0.        , 0.        , 0.        , 0.        ,\n",
       "       0.        , 0.        , 0.        , 0.        , 0.        ,\n",
       "       0.        , 0.        , 0.        , 0.        , 0.        ,\n",
       "       0.        , 0.        , 0.        , 0.        , 0.        ,\n",
       "       0.        , 0.        , 0.        , 0.        , 0.        ,\n",
       "       0.        , 0.        , 0.        , 0.        , 0.        ,\n",
       "       0.        , 0.        , 0.        , 0.        , 0.        ,\n",
       "       0.        , 0.        , 0.        , 0.        , 0.        ,\n",
       "       0.        , 0.        , 0.        , 0.        , 0.        ,\n",
       "       0.        , 0.        , 0.        , 0.        , 0.        ,\n",
       "       0.        , 0.        , 0.        , 0.        , 0.        ,\n",
       "       0.        , 0.        , 0.        , 0.        , 0.        ,\n",
       "       0.        , 0.        , 0.        , 0.        , 0.        ,\n",
       "       0.        , 0.        , 0.        , 0.        , 0.        ,\n",
       "       0.        , 0.        , 0.        , 0.        , 0.        ,\n",
       "       0.        , 0.        , 0.        , 0.        , 0.        ,\n",
       "       0.        , 0.        , 0.        , 0.        , 0.        ],\n",
       "      dtype=float32)"
      ]
     },
     "execution_count": 28,
     "metadata": {},
     "output_type": "execute_result"
    }
   ],
   "source": [
    "np.transpose(records['mobidb-pdb_cnn_3_6_1']['A5FB55']['learned_features'])[-2]"
   ]
  },
  {
   "cell_type": "code",
   "execution_count": 26,
   "id": "overhead-outside",
   "metadata": {},
   "outputs": [
    {
     "data": {
      "text/plain": [
       "array([[0.       , 0.       , 0.       , ..., 0.       , 2.903051 ,\n",
       "        0.       ],\n",
       "       [0.       , 0.       , 0.       , ..., 0.       , 1.7324278,\n",
       "        0.       ],\n",
       "       [0.       , 0.       , 0.       , ..., 0.       , 1.2580488,\n",
       "        0.       ],\n",
       "       ...,\n",
       "       [0.       , 0.       , 0.       , ..., 0.       , 0.       ,\n",
       "        0.       ],\n",
       "       [0.       , 0.       , 0.       , ..., 0.       , 0.       ,\n",
       "        0.       ],\n",
       "       [0.       , 0.       , 0.       , ..., 0.       , 0.       ,\n",
       "        0.       ]], dtype=float32)"
      ]
     },
     "execution_count": 26,
     "metadata": {},
     "output_type": "execute_result"
    }
   ],
   "source": [
    "records['mobidb-pdb_cnn_3_6_1']['A5FB55']['learned_features']"
   ]
  },
  {
   "cell_type": "code",
   "execution_count": null,
   "id": "alpine-boston",
   "metadata": {},
   "outputs": [],
   "source": [
    "# Construct matrix of learned feature values\n",
    "# Columns represent positions\n",
    "# Rows represent features\n",
    "\n",
    "# need concatenate all positions for each feature together (concatenate?)\n",
    "# make list of rows\n",
    "# convert list to numpy array"
   ]
  }
 ],
 "metadata": {
  "kernelspec": {
   "display_name": "Python 3",
   "language": "python",
   "name": "python3"
  },
  "language_info": {
   "codemirror_mode": {
    "name": "ipython",
    "version": 3
   },
   "file_extension": ".py",
   "mimetype": "text/x-python",
   "name": "python",
   "nbconvert_exporter": "python",
   "pygments_lexer": "ipython3",
   "version": "3.8.3"
  }
 },
 "nbformat": 4,
 "nbformat_minor": 5
}
