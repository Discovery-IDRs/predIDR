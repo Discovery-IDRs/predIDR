{
 "cells": [
  {
   "cell_type": "code",
   "execution_count": null,
   "id": "metropolitan-effectiveness",
   "metadata": {},
   "outputs": [],
   "source": [
    "\"\"\"Calculate correlations between learned and known features.\"\"\""
   ]
  },
  {
   "cell_type": "code",
   "execution_count": null,
   "id": "little-detective",
   "metadata": {},
   "outputs": [],
   "source": [
    "# define desired model, model layer, and window size for analysis\n",
    "\n",
    "model_acc = \"6_2\" # [\"3_6_1\", \"6_2\", \"7_1_2\", \"7_2_2\", \"7_3_2\"]\n",
    "layer_name = \"conv1d2\"\n",
    "known_window = 20 # [10,20,30,40,50]"
   ]
  },
  {
   "cell_type": "code",
   "execution_count": null,
   "id": "absolute-efficiency",
   "metadata": {},
   "outputs": [],
   "source": [
    "import os\n",
    "\n",
    "import matplotlib.pyplot as plt\n",
    "import numpy as np\n",
    "import tensorflow as tf\n",
    "import src.models.utils\n",
    "import src.utils\n",
    "from scipy.cluster.hierarchy import linkage\n",
    "from scipy.spatial.distance import pdist\n",
    "\n",
    "\n",
    "class MaskedConv1D(tf.keras.layers.Conv1D):\n",
    "    def __init__(self, filters, kernel_size, **kwargs):\n",
    "        super().__init__(filters, kernel_size, **kwargs)\n",
    "        self.supports_masking = True"
   ]
  },
  {
   "cell_type": "code",
   "execution_count": null,
   "id": "discrete-trouble",
   "metadata": {},
   "outputs": [],
   "source": [
    "alphabet = ['A', 'C', 'D', 'E', 'F', 'G', 'H', 'I', 'K', 'L', 'M', 'N', 'P', 'Q', 'R', 'S', 'T', 'V', 'W', 'Y']\n",
    "weights = {'0': 1, '1': 2, '-': 3}\n",
    "batch_size = 32\n",
    "\n",
    "batch_data = src.models.utils.load_data('../../mobidb-pdb_validation/split_data/out/all_seqs.fasta', \n",
    "                                        '../../mobidb-pdb_validation/split_data/out/all_labels.fasta')\n",
    "\n",
    "batches = src.models.utils.BatchGenerator(batch_data, batch_size, alphabet, weights,\n",
    "                                          shuffle=False, all_records=True)\n",
    "\n",
    "seq_fasta = src.utils.read_fasta('../../mobidb-pdb_validation/split_data/out/all_seqs.fasta')\n",
    "\n",
    "known_feature_dir = f\"../generate_maps/out/window_size{known_window}\"\n",
    "\n",
    "# load in names of known features from first file in known_feature_dir\n",
    "known_feature_names = np.loadtxt(f\"{known_feature_dir}/{os.listdir(known_feature_dir)[0]}\", dtype = str, max_rows = 1)"
   ]
  },
  {
   "cell_type": "code",
   "execution_count": null,
   "id": "varying-elimination",
   "metadata": {},
   "outputs": [],
   "source": [
    "# Extract accessions\n",
    "protein_acc = []\n",
    "for accession, _, in seq_fasta:\n",
    "    protein_acc.append(accession.split(\"|\")[0][1:]) # Keep only acc"
   ]
  },
  {
   "cell_type": "code",
   "execution_count": null,
   "id": "regular-malawi",
   "metadata": {},
   "outputs": [],
   "source": [
    "# Calculate learned features\n",
    "model_name = f\"mobidb-pdb_cnn_{model_acc}\"\n",
    "model_path = f\"../../models/{model_name}/out_model/{model_name}.h5\"\n",
    "model = tf.keras.models.load_model(model_path, custom_objects={\"MaskedConv1D\":MaskedConv1D})\n",
    "\n",
    "layer = model.get_layer(layer_name)\n",
    "feature_extractor = tf.keras.Model(inputs=model.inputs, outputs=layer.output)\n",
    "    \n",
    "learned_features = []\n",
    "for input, _, training_weights, in batches:  # Predict method was acting strange, so extract individual batches\n",
    "    features = feature_extractor(input).numpy()\n",
    "    features = features[training_weights != 0]  # Drop padding\n",
    "    learned_features.append(features)"
   ]
  },
  {
   "cell_type": "code",
   "execution_count": null,
   "id": "bigger-gibraltar",
   "metadata": {},
   "outputs": [],
   "source": [
    "# Construct matrix of learned feature values\n",
    "learned_feature_array = [array for array in learned_features]\n",
    "learned_feature_array = np.concatenate(learned_feature_array, axis = 0)\n",
    "learned_feature_array = learned_feature_array.transpose()"
   ]
  },
  {
   "cell_type": "code",
   "execution_count": null,
   "id": "saving-wallpaper",
   "metadata": {},
   "outputs": [],
   "source": [
    "# Load in known features\n",
    "known_features = []\n",
    "for acc in protein_acc:\n",
    "    acc_path = f\"{known_feature_dir}/{acc}_feature_map{known_window}.tsv\"\n",
    "    protein_known_features = np.loadtxt(acc_path, skiprows = 1)\n",
    "    known_features.append(protein_known_features)"
   ]
  },
  {
   "cell_type": "code",
   "execution_count": null,
   "id": "engaged-evans",
   "metadata": {},
   "outputs": [],
   "source": [
    "# Construct matrix of known feature values\n",
    "known_feature_array = [array for array in known_features]\n",
    "known_feature_array = np.concatenate(known_feature_array, axis = 0)\n",
    "known_feature_array = known_feature_array.transpose()"
   ]
  },
  {
   "cell_type": "code",
   "execution_count": null,
   "id": "bibliographic-version",
   "metadata": {},
   "outputs": [],
   "source": [
    "# Calculate correlation between known and learned features\n",
    "corr_matrix = np.corrcoef(learned_feature_array, known_feature_array)\n",
    "corr_matrix = corr_matrix[:128, -37:]"
   ]
  },
  {
   "cell_type": "code",
   "execution_count": null,
   "id": "numerical-sleeping",
   "metadata": {},
   "outputs": [],
   "source": [
    "# Generate heatmap\n",
    "import matplotlib\n",
    "import matplotlib.pyplot as plt\n",
    "import seaborn as sns\n",
    "\n",
    "matplotlib.rcParams['pdf.fonttype'] = 42\n",
    "matplotlib.rcParams['ps.fonttype'] = 42\n",
    "matplotlib.rcParams['font.family'] = 'Arial'\n",
    "plt.rcParams[\"xtick.labelsize\"] = 12\n",
    "plt.rcParams[\"ytick.labelsize\"] = 12\n",
    "matplotlib.rcParams.update({'figure.autolayout': True})\n",
    "\n",
    "plt.subplots(figsize=(8,12))\n",
    "plt.title(f\"{model_name} Feature Correlations\", fontsize=16)\n",
    "plt.xlabel('Known Features', fontsize = 12)\n",
    "plt.xlabel('Learned Features', fontsize = 12)\n",
    "\n",
    "heatmap = sns.heatmap(corr_matrix,\n",
    "                      vmin=-0.5,\n",
    "                      vmax=0.5,\n",
    "                      xticklabels=known_feature_names,\n",
    "                      yticklabels=2,\n",
    "                      cmap=\"RdYlBu_r\",\n",
    "                      cbar_kws={\"ticks\":np.arange(-0.5,0.6,0.1)})\n",
    "\n",
    "fig = heatmap.get_figure()"
   ]
  },
  {
   "cell_type": "code",
   "execution_count": null,
   "id": "e1abb721",
   "metadata": {},
   "outputs": [],
   "source": [
    "class TreeNode:\n",
    "    def __init__(self, name=None, children=None):\n",
    "        self.name = name\n",
    "        self.children = children if children is not None else []\n",
    "\n",
    "        \n",
    "def make_tree(lm):\n",
    "    num_tips = len(lm) + 1\n",
    "    nodes = {node_id: TreeNode(name=node_id, children=[]) for node_id in range(num_tips)}\n",
    "    heights = {node_id: 0 for node_id in range(2*num_tips-1)}\n",
    "    for idx in range(len(lm)):\n",
    "        node_id = idx + num_tips\n",
    "        child_id1, child_id2, distance, _ = lm[idx]\n",
    "        child1, child2 = nodes[child_id1], nodes[child_id2]\n",
    "        height1, height2 = heights[child_id1], heights[child_id2]\n",
    "        child1.length = distance - height1\n",
    "        child2.length = distance - height2\n",
    "        parent = TreeNode(name=node_id, children=[child1, child2])\n",
    "        nodes[node_id] = parent\n",
    "        heights[node_id] = distance\n",
    "    tree = nodes[2*(num_tips-1)]\n",
    "    return tree\n",
    "\n",
    "\n",
    "def get_tip_order(tree):\n",
    "    tip_order = []\n",
    "    stack = [tree]\n",
    "    while stack:\n",
    "        node = stack.pop()\n",
    "        if node.children:\n",
    "            stack.extend(node.children)\n",
    "        else:\n",
    "            tip_order.append(node.name)\n",
    "    return tip_order\n",
    "\n",
    "\n",
    "# Identify constant learned features with NaN correlations\n",
    "nan_rows = []\n",
    "nonnan_rows = []\n",
    "for i, isnan in enumerate(np.any(np.isnan(corr_matrix.transpose()), axis=0)):\n",
    "    if isnan:\n",
    "        nan_rows.append(i)\n",
    "    else:\n",
    "        nonnan_rows.append(i)\n",
    "\n",
    "# Sort learned features by correlation hierarchy\n",
    "nan_array = corr_matrix[nan_columns]\n",
    "nonnan_array = corr_matrix[nonnan_columns]\n",
    "cdm = pdist(nonnan_array, metric='correlation')\n",
    "lm = linkage(cdm, method='average')\n",
    "tree = make_tree(lm)\n",
    "tip_order = get_tip_order(tree)\n",
    "array = np.concatenate([nonnan_array[tip_order], nan_array], axis=0)  # Combine sorted non-NaN and NaN features\n",
    "vext = np.nanmax(np.abs(array))\n",
    "\n",
    "# Plot results\n",
    "fig, ax = plt.subplots(figsize=(12.8, 6.4), layout='constrained')\n",
    "im = ax.imshow(array.transpose(), vmin=-vext, vmax=vext, cmap='RdBu_r',\n",
    "               aspect='auto', interpolation='none')\n",
    "ax.set_xlabel('Learned Features')\n",
    "ax.set_ylabel('Known Features')\n",
    "ax.set_yticks(range(len(known_feature_names)), known_feature_names, fontsize=10)\n",
    "ax.set_title(f\"{model_name} Feature Correlations\")\n",
    "fig.colorbar(im)\n",
    "#fig.savefig(f\"out/{model_name}_win{known_window}_corr_matrix.png\", dpi=300);"
   ]
  },
  {
   "cell_type": "code",
   "execution_count": null,
   "id": "assumed-frank",
   "metadata": {},
   "outputs": [],
   "source": [
    "# Save heat map\n",
    "if not os.path.exists('out/'):\n",
    "    os.mkdir('out/')\n",
    "    \n",
    "fig.savefig(f\"out/{model_name}_win{known_window}_corr_matrix.svg\") "
   ]
  },
  {
   "cell_type": "code",
   "execution_count": null,
   "id": "soviet-administrator",
   "metadata": {},
   "outputs": [],
   "source": []
  }
 ],
 "metadata": {
  "kernelspec": {
   "display_name": "Python 3 (ipykernel)",
   "language": "python",
   "name": "python3"
  },
  "language_info": {
   "codemirror_mode": {
    "name": "ipython",
    "version": 3
   },
   "file_extension": ".py",
   "mimetype": "text/x-python",
   "name": "python",
   "nbconvert_exporter": "python",
   "pygments_lexer": "ipython3",
   "version": "3.10.6"
  }
 },
 "nbformat": 4,
 "nbformat_minor": 5
}
