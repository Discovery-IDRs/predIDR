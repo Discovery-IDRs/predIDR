{
 "cells": [
  {
   "cell_type": "code",
   "execution_count": null,
   "id": "dynamic-ethernet",
   "metadata": {},
   "outputs": [],
   "source": [
    "#increase number of nodes even more\n",
    "\n",
    "import os\n",
    "from math import floor\n",
    "\n",
    "import Bio.SeqIO as SeqIO\n",
    "import numpy as np\n",
    "from tensorflow import keras\n",
    "from tensorflow.keras import layers\n",
    "from keras.models import load_model"
   ]
  },
  {
   "cell_type": "code",
   "execution_count": null,
   "id": "metropolitan-tract",
   "metadata": {},
   "outputs": [],
   "source": [
    "class BatchGenerator(keras.utils.Sequence):\n",
    "    \"\"\"Label, batch, and pad protein sequence data.\n",
    "\n",
    "    Only complete batches are returned, so a single epoch may not train on every example.\"\"\"\n",
    "    def __init__(self, records, batch_size, sym_codes, shuffle=True):\n",
    "        self.records = records\n",
    "        self.indices = np.arange(len(self.records))\n",
    "        self.batch_size = batch_size\n",
    "        self.shuffle = shuffle\n",
    "        self.ctable = {}  # Category table\n",
    "        for i, sym_code in enumerate(sym_codes):\n",
    "            self.ctable[sym_code] = i\n",
    "        self.on_epoch_end()\n",
    "\n",
    "    def __len__(self):\n",
    "        \"\"\"Return number of batches.\"\"\"\n",
    "        return floor(len(self.records) / self.batch_size)\n",
    "\n",
    "    def __getitem__(self, index):\n",
    "        \"\"\"Generate one batch of data.\"\"\"\n",
    "        indices = self.indices[index*self.batch_size:(index+1)*self.batch_size]\n",
    "        records = [self.records[i] for i in indices]\n",
    "        max_len = max([len(record[0]) for record in records])\n",
    "        x = np.zeros((self.batch_size, max_len))\n",
    "        y = np.zeros((self.batch_size, max_len))\n",
    "        for i, (syms, labels) in enumerate(records):\n",
    "            x[i, :len(syms)] = [self.ctable.get(sym, 0) for sym in syms]\n",
    "            y[i, :len(syms)] = [int(label) for label in labels]\n",
    "\n",
    "        x = keras.utils.to_categorical(x, num_classes=len(self.ctable))\n",
    "        y = keras.utils.to_categorical(y, num_classes=2)\n",
    "        for i, (syms, _) in enumerate(records):\n",
    "            x[i, len(syms):, :] = 0\n",
    "            y[i, len(syms):, :] = 0\n",
    "        return x, y\n",
    "\n",
    "    def on_epoch_end(self):\n",
    "        \"\"\"Shuffles data after each epoch.\"\"\"\n",
    "        if self.shuffle:\n",
    "            np.random.shuffle(self.indices)\n",
    "\n",
    "def load_data(seqs_path, labels_path):\n",
    "    # Load files\n",
    "    seqs = {}\n",
    "    for record in SeqIO.parse(seqs_path, 'fasta'):\n",
    "        accession = record.description.split('|')[0]\n",
    "        seq = str(record.seq)\n",
    "        seqs[accession] = seq\n",
    "    labels = {}\n",
    "    for record in SeqIO.parse(labels_path, 'fasta'):\n",
    "        accession = record.description.split('|')[0]\n",
    "        label = str(record.seq)\n",
    "        labels[accession] = label\n",
    "\n",
    "    # Bundle seqs and labels into single object\n",
    "    records = []\n",
    "    for accession, seq in seqs.items():\n",
    "        records.append((seq, labels[accession]))\n",
    "\n",
    "    return records\n",
    "\n",
    "def decode(x, sym_codes):\n",
    "    \"\"\"Decodes a vector of indices to their amino acid symbols.\"\"\"\n",
    "    ctable, i = {0: 'X'}, 1\n",
    "    for sym_code in sym_codes:\n",
    "        ctable[i] = sym_code\n",
    "        i += 1\n",
    "    records = []\n",
    "    for indices in x:\n",
    "        syms = [ctable[index] for index in indices]\n",
    "        records.append(''.join(syms))\n",
    "    return records\n",
    "\n",
    "class MaskedConv1D(keras.layers.Conv1D):\n",
    "    def __init__(self, filters, kernel_size, **kwargs):\n",
    "        super().__init__(filters, kernel_size, **kwargs)\n",
    "        self.supports_masking = True"
   ]
  },
  {
   "cell_type": "code",
   "execution_count": null,
   "id": "found-child",
   "metadata": {},
   "outputs": [],
   "source": [
    "# Parameters\n",
    "sym_codes = ['A', 'C', 'D', 'E', 'F', 'G', 'H', 'I', 'K', 'L',\n",
    "             'M', 'N', 'P', 'Q', 'R', 'S', 'T', 'V', 'W', 'Y']"
   ]
  },
  {
   "cell_type": "code",
   "execution_count": null,
   "id": "sublime-johnston",
   "metadata": {},
   "outputs": [],
   "source": [
    "# Load data\n",
    "train_records = load_data('../../mobidb_validation/split_data/out/train_as_fasta.fasta', '../../mobidb_validation/split_data/out/train_labels_as_fasta.fasta')\n",
    "validation_records = load_data('../../mobidb_validation/split_data/out/val_as_fasta.fasta', '../../mobidb_validation/split_data/out/val_labels_as_fasta.fasta')\n",
    "test_records = load_data('../../mobidb_validation/split_data/out/test_as_fasta.fasta', '../../mobidb_validation/split_data/out/test_labels_as_fasta.fasta')"
   ]
  },
  {
   "cell_type": "code",
   "execution_count": null,
   "id": "convertible-testimony",
   "metadata": {},
   "outputs": [],
   "source": [
    "# Batch data\n",
    "train_batches = BatchGenerator(train_records, 32, sym_codes)\n",
    "validation_batches = BatchGenerator(validation_records, 1, sym_codes)\n",
    "test_batches = BatchGenerator(test_records, 1, sym_codes)"
   ]
  },
  {
   "cell_type": "code",
   "execution_count": null,
   "id": "living-demonstration",
   "metadata": {},
   "outputs": [],
   "source": [
    "# Build model\n",
    "inputs = keras.layers.Input(shape=(None, 20), name='input1')\n",
    "x = layers.Masking(mask_value=0, name='mask1')(inputs)\n",
    "x = MaskedConv1D(512, 20, padding='same', activation='relu', name='conv1d1')(x)\n",
    "x = MaskedConv1D(512, 20, padding='same', activation='relu', name='conv1d2')(x)\n",
    "outputs = layers.Dense(2, activation='softmax', name='dense1')(x)\n",
    "\n",
    "model = keras.Model(inputs=inputs, outputs=outputs, name=\"jason_cnn_9\")\n",
    "model.compile(loss='binary_crossentropy', optimizer='adam', metrics=['binary_accuracy'])\n",
    "model.summary()"
   ]
  },
  {
   "cell_type": "code",
   "execution_count": null,
   "id": "italic-monthly",
   "metadata": {},
   "outputs": [],
   "source": [
    "# Train model\n",
    "# Epochs are written explicitly in a training loop since Keras\n",
    "# does not support generators for calculating validation metrics\n",
    "histories = []\n",
    "validation_metrics = []\n",
    "for i in range(50):\n",
    "    # Fit\n",
    "    print(f'EPOCH {i}')\n",
    "    history = model.fit(train_batches, epochs=1)\n",
    "    histories.append(history)\n",
    "\n",
    "    # Evaluate\n",
    "    total = 0\n",
    "    l_count = 0\n",
    "    for batch in validation_batches:\n",
    "        true_labels = batch[1]\n",
    "        pred_labels = model.predict(batch[0])\n",
    "        for true_label, pred_label in zip(true_labels, pred_labels):\n",
    "            idxs = true_label.sum(axis=1).astype(bool)\n",
    "            total += idxs.sum()\n",
    "            l_count += (np.argmax(true_label[idxs], axis=1) == np.argmax(pred_label[idxs], axis=1)).sum()\n",
    "    validation_metrics.append({'total': total, 'l_count': l_count})\n",
    "\n",
    "    print('LABEL ACCURACY:', l_count / total)\n",
    "    print()"
   ]
  },
  {
   "cell_type": "code",
   "execution_count": null,
   "id": "angry-heath",
   "metadata": {},
   "outputs": [],
   "source": [
    "# Save model\n",
    "if not os.path.exists('out/'):\n",
    "    os.mkdir('out/')\n",
    "\n",
    "model.save('out/jason_cnn_9.h5')"
   ]
  },
  {
   "cell_type": "code",
   "execution_count": null,
   "id": "basic-induction",
   "metadata": {},
   "outputs": [],
   "source": [
    "model = load_model(\"out/jason_cnn_9.h5\", custom_objects={\"MaskedConv1D\": MaskedConv1D})"
   ]
  },
  {
   "cell_type": "code",
   "execution_count": null,
   "id": "visible-stereo",
   "metadata": {},
   "outputs": [],
   "source": [
    "# Evaluate\n",
    "total = 0\n",
    "l_count = 0\n",
    "for batch in validation_batches:\n",
    "    true_labels = batch[1]\n",
    "    pred_labels = model.predict(batch[0])\n",
    "    for true_label, pred_label in zip(true_labels, pred_labels):\n",
    "        idxs = true_label.sum(axis=1).astype(bool)\n",
    "        total += idxs.sum()\n",
    "        l_count += (np.argmax(true_label[idxs], axis=1) == np.argmax(pred_label[idxs], axis=1)).sum()\n",
    "\n",
    "print('LABEL ACCURACY:', l_count / total)\n",
    "print()"
   ]
  }
 ],
 "metadata": {
  "kernelspec": {
   "display_name": "Python 3",
   "language": "python",
   "name": "python3"
  },
  "language_info": {
   "codemirror_mode": {
    "name": "ipython",
    "version": 3
   },
   "file_extension": ".py",
   "mimetype": "text/x-python",
   "name": "python",
   "nbconvert_exporter": "python",
   "pygments_lexer": "ipython3",
   "version": "3.8.3"
  }
 },
 "nbformat": 4,
 "nbformat_minor": 5
}
