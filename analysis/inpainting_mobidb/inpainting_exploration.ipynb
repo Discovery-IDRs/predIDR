{
 "cells": [
  {
   "cell_type": "code",
   "execution_count": null,
   "metadata": {},
   "outputs": [],
   "source": [
    "import os\n",
    "\n",
    "import matplotlib.pyplot as plt\n",
    "import numpy as np\n",
    "import pandas as pd\n",
    "import scipy.ndimage as ndimage\n",
    "from Bio import SeqIO"
   ]
  },
  {
   "cell_type": "code",
   "execution_count": null,
   "metadata": {},
   "outputs": [],
   "source": [
    "fasta_seq = SeqIO.parse('../mobidb_validation/generate_fastas/out/allseq.fasta', 'fasta')\n",
    "fasta_disorder = SeqIO.parse('../mobidb_validation/generate_fastas/out/alldisorder.fasta', 'fasta')"
   ]
  },
  {
   "cell_type": "code",
   "execution_count": null,
   "metadata": {},
   "outputs": [],
   "source": [
    "def get_segments(aa_seq, label_seq, segment_type, accession, description):\n",
    "    #print(label_seq)\n",
    "    slices = ndimage.find_objects(ndimage.label(label_seq)[0])\n",
    "    #print(slices)\n",
    "    ds = []\n",
    "    for s in slices:\n",
    "        segment = aa_seq[s[0]]  # Unpack 1-element slice tuple\n",
    "        d = {'accession': accession, 'description': description, \n",
    "             'segment_type': segment_type, 'len': len(segment), \n",
    "             'index': (s[0].start, s[0].stop)}\n",
    "        \n",
    "        aa_counts = count_amino_acids(segment)\n",
    "        d.update(aa_counts)\n",
    "        ds.append(d)\n",
    "    return ds\n",
    "\n",
    "\n",
    "def count_amino_acids(aa_seq):\n",
    "    aa_codes = ['A', 'R', 'N', 'D', 'C', 'Q', 'E', 'G', 'H',\n",
    "                'I', 'L', 'K', 'M', 'F', 'P', 'S', 'T', 'W', \n",
    "                'Y', 'V', 'O', 'U', 'B', 'Z', 'X', 'J']\n",
    "    d = {aa: 0 for aa in aa_codes}\n",
    "    for aa in aa_seq:\n",
    "        d[aa] += 1\n",
    "    return d"
   ]
  },
  {
   "cell_type": "code",
   "execution_count": null,
   "metadata": {},
   "outputs": [],
   "source": [
    "protein_seq_dict = {}\n",
    "for protein in fasta_seq:\n",
    "    protein_seq_dict[protein.id.split(\"|\")[0]] = str(protein.seq)"
   ]
  },
  {
   "cell_type": "code",
   "execution_count": null,
   "metadata": {},
   "outputs": [],
   "source": [
    "rows = []\n",
    "for protein in fasta_disorder:\n",
    "    dis_labels = [s == '1' for s in protein.seq]\n",
    "    ord_labels = [s == '0' for s in protein.seq]\n",
    "\n",
    "    accession = protein.id.split(\"|\")[0]\n",
    "    description = protein.description.split(\"|\")[-1]\n",
    "    aa_seq = protein_seq_dict[accession]\n",
    "    \n",
    "    # Disordered regions have the code 'D' and ordered regions have the code 'O'\n",
    "    # The entire protein is added with the code 'P'\n",
    "    ds_dis = get_segments(aa_seq, dis_labels, 'D', accession, description)\n",
    "    ds_ord = get_segments(aa_seq, ord_labels, 'O', accession, description)\n",
    "    ds_all = get_segments(aa_seq, [True for _ in range(len(aa_seq))], 'P', accession, description)\n",
    "\n",
    "    # Add ds to rows\n",
    "    rows.extend(ds_dis)\n",
    "    rows.extend(ds_ord)\n",
    "    rows.extend(ds_all)\n",
    "df1 = pd.DataFrame(rows)\n",
    "print(df1)"
   ]
  },
  {
   "cell_type": "code",
   "execution_count": null,
   "metadata": {},
   "outputs": [],
   "source": [
    "df1"
   ]
  },
  {
   "cell_type": "markdown",
   "metadata": {},
   "source": [
    "# Length Distribution of Disordered Regions in Proteins"
   ]
  },
  {
   "cell_type": "code",
   "execution_count": null,
   "metadata": {},
   "outputs": [],
   "source": [
    "disorder = df1[df1['segment_type'] == 'D']\n",
    "plt.hist(disorder['len'], bins=50)\n",
    "plt.yscale('log')\n",
    "plt.ylabel('Number of entries')\n",
    "plt.xlabel('Number of Amino Acids')\n",
    "plt.title('Length of Disordered Regions')"
   ]
  },
  {
   "cell_type": "markdown",
   "metadata": {},
   "source": [
    "## Length of Disordered Regions Upper Limit"
   ]
  },
  {
   "cell_type": "markdown",
   "metadata": {},
   "source": [
    "Length of the disordered regions drops off significantly after about a length of 90, making the upper limit of the length of our data amino acid sequence be 180, because we want >50% unmasked (amino acid sequences of the ordered regions). "
   ]
  },
  {
   "cell_type": "code",
   "execution_count": null,
   "metadata": {},
   "outputs": [],
   "source": [
    "disless100 = disorder[disorder['len'] <= 100]\n",
    "plt.hist(disless100['len'])"
   ]
  },
  {
   "cell_type": "markdown",
   "metadata": {},
   "source": [
    "The cut off for a disordered region is more than 30 amino acid residues. And we want the max disordered region length to be 90 amino acids, as stated above. This gives us 5,619 proteins for our dataset"
   ]
  },
  {
   "cell_type": "code",
   "execution_count": null,
   "metadata": {},
   "outputs": [],
   "source": [
    "dismore30 = disless100[disless100['len'] >= 30]\n",
    "plt.hist(dismore30['len'])\n",
    "disless90 = dismore30[dismore30['len'] <= 90] \n",
    "plt.hist(disless90['len'])"
   ]
  },
  {
   "cell_type": "code",
   "execution_count": null,
   "metadata": {},
   "outputs": [],
   "source": [
    "disless90"
   ]
  }
 ],
 "metadata": {
  "kernelspec": {
   "display_name": "Python 3",
   "language": "python",
   "name": "python3"
  },
  "language_info": {
   "codemirror_mode": {
    "name": "ipython",
    "version": 3
   },
   "file_extension": ".py",
   "mimetype": "text/x-python",
   "name": "python",
   "nbconvert_exporter": "python",
   "pygments_lexer": "ipython3",
   "version": "3.8.5"
  }
 },
 "nbformat": 4,
 "nbformat_minor": 4
}
