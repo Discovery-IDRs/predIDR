{
 "cells": [
  {
   "cell_type": "code",
   "execution_count": 1,
   "metadata": {},
   "outputs": [],
   "source": [
    "import math\n",
    "import os\n",
    "import random\n",
    "import datetime;\n",
    "\n",
    "from Bio import SeqIO"
   ]
  },
  {
   "cell_type": "code",
   "execution_count": 2,
   "metadata": {},
   "outputs": [],
   "source": [
    "# Load data \n",
    "fasta_seq = SeqIO.parse(\"../out/label.fasta\", 'fasta')\n",
    "fasta_label = SeqIO.parse(\"../out/unmasked_seq_file.fasta\", 'fasta')"
   ]
  },
  {
   "cell_type": "code",
   "execution_count": 3,
   "metadata": {},
   "outputs": [],
   "source": [
    "# Ratio for splitting into validation, test and train \n",
    "train_ratio = .80 \n",
    "validation_ratio = .10 \n",
    "test_ratio = .10 "
   ]
  },
  {
   "cell_type": "code",
   "execution_count": 4,
   "metadata": {},
   "outputs": [],
   "source": [
    "# Create dictionary with key-value pair, \"protein_accession|start_ind:last_ind\" : [\"protein_labels\", \"amino_acid_seq\", \"description\"] \n",
    "protein_dict = {}\n",
    "\n",
    "# Load amino acid sequences into dictionary from allseq.fasta \n",
    "for protein in fasta_seq:\n",
    "    key = protein.id.split(\"|\")[0] + \"|\" + protein.description.split(\"|\")[-1]\n",
    "    protein_dict[key] = [str(protein.seq)]\n",
    "\n",
    "# Edit dictionary to include amino acid sequence, labels, and descriptions from alldisorder.fasta \n",
    "for protein in fasta_label:\n",
    "    key = protein.id.split(\"|\")[0] + \"|\" + protein.description.split(\"|\")[-1]\n",
    "    protein_dict[key] = protein_dict.get(key) + [str(protein.seq)] + [protein.description]\n",
    "    #accession = protein.id.split(\"|\")[0]\n",
    "    #protein_dict[accession] = protein_dict.get(accession) + [str(protein.seq)] + [protein.description]"
   ]
  },
  {
   "cell_type": "code",
   "execution_count": 5,
   "metadata": {},
   "outputs": [],
   "source": [
    "# Data Shuffling\n",
    "\n",
    "# 2D list with a each list inside of the list for each protein [[\"protein_label\", \"amino_acid_sequence\", \"description\"],..]\n",
    "protein_lst = list(protein_dict.values())\n",
    "\n",
    "# Use random seed for shuffling\n",
    "random.seed(7)\n",
    "random.shuffle(protein_lst)\n",
    "\n",
    "# Extract by index \n",
    "train_length = math.ceil(0.8*len(protein_lst))\n",
    "test_length = math.ceil(0.1*len(protein_lst))\n",
    "\n",
    "train = protein_lst[:train_length]\n",
    "test = protein_lst[train_length:train_length+test_length]\n",
    "validation = protein_lst[train_length+test_length:]  # Validation gets remainder if split is not even"
   ]
  },
  {
   "cell_type": "code",
   "execution_count": 6,
   "metadata": {},
   "outputs": [],
   "source": [
    "# Create out directory to put fasta files in\n",
    "data_path = \"out/\"\n",
    "if not os.path.exists(data_path):\n",
    "        os.mkdir(data_path)"
   ]
  },
  {
   "cell_type": "code",
   "execution_count": 7,
   "metadata": {},
   "outputs": [],
   "source": [
    "# Method for creating files \n",
    "\n",
    "def write_fasta(lst, label_or_seq, file_name):\n",
    "    with open(data_path + file_name, \"w+\") as fasta_file:\n",
    "        for record in lst:\n",
    "            if label_or_seq == \"label\":\n",
    "                label_str = \"\\n\".join(record[0][i:i+80] for i in range(0, len(record[0]), 80)) \n",
    "                fasta_file.write(\">\" + record[2] + \"\\n\" + label_str + \"\\n\")\n",
    "            elif label_or_seq == \"seq\":\n",
    "                seq_str = \"\\n\".join(record[1][i:i+80] for i in range(0, len(record[1]), 80))\n",
    "                fasta_file.write(\">\" + record[2] + \"\\n\" + seq_str + \"\\n\")\n",
    "                \n",
    "    ct = datetime.datetime.now()\n",
    "    print(file_name + \" created \", ct)"
   ]
  },
  {
   "cell_type": "code",
   "execution_count": 8,
   "metadata": {},
   "outputs": [
    {
     "name": "stdout",
     "output_type": "stream",
     "text": [
      "validation_label.fasta created  2021-07-09 15:30:47.450475\n"
     ]
    }
   ],
   "source": [
    "write_fasta(validation, \"label\", \"validation_label.fasta\")"
   ]
  },
  {
   "cell_type": "code",
   "execution_count": 9,
   "metadata": {},
   "outputs": [
    {
     "name": "stdout",
     "output_type": "stream",
     "text": [
      "validation_seq.fasta created  2021-07-09 15:30:47.483696\n"
     ]
    }
   ],
   "source": [
    "write_fasta(validation, \"seq\", \"validation_seq.fasta\")"
   ]
  },
  {
   "cell_type": "code",
   "execution_count": 10,
   "metadata": {},
   "outputs": [
    {
     "name": "stdout",
     "output_type": "stream",
     "text": [
      "test_label.fasta created  2021-07-09 15:30:47.547501\n"
     ]
    }
   ],
   "source": [
    "write_fasta(test, \"label\", \"test_label.fasta\")"
   ]
  },
  {
   "cell_type": "code",
   "execution_count": 11,
   "metadata": {},
   "outputs": [
    {
     "name": "stdout",
     "output_type": "stream",
     "text": [
      "test_seq.fasta created  2021-07-09 15:30:47.588044\n"
     ]
    }
   ],
   "source": [
    "write_fasta(test, \"seq\", \"test_seq.fasta\")"
   ]
  },
  {
   "cell_type": "code",
   "execution_count": 12,
   "metadata": {},
   "outputs": [
    {
     "name": "stdout",
     "output_type": "stream",
     "text": [
      "train_label.fasta created  2021-07-09 15:30:47.671631\n"
     ]
    }
   ],
   "source": [
    "write_fasta(train, \"label\", \"train_label.fasta\")"
   ]
  },
  {
   "cell_type": "code",
   "execution_count": 13,
   "metadata": {},
   "outputs": [
    {
     "name": "stdout",
     "output_type": "stream",
     "text": [
      "train_seq.fasta created  2021-07-09 15:30:47.720789\n"
     ]
    }
   ],
   "source": [
    "write_fasta(train, \"seq\", \"train_seq.fasta\")"
   ]
  }
 ],
 "metadata": {
  "kernelspec": {
   "display_name": "Python 3",
   "language": "python",
   "name": "python3"
  },
  "language_info": {
   "codemirror_mode": {
    "name": "ipython",
    "version": 3
   },
   "file_extension": ".py",
   "mimetype": "text/x-python",
   "name": "python",
   "nbconvert_exporter": "python",
   "pygments_lexer": "ipython3",
   "version": "3.8.5"
  }
 },
 "nbformat": 4,
 "nbformat_minor": 4
}
