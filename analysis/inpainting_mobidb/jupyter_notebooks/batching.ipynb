{
 "cells": [
  {
   "cell_type": "code",
   "execution_count": 2,
   "metadata": {},
   "outputs": [],
   "source": [
    "#!pip install tensorflow"
   ]
  },
  {
   "cell_type": "code",
   "execution_count": 1,
   "metadata": {},
   "outputs": [],
   "source": [
    "import Bio.SeqIO as SeqIO\n",
    "import numpy as np\n",
    "import tensorflow\n",
    "from tensorflow import keras\n",
    "import matplotlib.pyplot as plt"
   ]
  },
  {
   "cell_type": "code",
   "execution_count": 4,
   "metadata": {},
   "outputs": [],
   "source": [
    "# Helper functions\n",
    "def convert_ohc(seqs):\n",
    "    \"\"\"\n",
    "    Converts the given tuple of the accession and amino acid sequence string into\n",
    "    a int list using sym_codes and then one hot encoded the int list using keras.util.to_categorical\n",
    "\n",
    "    :param seqs: list of tuple pair of the accession of the amino acid sequence\n",
    "    and the string of the amino acid sequence ex: [('QP106', 'AASSSDD'), ...]\n",
    "    :return: 2D list of each one hot encoded amino acid sequence ex: [[0,0,0,0,0,0,1], ...]\n",
    "    \"\"\"\n",
    "    x = []\n",
    "    # convert string amino acid string characters into int list\n",
    "    for _, seq in seqs:\n",
    "        seq_idx = [sym_codes.index(sym) for sym in seq]\n",
    "        x.append(seq_idx)\n",
    "\n",
    "    # convert list into numpy array and one hot encode int array\n",
    "    x = np.array(x)\n",
    "    x = keras.utils.to_categorical(x, num_classes=len(sym_codes))\n",
    "    return x"
   ]
  },
  {
   "cell_type": "code",
   "execution_count": 2,
   "metadata": {},
   "outputs": [],
   "source": [
    "def load_data(seqs_path, labels_path):\n",
    "    \"\"\"\n",
    "    Given the path to the fasta files of the sequence and labels\n",
    "    returns a list of a tuple pair of the accession of sequence/label\n",
    "    and a string of sequence/string.\n",
    "\n",
    "    :param seqs_path: file path to fasta file with amino acid sequence data\n",
    "    :param labels_path: file path to fasta file with binary label data\n",
    "    \n",
    "    :return: [(accession_seq, 'amino_acid_seq')], [(accession_label, 'label')]\n",
    "            ex: [('QP106', 'AASSSDD'), ...], [('QP106', '00001111000'), ...]\n",
    "    \"\"\"\n",
    "\n",
    "    # Load files\n",
    "    seqs = []\n",
    "    for record in SeqIO.parse(seqs_path, 'fasta'):\n",
    "        accession = record.description.split('|')[0]\n",
    "        seq = str(record.seq)\n",
    "        seqs.append((accession, seq))\n",
    "\n",
    "    labels = []\n",
    "    for record in SeqIO.parse(labels_path, 'fasta'):\n",
    "        accession = record.description.split('|')[0]\n",
    "        label = [int(sym) for sym in record.seq]\n",
    "        labels.append((accession, label))\n",
    "\n",
    "    return seqs, labels"
   ]
  },
  {
   "cell_type": "code",
   "execution_count": 3,
   "metadata": {},
   "outputs": [],
   "source": [
    "# Parameters\n",
    "sym_codes = ['A', 'C', 'D', 'E', 'F', 'G', 'H', 'I', 'K', 'L',\n",
    "             'M', 'N', 'P', 'Q', 'R', 'S', 'T', 'V', 'W', 'Y']"
   ]
  },
  {
   "cell_type": "code",
   "execution_count": 5,
   "metadata": {},
   "outputs": [],
   "source": [
    "# Load data\n",
    "train_seqs, train_labels = load_data('../../inpainting_mobidb/out/train_seq.fasta', '../../inpainting_mobidb/out/train_label.fasta')\n",
    "\n",
    "valid_seqs, valid_labels = load_data('../../inpainting_mobidb/out/validation_seq.fasta','../../inpainting_mobidb/out/validation_label.fasta')\n",
    "\n",
    "test_seqs, test_labels = load_data('../../inpainting_mobidb/out/test_seq.fasta','../../inpainting_mobidb/out/test_label.fasta')"
   ]
  },
  {
   "cell_type": "code",
   "execution_count": 6,
   "metadata": {},
   "outputs": [],
   "source": [
    "# convert character array to numpy array and one hot encode the sequences\n",
    "x_train = convert_ohc(train_seqs)\n",
    "x_test = convert_ohc(test_seqs)\n",
    "x_valid = convert_ohc(valid_seqs)\n",
    "\n",
    "y_train = np.array([label for _, label in train_labels])\n",
    "y_test = np.array([label for _, label in test_labels])\n",
    "y_valid = np.array([label for _, label in valid_labels])"
   ]
  },
  {
   "cell_type": "code",
   "execution_count": 7,
   "metadata": {},
   "outputs": [],
   "source": [
    "# mask the sequences\n",
    "x_train_mask = np.expand_dims(y_train, axis=2)*x_train\n",
    "x_test_mask = np.expand_dims(y_test, axis=2)*x_test\n",
    "x_valid_mask = np.expand_dims(y_valid, axis=2)*x_valid"
   ]
  },
  {
   "cell_type": "code",
   "execution_count": null,
   "metadata": {},
   "outputs": [],
   "source": [
    "# target for sequences \n",
    "x_train_target = np.expand(np.invert(y_train[0]) + 2)\n",
    "x_test_target = np.expand(np.invert(y_test[0]) + 2)\n",
    "x_valid_mask = np.expand(np.invert(y_valid[0]) + 2)"
   ]
  },
  {
   "cell_type": "code",
   "execution_count": 8,
   "metadata": {},
   "outputs": [
    {
     "name": "stdout",
     "output_type": "stream",
     "text": [
      "Length of training set is 1495 and the shape is (1495, 180, 20)\n"
     ]
    }
   ],
   "source": [
    "# Size and shape of \"batch\"\n",
    "batch_len = len(x_train)\n",
    "batch_shape = x_train.shape\n",
    "print(\"Length of training set is \" + str(batch_len) + \" and the shape is \" + str(batch_shape))"
   ]
  },
  {
   "cell_type": "markdown",
   "metadata": {},
   "source": [
    "# Generator Model"
   ]
  },
  {
   "cell_type": "code",
   "execution_count": 9,
   "metadata": {},
   "outputs": [],
   "source": [
    "# make generative model\n",
    "def make_generative_model():\n",
    "    # convolution \n",
    "    model = tensorflow.keras.Sequential()\n",
    "    model.add(keras.Input(shape=((180, 20))))\n",
    "    \n",
    "    # MAYBE 40?????\n",
    "    model.add(keras.layers.Conv1D(8, 3, strides = 1, padding='same', name='first'))\n",
    "    model.add(keras.layers.BatchNormalization())\n",
    "    model.add(keras.layers.ReLU())\n",
    "    \n",
    "    model.add(keras.layers.Conv1D(16, 3, strides = 1, padding='same'))\n",
    "    model.add(keras.layers.BatchNormalization())\n",
    "    model.add(keras.layers.ReLU())\n",
    "    \n",
    "    model.add(keras.layers.Conv1D(32, 3, strides = 1, padding='same'))\n",
    "    model.add(keras.layers.BatchNormalization())\n",
    "    model.add(keras.layers.ReLU())\n",
    "\n",
    "    model.add(keras.layers.Conv1D(64, 3, strides = 1, padding='same'))\n",
    "    model.add(keras.layers.BatchNormalization())\n",
    "    model.add(keras.layers.ReLU())\n",
    "    \n",
    "    model.add(keras.layers.Conv1D(128, 3, strides = 1, padding='same'))\n",
    "    model.add(keras.layers.BatchNormalization())\n",
    "    model.add(keras.layers.ReLU())\n",
    "    \n",
    "    model.add(keras.layers.Conv1D(256, 3, strides = 1, padding='same'))\n",
    "    model.add(keras.layers.BatchNormalization())\n",
    "    model.add(keras.layers.ReLU())\n",
    "    \n",
    "    # deconvolution \n",
    "    model.add(keras.layers.Conv1DTranspose(128, 3, strides = 1, padding='same'))\n",
    "    model.add(keras.layers.BatchNormalization())\n",
    "    model.add(keras.layers.ReLU())\n",
    "    \n",
    "    model.add(keras.layers.Conv1DTranspose(64, 3, strides = 1, padding='same'))\n",
    "    model.add(keras.layers.BatchNormalization())\n",
    "    model.add(keras.layers.ReLU())\n",
    "    \n",
    "    model.add(keras.layers.Conv1DTranspose(32, 3, strides = 1, padding='same'))\n",
    "    model.add(keras.layers.BatchNormalization())\n",
    "    model.add(keras.layers.ReLU())\n",
    "    \n",
    "    model.add(keras.layers.Conv1DTranspose(16, 3, strides = 1, padding='same'))\n",
    "    model.add(keras.layers.BatchNormalization())\n",
    "    model.add(keras.layers.ReLU())\n",
    "    \n",
    "    model.add(keras.layers.Conv1DTranspose(8, 3, strides = 1, padding='same'))\n",
    "    model.add(keras.layers.BatchNormalization())\n",
    "    model.add(keras.layers.ReLU())\n",
    "    \n",
    "    #PLAY AROUND WITH THE RATIO OF FILTER \n",
    "    \n",
    "    model.add(keras.layers.Conv1DTranspose(20, 3, strides = 1, padding='same', activation = 'softmax'))\n",
    "\n",
    "    return model"
   ]
  },
  {
   "cell_type": "code",
   "execution_count": 10,
   "metadata": {},
   "outputs": [
    {
     "data": {
      "text/plain": [
       "(180, 20)"
      ]
     },
     "execution_count": 10,
     "metadata": {},
     "output_type": "execute_result"
    }
   ],
   "source": [
    "x_train_mask[0].shape"
   ]
  },
  {
   "cell_type": "code",
   "execution_count": 11,
   "metadata": {},
   "outputs": [
    {
     "name": "stdout",
     "output_type": "stream",
     "text": [
      "Model: \"sequential\"\n",
      "_________________________________________________________________\n",
      "Layer (type)                 Output Shape              Param #   \n",
      "=================================================================\n",
      "first (Conv1D)               (None, 180, 8)            488       \n",
      "_________________________________________________________________\n",
      "batch_normalization (BatchNo (None, 180, 8)            32        \n",
      "_________________________________________________________________\n",
      "re_lu (ReLU)                 (None, 180, 8)            0         \n",
      "_________________________________________________________________\n",
      "conv1d (Conv1D)              (None, 180, 16)           400       \n",
      "_________________________________________________________________\n",
      "batch_normalization_1 (Batch (None, 180, 16)           64        \n",
      "_________________________________________________________________\n",
      "re_lu_1 (ReLU)               (None, 180, 16)           0         \n",
      "_________________________________________________________________\n",
      "conv1d_1 (Conv1D)            (None, 180, 32)           1568      \n",
      "_________________________________________________________________\n",
      "batch_normalization_2 (Batch (None, 180, 32)           128       \n",
      "_________________________________________________________________\n",
      "re_lu_2 (ReLU)               (None, 180, 32)           0         \n",
      "_________________________________________________________________\n",
      "conv1d_2 (Conv1D)            (None, 180, 64)           6208      \n",
      "_________________________________________________________________\n",
      "batch_normalization_3 (Batch (None, 180, 64)           256       \n",
      "_________________________________________________________________\n",
      "re_lu_3 (ReLU)               (None, 180, 64)           0         \n",
      "_________________________________________________________________\n",
      "conv1d_3 (Conv1D)            (None, 180, 128)          24704     \n",
      "_________________________________________________________________\n",
      "batch_normalization_4 (Batch (None, 180, 128)          512       \n",
      "_________________________________________________________________\n",
      "re_lu_4 (ReLU)               (None, 180, 128)          0         \n",
      "_________________________________________________________________\n",
      "conv1d_4 (Conv1D)            (None, 180, 256)          98560     \n",
      "_________________________________________________________________\n",
      "batch_normalization_5 (Batch (None, 180, 256)          1024      \n",
      "_________________________________________________________________\n",
      "re_lu_5 (ReLU)               (None, 180, 256)          0         \n",
      "_________________________________________________________________\n",
      "conv1d_transpose (Conv1DTran (None, 180, 128)          98432     \n",
      "_________________________________________________________________\n",
      "batch_normalization_6 (Batch (None, 180, 128)          512       \n",
      "_________________________________________________________________\n",
      "re_lu_6 (ReLU)               (None, 180, 128)          0         \n",
      "_________________________________________________________________\n",
      "conv1d_transpose_1 (Conv1DTr (None, 180, 64)           24640     \n",
      "_________________________________________________________________\n",
      "batch_normalization_7 (Batch (None, 180, 64)           256       \n",
      "_________________________________________________________________\n",
      "re_lu_7 (ReLU)               (None, 180, 64)           0         \n",
      "_________________________________________________________________\n",
      "conv1d_transpose_2 (Conv1DTr (None, 180, 32)           6176      \n",
      "_________________________________________________________________\n",
      "batch_normalization_8 (Batch (None, 180, 32)           128       \n",
      "_________________________________________________________________\n",
      "re_lu_8 (ReLU)               (None, 180, 32)           0         \n",
      "_________________________________________________________________\n",
      "conv1d_transpose_3 (Conv1DTr (None, 180, 16)           1552      \n",
      "_________________________________________________________________\n",
      "batch_normalization_9 (Batch (None, 180, 16)           64        \n",
      "_________________________________________________________________\n",
      "re_lu_9 (ReLU)               (None, 180, 16)           0         \n",
      "_________________________________________________________________\n",
      "conv1d_transpose_4 (Conv1DTr (None, 180, 8)            392       \n",
      "_________________________________________________________________\n",
      "batch_normalization_10 (Batc (None, 180, 8)            32        \n",
      "_________________________________________________________________\n",
      "re_lu_10 (ReLU)              (None, 180, 8)            0         \n",
      "_________________________________________________________________\n",
      "conv1d_transpose_5 (Conv1DTr (None, 180, 20)           500       \n",
      "=================================================================\n",
      "Total params: 266,628\n",
      "Trainable params: 265,124\n",
      "Non-trainable params: 1,504\n",
      "_________________________________________________________________\n"
     ]
    }
   ],
   "source": [
    "generator = make_generative_model()\n",
    "generator.summary()"
   ]
  },
  {
   "cell_type": "code",
   "execution_count": 12,
   "metadata": {},
   "outputs": [
    {
     "data": {
      "text/plain": [
       "(5, 180, 20)"
      ]
     },
     "execution_count": 12,
     "metadata": {},
     "output_type": "execute_result"
    }
   ],
   "source": [
    "masked = x_train_mask[0:5]\n",
    "masked.shape"
   ]
  },
  {
   "cell_type": "code",
   "execution_count": 13,
   "metadata": {},
   "outputs": [],
   "source": [
    "generator = make_generative_model()\n",
    "\n",
    "#masked = x_train_mask[0]\n",
    "generated_image = generator.predict(masked)"
   ]
  },
  {
   "cell_type": "code",
   "execution_count": 14,
   "metadata": {},
   "outputs": [
    {
     "data": {
      "text/plain": [
       "(5, 180, 20)"
      ]
     },
     "execution_count": 14,
     "metadata": {},
     "output_type": "execute_result"
    }
   ],
   "source": [
    "generated_image.shape"
   ]
  },
  {
   "cell_type": "markdown",
   "metadata": {},
   "source": [
    "# Discriminator Model"
   ]
  },
  {
   "cell_type": "code",
   "execution_count": 15,
   "metadata": {},
   "outputs": [],
   "source": [
    "# make discrimator model\n",
    "def make_discriminator_model():\n",
    "    model = tensorflow.keras.Sequential()\n",
    "    model.add(keras.Input(shape=((180, 20))))\n",
    "    \n",
    "    model.add(keras.layers.Conv1D(25, 4, strides = 2, padding='same'))\n",
    "    model.add(keras.layers.BatchNormalization())\n",
    "    model.add(keras.layers.ReLU())\n",
    "    \n",
    "    model.add(keras.layers.Conv1D(13, 4, strides = 2, padding='same'))\n",
    "    model.add(keras.layers.BatchNormalization())\n",
    "    model.add(keras.layers.ReLU())\n",
    "    \n",
    "    model.add(keras.layers.Conv1D(7, 4, strides = 2, padding='same'))\n",
    "    model.add(keras.layers.BatchNormalization())\n",
    "    model.add(keras.layers.ReLU())\n",
    "    \n",
    "    model.add(keras.layers.Conv1D(4, 4, strides = 2, padding='same'))\n",
    "    model.add(keras.layers.BatchNormalization())\n",
    "    model.add(keras.layers.ReLU())\n",
    "    \n",
    "    #model.add(keras.layers.Flatten())\n",
    "    model.add(keras.layers.Dense(1, activation = 'softmax'))\n",
    "    \n",
    "    return model"
   ]
  },
  {
   "cell_type": "code",
   "execution_count": 16,
   "metadata": {},
   "outputs": [
    {
     "name": "stdout",
     "output_type": "stream",
     "text": [
      "Model: \"sequential_2\"\n",
      "_________________________________________________________________\n",
      "Layer (type)                 Output Shape              Param #   \n",
      "=================================================================\n",
      "conv1d_10 (Conv1D)           (None, 90, 25)            2025      \n",
      "_________________________________________________________________\n",
      "batch_normalization_22 (Batc (None, 90, 25)            100       \n",
      "_________________________________________________________________\n",
      "re_lu_22 (ReLU)              (None, 90, 25)            0         \n",
      "_________________________________________________________________\n",
      "conv1d_11 (Conv1D)           (None, 45, 13)            1313      \n",
      "_________________________________________________________________\n",
      "batch_normalization_23 (Batc (None, 45, 13)            52        \n",
      "_________________________________________________________________\n",
      "re_lu_23 (ReLU)              (None, 45, 13)            0         \n",
      "_________________________________________________________________\n",
      "conv1d_12 (Conv1D)           (None, 23, 7)             371       \n",
      "_________________________________________________________________\n",
      "batch_normalization_24 (Batc (None, 23, 7)             28        \n",
      "_________________________________________________________________\n",
      "re_lu_24 (ReLU)              (None, 23, 7)             0         \n",
      "_________________________________________________________________\n",
      "conv1d_13 (Conv1D)           (None, 12, 4)             116       \n",
      "_________________________________________________________________\n",
      "batch_normalization_25 (Batc (None, 12, 4)             16        \n",
      "_________________________________________________________________\n",
      "re_lu_25 (ReLU)              (None, 12, 4)             0         \n",
      "_________________________________________________________________\n",
      "dense (Dense)                (None, 12, 1)             5         \n",
      "=================================================================\n",
      "Total params: 4,026\n",
      "Trainable params: 3,928\n",
      "Non-trainable params: 98\n",
      "_________________________________________________________________\n"
     ]
    }
   ],
   "source": [
    "discriminator = make_discriminator_model()\n",
    "discriminator.summary()"
   ]
  },
  {
   "cell_type": "markdown",
   "metadata": {},
   "source": [
    "# Loss Function"
   ]
  },
  {
   "cell_type": "markdown",
   "metadata": {},
   "source": [
    "## Generator Loss"
   ]
  },
  {
   "cell_type": "code",
   "execution_count": 17,
   "metadata": {},
   "outputs": [],
   "source": [
    "# Helper Function to compute cross entropy loss\n",
    "cross_entropy = tensorflow.keras.losses.CategoricalCrossentropy()"
   ]
  },
  {
   "cell_type": "code",
   "execution_count": 18,
   "metadata": {},
   "outputs": [],
   "source": [
    "def generator_loss(fake_output, sample_weights):\n",
    "    return cross_entropy(tensorflow.ones_like(fake_output), fake_output) + cross_entropy(t)"
   ]
  },
  {
   "cell_type": "markdown",
   "metadata": {},
   "source": [
    "## Discriminator Loss"
   ]
  },
  {
   "cell_type": "code",
   "execution_count": 19,
   "metadata": {},
   "outputs": [],
   "source": [
    "def discriminator_loss(real_output, fake_output sample_weights):\n",
    "    real_loss = cross_entropy(tf.ones_like(real_output), real_output)\n",
    "    fake_loss = cross_entropy(tf.zeros_like(fake_output), fake_output)\n",
    "    total_loss = real_loss + fake_loss\n",
    "    return total_loss"
   ]
  },
  {
   "cell_type": "markdown",
   "metadata": {},
   "source": [
    "# Optimizer"
   ]
  },
  {
   "cell_type": "code",
   "execution_count": 20,
   "metadata": {},
   "outputs": [],
   "source": [
    "generator_optimizer = tensorflow.keras.optimizers.Adam(1e-4)\n",
    "discriminator_optimizer = tensorflow.keras.optimizers.Adam(1e-4)"
   ]
  },
  {
   "cell_type": "markdown",
   "metadata": {},
   "source": [
    "# Training Loop"
   ]
  },
  {
   "cell_type": "code",
   "execution_count": 22,
   "metadata": {},
   "outputs": [],
   "source": [
    "EPOCHS = 10"
   ]
  },
  {
   "cell_type": "code",
   "execution_count": 23,
   "metadata": {},
   "outputs": [],
   "source": [
    "def train_step(masked_seq, target, sample_weights):\n",
    "    #noise = tf.random.normal([BATCH_SIZE, noise_dim])\n",
    "\n",
    "    with tf.GradientTape() as gen_tape, tf.GradientTape() as disc_tape:\n",
    "        generated_target = generator(masked_seq, training=True)\n",
    "        \n",
    "        real_output = discriminator(target, training=True)\n",
    "        fake_output = discriminator(generated_target, training=True)\n",
    "        \n",
    "        \n",
    "        # need to incorporate weights, labels \n",
    "        # need to have target in the generator loss\n",
    "        gen_loss = generator_loss(fake_output)\n",
    "        disc_loss = discriminator_loss(real_output, fake_output)\n",
    "    \n",
    "    #backpropogration \n",
    "\n",
    "    gradients_of_generator = gen_tape.gradient(gen_loss, generator.trainable_variables)\n",
    "    gradients_of_discriminator = disc_tape.gradient(disc_loss, discriminator.trainable_variables)\n",
    "\n",
    "    generator_optimizer.apply_gradients(zip(gradients_of_generator, generator.trainable_variables))\n",
    "    discriminator_optimizer.apply_gradients(zip(gradients_of_discriminator, discriminator.trainable_variables))"
   ]
  },
  {
   "cell_type": "code",
   "execution_count": 25,
   "metadata": {},
   "outputs": [],
   "source": [
    "def train(dataset, epochs):\n",
    "    for epoch in range(epochs):\n",
    "        start = time.time()\n",
    "        \n",
    "        # need to also have the target \n",
    "        for image_batch in dataset:\n",
    "            train_step(image_batch)\n"
   ]
  },
  {
   "cell_type": "markdown",
   "metadata": {},
   "source": [
    "## Input Training Loop"
   ]
  },
  {
   "cell_type": "code",
   "execution_count": null,
   "metadata": {},
   "outputs": [],
   "source": []
  }
 ],
 "metadata": {
  "kernelspec": {
   "display_name": "Python 3",
   "language": "python",
   "name": "python3"
  },
  "language_info": {
   "codemirror_mode": {
    "name": "ipython",
    "version": 3
   },
   "file_extension": ".py",
   "mimetype": "text/x-python",
   "name": "python",
   "nbconvert_exporter": "python",
   "pygments_lexer": "ipython3",
   "version": "3.7.4"
  }
 },
 "nbformat": 4,
 "nbformat_minor": 4
}
