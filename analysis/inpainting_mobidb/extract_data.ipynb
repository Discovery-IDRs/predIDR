{
 "cells": [
  {
   "cell_type": "code",
   "execution_count": 1,
   "metadata": {},
   "outputs": [],
   "source": [
    "import os\n",
    "\n",
    "import matplotlib.pyplot as plt\n",
    "import numpy as np\n",
    "import pandas as pd\n",
    "import scipy.ndimage as ndimage\n",
    "from Bio import SeqIO"
   ]
  },
  {
   "cell_type": "code",
   "execution_count": 2,
   "metadata": {},
   "outputs": [],
   "source": [
    "fasta_seq = SeqIO.parse('../mobidb_validation/generate_fastas/out/allseq.fasta', 'fasta')\n",
    "fasta_disorder = SeqIO.parse('../mobidb_validation/generate_fastas/out/alldisorder.fasta', 'fasta')"
   ]
  },
  {
   "cell_type": "code",
   "execution_count": 3,
   "metadata": {},
   "outputs": [],
   "source": [
    "# making dictionary with key-value pair, 'protein.id' : [protein_amino_acid_sequence, protein_label] \n",
    "\n",
    "protein_dict = {}\n",
    "for protein in fasta_seq:\n",
    "    protein_dict[protein.id.split(\"|\")[0]] = [str(protein.seq)]\n",
    "\n",
    "for protein in fasta_disorder:\n",
    "    accession = protein.id.split(\"|\")[0]\n",
    "    protein_dict[accession] = protein_dict.get(accession) + [str(protein.seq)] + [protein.description]"
   ]
  },
  {
   "cell_type": "code",
   "execution_count": 4,
   "metadata": {},
   "outputs": [],
   "source": [
    "# Load sequences (into dictionary)\n",
    "# Load corresponding labels (into dictionary)\n",
    "# EXTRACT DATA\n",
    "# make empty list to store sequence + context + header + labels (tuple)\n",
    "# for each sequence\n",
    "    # Pull out the labels\n",
    "    # Find disordered segments within certain length threshold\n",
    "    # For each segment in that protein\n",
    "        # Check for running off the edge of the sequence\n",
    "            # Pull out the corresponding sequence + context on either side\n",
    "            # Append sequence + context + labels + header + region indices (tuple)\n",
    "# OUTPUT INTO FILE"
   ]
  },
  {
   "cell_type": "code",
   "execution_count": 5,
   "metadata": {},
   "outputs": [],
   "source": [
    "labels_file = open(\"label.fasta\", \"w+\")\n",
    "unmasked_seq_file = open(\"unmasked_seq_file.fasta\", \"w+\")"
   ]
  },
  {
   "cell_type": "code",
   "execution_count": 6,
   "metadata": {},
   "outputs": [],
   "source": [
    "dis_lower_limit = 30\n",
    "dis_upper_limit = 90\n",
    "len_residue = 180\n",
    "\n",
    "for protein_id in protein_dict:\n",
    "    \n",
    "    label = protein_dict.get(protein_id)[1]\n",
    "    dis_labels = [s == '1' for s in label]\n",
    "    \n",
    "    slices = ndimage.find_objects(ndimage.label(dis_labels)[0])\n",
    "    \n",
    "    # check to see if there are disordered sequences\n",
    "        \n",
    "    for s in slices:\n",
    "        len_seg = len(label[s[0]])\n",
    "        #check to see if write disordered region length\n",
    "        if len_seg >= dis_lower_limit and len_seg <= dis_upper_limit:\n",
    "            #calculating context\n",
    "            len_context = (len_residue - len_seg) // 2\n",
    "            \n",
    "            len_remainder = (len_residue - len_seg) % 2 \n",
    "            \n",
    "            start_ind = s[0].start - len_context \n",
    "            end_ind = s[0].stop + len_context\n",
    "            \n",
    "            #seqstring = '\\n'.join([seq[i:i+80] for i in range(0, len(seq), 80)]) + '\\n'\n",
    "            #labelstring = '\\n'.join([label[i:i+80] for i in range(0, len(label), 80)]) + '\\n'\n",
    "            \n",
    "            output_labels = label[slice(start_ind, end_ind + len_remainder)]\n",
    "            output_aaseq = protein_dict.get(protein_id)[0][slice(start_ind, end_ind + len_remainder)]\n",
    "            \n",
    "            if len(output_labels) == 180: \n",
    "                \n",
    "                labels_file.write(\">\" + protein_dict.get(protein_id)[2] + \"|\" + str(start_ind) + \":\" + str(end_ind) + \"\\n\"\n",
    "                                 + '\\n'.join([output_labels[i:i+80] for i in range(0, len(output_labels), 80)]) + \"\\n\")\n",
    "                \n",
    "                unmasked_seq_file.write(\">\" + protein_dict.get(protein_id)[2] + \"|\" + str(start_ind) + \":\" + str(end_ind) \n",
    "                                       + '\\n'.join([output_aaseq[i:i+80] for i in range(0, len(output_aaseq), 80)]) + \"\\n\")\n",
    "\n",
    "labels_file.close()\n",
    "unmasked_seq_file.close()"
   ]
  }
 ],
 "metadata": {
  "kernelspec": {
   "display_name": "Python 3",
   "language": "python",
   "name": "python3"
  },
  "language_info": {
   "codemirror_mode": {
    "name": "ipython",
    "version": 3
   },
   "file_extension": ".py",
   "mimetype": "text/x-python",
   "name": "python",
   "nbconvert_exporter": "python",
   "pygments_lexer": "ipython3",
   "version": "3.8.5"
  }
 },
 "nbformat": 4,
 "nbformat_minor": 4
}
