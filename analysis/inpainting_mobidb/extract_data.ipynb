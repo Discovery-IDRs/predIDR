{
 "cells": [
  {
   "cell_type": "code",
   "execution_count": 1,
   "metadata": {},
   "outputs": [],
   "source": [
    "import os\n",
    "\n",
    "import scipy.ndimage as ndimage\n",
    "from Bio import SeqIO"
   ]
  },
  {
   "cell_type": "code",
   "execution_count": 2,
   "metadata": {},
   "outputs": [],
   "source": [
    "# Set path of previously created fasta files of amino acid sequence and labels \n",
    "fasta_seq = SeqIO.parse('../mobidb_validation/generate_fastas/out/allseq.fasta', 'fasta')\n",
    "fasta_disorder = SeqIO.parse('../mobidb_validation/generate_fastas/out/alldisorder.fasta', 'fasta')"
   ]
  },
  {
   "cell_type": "code",
   "execution_count": 3,
   "metadata": {},
   "outputs": [],
   "source": [
    "# Create dictionary with key-value pair, \"protein_accession\" : [\"amino_acid_sequence\", \"protein_labels\", \"description\"] \n",
    "protein_dict = {}\n",
    "# Load amino acid sequences into dictionary from allseq.fasta \n",
    "for protein in fasta_seq:\n",
    "    protein_dict[protein.id.split(\"|\")[0]] = [str(protein.seq)]\n",
    "# Edit dictionary to include amino acid sequence, labels, and descriptions from alldisorder.fasta \n",
    "for protein in fasta_disorder:\n",
    "    accession = protein.id.split(\"|\")[0]\n",
    "    protein_dict[accession] = protein_dict.get(accession) + [str(protein.seq)] + [protein.description]"
   ]
  },
  {
   "cell_type": "code",
   "execution_count": 4,
   "metadata": {},
   "outputs": [],
   "source": [
    "# Create out directory to put fasta files in \n",
    "data_path = \"out/\"\n",
    "if not os.path.exists(data_path):\n",
    "        os.mkdir(data_path)"
   ]
  },
  {
   "cell_type": "code",
   "execution_count": 5,
   "metadata": {},
   "outputs": [],
   "source": [
    "# Create fasta file with labels and unmasked amino acid sequences \n",
    "labels_file = open(data_path + \"label.fasta\", \"w+\")\n",
    "unmasked_seq_file = open(data_path + \"unmasked_seq_file.fasta\", \"w+\")"
   ]
  },
  {
   "cell_type": "code",
   "execution_count": 6,
   "metadata": {},
   "outputs": [],
   "source": [
    "# Create variables determined from inpainting_exploration.ipynb of upper and lower limit of length of disordered region\n",
    "dis_lower_limit = 30\n",
    "dis_upper_limit = 90\n",
    "len_residue = 180\n",
    "\n",
    "# Iterate through all proteins \n",
    "for protein_id in protein_dict:\n",
    "    \n",
    "    # Find the disordered regions of the protein\n",
    "    label = protein_dict.get(protein_id)[1]\n",
    "    dis_labels = [s == '1' for s in label]\n",
    "    \n",
    "    slices = ndimage.find_objects(ndimage.label(dis_labels)[0])\n",
    "    \n",
    "    for s in slices:\n",
    "        len_seg = len(label[s[0]])\n",
    "        # Checking to see if disordered region is of desired length as set from variables declared above \n",
    "        if len_seg >= dis_lower_limit and len_seg <= dis_upper_limit:\n",
    "            # Calculating the index for the context of the disordered region\n",
    "            len_context = (len_residue - len_seg) // 2\n",
    "            \n",
    "            len_remainder = (len_residue - len_seg) % 2 \n",
    "            \n",
    "            start_ind = s[0].start - len_context \n",
    "            end_ind = s[0].stop + len_context\n",
    "            \n",
    "            output_labels = label[slice(start_ind, end_ind + len_remainder)]\n",
    "            output_aaseq = protein_dict.get(protein_id)[0][slice(start_ind, end_ind + len_remainder)]\n",
    "            \n",
    "            # Writing the description and the labels/amino acid sequences of proteins that fits the desired length\n",
    "            if len(output_labels) == len_residue: \n",
    "                \n",
    "                labels_file.write(\">\" + protein_dict.get(protein_id)[2] + \"|\" + str(start_ind) + \":\" + str(end_ind) + \"\\n\"\n",
    "                                 + \"\\n\".join([output_labels[i:i+80] for i in range(0, len(output_labels), 80)]) + \"\\n\")\n",
    "                \n",
    "                unmasked_seq_file.write(\">\" + protein_dict.get(protein_id)[2] + \"|\" + str(start_ind) + \":\" + str(end_ind) \n",
    "                                       + \"\\n\".join([output_aaseq[i:i+80] for i in range(0, len(output_aaseq), 80)]) + \"\\n\")\n",
    "\n",
    "labels_file.close()\n",
    "unmasked_seq_file.close()"
   ]
  }
 ],
 "metadata": {
  "kernelspec": {
   "display_name": "Python 3",
   "language": "python",
   "name": "python3"
  },
  "language_info": {
   "codemirror_mode": {
    "name": "ipython",
    "version": 3
   },
   "file_extension": ".py",
   "mimetype": "text/x-python",
   "name": "python",
   "nbconvert_exporter": "python",
   "pygments_lexer": "ipython3",
   "version": "3.8.5"
  }
 },
 "nbformat": 4,
 "nbformat_minor": 4
}
