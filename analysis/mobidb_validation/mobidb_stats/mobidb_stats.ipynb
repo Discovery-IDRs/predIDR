{
 "cells": [
  {
   "cell_type": "code",
   "execution_count": 87,
   "metadata": {},
   "outputs": [],
   "source": [
    "import matplotlib.pyplot as plt\n",
    "import numpy as np\n",
    "import pandas as pd\n",
    "import scipy.ndimage as ndimage\n",
    "from Bio import SeqIO"
   ]
  },
  {
   "cell_type": "code",
   "execution_count": 88,
   "metadata": {},
   "outputs": [],
   "source": [
    "def get_segments(aa_seq, label_seq, segment_type, accession, description):\n",
    "    slices = ndimage.find_objects(ndimage.label(label_seq)[0])\n",
    "    ds = []\n",
    "    for s in slices:\n",
    "        segment = aa_seq[s[0]]  # Unpack 1-element slice tuple\n",
    "        d = {'accession': accession, 'description': description, 'segment_type': segment_type, 'len': len(segment)}\n",
    "        aa_counts = count_amino_acids(segment)\n",
    "        d.update(aa_counts)\n",
    "        ds.append(d)\n",
    "    return ds\n",
    "\n",
    "\n",
    "def count_amino_acids(aa_seq):\n",
    "    aa_codes = ['A', 'R', 'N', 'D', 'C', 'Q', 'E', 'G', 'H',\n",
    "                'I', 'L', 'K', 'M', 'F', 'P', 'S', 'T', 'W', \n",
    "                'Y', 'V', 'O', 'U', 'B', 'Z', 'X', 'J']\n",
    "    d = {aa: 0 for aa in aa_codes}\n",
    "    for aa in aa_seq:\n",
    "        d[aa] += 1\n",
    "    return d"
   ]
  },
  {
   "cell_type": "code",
   "execution_count": 89,
   "metadata": {},
   "outputs": [],
   "source": [
    "fasta_seq = SeqIO.parse('../generate_fastas/out/allseq.fasta', 'fasta')\n",
    "fasta_disorder = SeqIO.parse('../generate_fastas/out/alldisorder.fasta', 'fasta')"
   ]
  },
  {
   "cell_type": "code",
   "execution_count": 90,
   "metadata": {},
   "outputs": [],
   "source": [
    "protein_seq_dict = {}\n",
    "for protein in fasta_seq:\n",
    "    protein_seq_dict[protein.id.split(\"|\")[0]] = str(protein.seq)"
   ]
  },
  {
   "cell_type": "code",
   "execution_count": 91,
   "metadata": {},
   "outputs": [
    {
     "name": "stdout",
     "output_type": "stream",
     "text": [
      "       accession                                        description  \\\n",
      "0         P61926  cAMP-dependent protein kinase inhibitor alpha ...   \n",
      "1         P61926  cAMP-dependent protein kinase inhibitor alpha ...   \n",
      "2         Q9KN46  ImpA_N domain-containing protein OS=Vibrio cho...   \n",
      "3         Q9KN46  ImpA_N domain-containing protein OS=Vibrio cho...   \n",
      "4         Q9KN46  ImpA_N domain-containing protein OS=Vibrio cho...   \n",
      "...          ...                                                ...   \n",
      "188312    O70709  sequence OS=Anomala cuprea entomopoxvirus OX=6...   \n",
      "188313    O70709  sequence OS=Anomala cuprea entomopoxvirus OX=6...   \n",
      "188314    O70709  sequence OS=Anomala cuprea entomopoxvirus OX=6...   \n",
      "188315    O70709  sequence OS=Anomala cuprea entomopoxvirus OX=6...   \n",
      "188316    O70709  sequence OS=Anomala cuprea entomopoxvirus OX=6...   \n",
      "\n",
      "       segment_type  len   A   R   N   D   C   Q  ...   T  W   Y   V  O  U  B  \\\n",
      "0                 D   76  10   4   4   5   0   3  ...   6  0   1   2  0  0  0   \n",
      "1                 P   76  10   4   4   5   0   3  ...   6  0   1   2  0  0  0   \n",
      "2                 D  375  33  21   5  20   3  33  ...  17  9   7  27  0  0  0   \n",
      "3                 D    3   0   0   0   0   0   0  ...   1  0   0   0  0  0  0   \n",
      "4                 O   91   9   5   3   5   0   7  ...   4  3   3   6  0  0  0   \n",
      "...             ...  ...  ..  ..  ..  ..  ..  ..  ...  .. ..  ..  .. .. .. ..   \n",
      "188312            D   74   2   4  12   6   2   1  ...   6  1  15   0  0  0  0   \n",
      "188313            D   22   0   4   2   1   2   1  ...   2  0   1   3  0  0  0   \n",
      "188314            O  264  19  16  14  13   7  11  ...  14  7  16  25  0  0  0   \n",
      "188315            O   13   2   0   0   1   0   0  ...   2  0   2   0  0  0  0   \n",
      "188316            P  373  23  24  28  21  11  13  ...  24  8  34  28  0  0  0   \n",
      "\n",
      "        Z  X  J  \n",
      "0       0  0  0  \n",
      "1       0  0  0  \n",
      "2       0  0  0  \n",
      "3       0  0  0  \n",
      "4       0  0  0  \n",
      "...    .. .. ..  \n",
      "188312  0  0  0  \n",
      "188313  0  0  0  \n",
      "188314  0  0  0  \n",
      "188315  0  0  0  \n",
      "188316  0  0  0  \n",
      "\n",
      "[188317 rows x 30 columns]\n"
     ]
    }
   ],
   "source": [
    "rows = []\n",
    "for protein in fasta_disorder:\n",
    "    dis_labels = [s == '1' for s in protein.seq]\n",
    "    ord_labels = [s == '0' for s in protein.seq]\n",
    "\n",
    "    accession = protein.id.split(\"|\")[0]\n",
    "    description = protein.description.split(\"|\")[-1]\n",
    "    aa_seq = protein_seq_dict[accession]\n",
    "    \n",
    "    # Disordered regions have the code 'D' and ordered regions have the code 'O'\n",
    "    # The entire protein is added with the code 'P'\n",
    "    ds_dis = get_segments(aa_seq, dis_labels, 'D', accession, description)\n",
    "    ds_ord = get_segments(aa_seq, ord_labels, 'O', accession, description)\n",
    "    ds_all = get_segments(aa_seq, [True for _ in range(len(aa_seq))], 'P', accession, description)\n",
    "\n",
    "    # Add ds to rows\n",
    "    rows.extend(ds_dis)\n",
    "    rows.extend(ds_ord)\n",
    "    rows.extend(ds_all)\n",
    "df1 = pd.DataFrame(rows)\n",
    "print(df1)"
   ]
  },
  {
   "cell_type": "markdown",
   "metadata": {},
   "source": [
    "# 1 Length Distributions"
   ]
  },
  {
   "cell_type": "code",
   "execution_count": 92,
   "metadata": {},
   "outputs": [],
   "source": [
    "## Length Distribution of Protein "
   ]
  },
  {
   "cell_type": "code",
   "execution_count": 93,
   "metadata": {},
   "outputs": [
    {
     "data": {
      "text/plain": [
       "Text(0.5, 1.0, 'Length of Proteins')"
      ]
     },
     "execution_count": 93,
     "metadata": {},
     "output_type": "execute_result"
    },
    {
     "data": {
      "image/png": "[encoded data removed]",
      "text/plain": [
       "<Figure size 432x288 with 1 Axes>"
      ]
     },
     "metadata": {
      "needs_background": "light"
     },
     "output_type": "display_data"
    }
   ],
   "source": [
    "protein = df1[df1['segment_type'] == 'P']\n",
    "plt.hist(protein['len'], bins=50)\n",
    "plt.yscale('log')\n",
    "plt.ylabel('Number of entries')\n",
    "plt.xlabel('Number of Amino Acids')\n",
    "plt.title('Length of Proteins')"
   ]
  },
  {
   "cell_type": "markdown",
   "metadata": {},
   "source": [
    "### Outliers"
   ]
  },
  {
   "cell_type": "code",
   "execution_count": 94,
   "metadata": {},
   "outputs": [
    {
     "name": "stdout",
     "output_type": "stream",
     "text": [
      "       accession                                        description  \\\n",
      "75735     G4SLH0  Titin homolog OS=Caenorhabditis elegans OX=623...   \n",
      "152199    Q8WZ42       Titin OS=Homo sapiens (Human) OX=9606 GN=TTN   \n",
      "\n",
      "       segment_type    len     A     R     N     D    C    Q  ...     T    W  \\\n",
      "75735             P  18562  1419   505   600  1312  177  856  ...  1265   96   \n",
      "152199            P  34350  2084  1640  1111  1720  513  942  ...  2546  466   \n",
      "\n",
      "          Y     V  O  U  B  Z  X  J  \n",
      "75735   231  1525  0  0  0  0  0  0  \n",
      "152199  999  3184  0  0  0  0  0  0  \n",
      "\n",
      "[2 rows x 30 columns]\n"
     ]
    }
   ],
   "source": [
    "print(protein[protein['len'] > 15000])"
   ]
  },
  {
   "cell_type": "markdown",
   "metadata": {},
   "source": [
    "## Length Distribution of Proteins After Removing Outliers"
   ]
  },
  {
   "cell_type": "code",
   "execution_count": 95,
   "metadata": {},
   "outputs": [
    {
     "data": {
      "text/plain": [
       "Text(0.5, 1.0, 'Length of Proteins')"
      ]
     },
     "execution_count": 95,
     "metadata": {},
     "output_type": "execute_result"
    },
    {
     "data": {
      "image/png": "[encoded data removed]",
      "text/plain": [
       "<Figure size 432x288 with 1 Axes>"
      ]
     },
     "metadata": {
      "needs_background": "light"
     },
     "output_type": "display_data"
    }
   ],
   "source": [
    "protein_outrm =  protein[protein['len'] < 15000]\n",
    "plt.hist(protein_outrm['len'], bins=50)\n",
    "plt.yscale('log')\n",
    "plt.ylabel('Number of entries')\n",
    "plt.xlabel('Number of Amino Acids')\n",
    "plt.title('Length of Proteins')"
   ]
  },
  {
   "cell_type": "markdown",
   "metadata": {},
   "source": [
    "## Length Distribution of Disordered Regions"
   ]
  },
  {
   "cell_type": "code",
   "execution_count": 96,
   "metadata": {},
   "outputs": [
    {
     "data": {
      "text/plain": [
       "Text(0.5, 1.0, 'Length of Disordered Regions')"
      ]
     },
     "execution_count": 96,
     "metadata": {},
     "output_type": "execute_result"
    },
    {
     "data": {
      "image/png": "[encoded data removed]",
      "text/plain": [
       "<Figure size 432x288 with 1 Axes>"
      ]
     },
     "metadata": {
      "needs_background": "light"
     },
     "output_type": "display_data"
    }
   ],
   "source": [
    "disorder = df1[df1['segment_type'] == 'D']\n",
    "plt.hist(disorder['len'], bins=50)\n",
    "plt.yscale('log')\n",
    "plt.ylabel('Number of entries')\n",
    "plt.xlabel('Number of Amino Acids')\n",
    "plt.title('Length of Disordered Regions')"
   ]
  },
  {
   "cell_type": "markdown",
   "metadata": {},
   "source": [
    "## Length Distribution of Ordered Regions"
   ]
  },
  {
   "cell_type": "code",
   "execution_count": 97,
   "metadata": {},
   "outputs": [
    {
     "data": {
      "text/plain": [
       "Text(0.5, 1.0, 'Length of Ordered Regions')"
      ]
     },
     "execution_count": 97,
     "metadata": {},
     "output_type": "execute_result"
    },
    {
     "data": {
      "image/png": "[encoded data removed]",
      "text/plain": [
       "<Figure size 432x288 with 1 Axes>"
      ]
     },
     "metadata": {
      "needs_background": "light"
     },
     "output_type": "display_data"
    }
   ],
   "source": [
    "order = df1[df1['segment_type'] == 'O']\n",
    "plt.hist(order['len'], bins=50)\n",
    "plt.yscale('log')\n",
    "plt.ylabel('Number of entries')\n",
    "plt.xlabel('Number of Amino Acids')\n",
    "plt.title('Length of Ordered Regions')"
   ]
  },
  {
   "cell_type": "markdown",
   "metadata": {},
   "source": [
    "### Outliers "
   ]
  },
  {
   "cell_type": "code",
   "execution_count": 98,
   "metadata": {},
   "outputs": [
    {
     "data": {
      "text/html": [
       "<div>\n",
       "<style scoped>\n",
       "    .dataframe tbody tr th:only-of-type {\n",
       "        vertical-align: middle;\n",
       "    }\n",
       "\n",
       "    .dataframe tbody tr th {\n",
       "        vertical-align: top;\n",
       "    }\n",
       "\n",
       "    .dataframe thead th {\n",
       "        text-align: right;\n",
       "    }\n",
       "</style>\n",
       "<table border=\"1\" class=\"dataframe\">\n",
       "  <thead>\n",
       "    <tr style=\"text-align: right;\">\n",
       "      <th></th>\n",
       "      <th>accession</th>\n",
       "      <th>description</th>\n",
       "      <th>segment_type</th>\n",
       "      <th>len</th>\n",
       "      <th>A</th>\n",
       "      <th>R</th>\n",
       "      <th>N</th>\n",
       "      <th>D</th>\n",
       "      <th>C</th>\n",
       "      <th>Q</th>\n",
       "      <th>...</th>\n",
       "      <th>T</th>\n",
       "      <th>W</th>\n",
       "      <th>Y</th>\n",
       "      <th>V</th>\n",
       "      <th>O</th>\n",
       "      <th>U</th>\n",
       "      <th>B</th>\n",
       "      <th>Z</th>\n",
       "      <th>X</th>\n",
       "      <th>J</th>\n",
       "    </tr>\n",
       "  </thead>\n",
       "  <tbody>\n",
       "    <tr>\n",
       "      <th>152198</th>\n",
       "      <td>Q8WZ42</td>\n",
       "      <td>Titin OS=Homo sapiens (Human) OX=9606 GN=TTN</td>\n",
       "      <td>O</td>\n",
       "      <td>22319</td>\n",
       "      <td>1310</td>\n",
       "      <td>1184</td>\n",
       "      <td>788</td>\n",
       "      <td>1238</td>\n",
       "      <td>300</td>\n",
       "      <td>520</td>\n",
       "      <td>...</td>\n",
       "      <td>1739</td>\n",
       "      <td>365</td>\n",
       "      <td>704</td>\n",
       "      <td>2004</td>\n",
       "      <td>0</td>\n",
       "      <td>0</td>\n",
       "      <td>0</td>\n",
       "      <td>0</td>\n",
       "      <td>0</td>\n",
       "      <td>0</td>\n",
       "    </tr>\n",
       "  </tbody>\n",
       "</table>\n",
       "<p>1 rows × 30 columns</p>\n",
       "</div>"
      ],
      "text/plain": [
       "       accession                                   description segment_type  \\\n",
       "152198    Q8WZ42  Titin OS=Homo sapiens (Human) OX=9606 GN=TTN            O   \n",
       "\n",
       "          len     A     R    N     D    C    Q  ...     T    W    Y     V  O  \\\n",
       "152198  22319  1310  1184  788  1238  300  520  ...  1739  365  704  2004  0   \n",
       "\n",
       "        U  B  Z  X  J  \n",
       "152198  0  0  0  0  0  \n",
       "\n",
       "[1 rows x 30 columns]"
      ]
     },
     "execution_count": 98,
     "metadata": {},
     "output_type": "execute_result"
    }
   ],
   "source": [
    "order[order['len'] > 15000]"
   ]
  },
  {
   "cell_type": "code",
   "execution_count": 99,
   "metadata": {},
   "outputs": [
    {
     "data": {
      "text/html": [
       "<div>\n",
       "<style scoped>\n",
       "    .dataframe tbody tr th:only-of-type {\n",
       "        vertical-align: middle;\n",
       "    }\n",
       "\n",
       "    .dataframe tbody tr th {\n",
       "        vertical-align: top;\n",
       "    }\n",
       "\n",
       "    .dataframe thead th {\n",
       "        text-align: right;\n",
       "    }\n",
       "</style>\n",
       "<table border=\"1\" class=\"dataframe\">\n",
       "  <thead>\n",
       "    <tr style=\"text-align: right;\">\n",
       "      <th></th>\n",
       "      <th>accession</th>\n",
       "      <th>description</th>\n",
       "      <th>segment_type</th>\n",
       "      <th>len</th>\n",
       "      <th>A</th>\n",
       "      <th>R</th>\n",
       "      <th>N</th>\n",
       "      <th>D</th>\n",
       "      <th>C</th>\n",
       "      <th>Q</th>\n",
       "      <th>...</th>\n",
       "      <th>T</th>\n",
       "      <th>W</th>\n",
       "      <th>Y</th>\n",
       "      <th>V</th>\n",
       "      <th>O</th>\n",
       "      <th>U</th>\n",
       "      <th>B</th>\n",
       "      <th>Z</th>\n",
       "      <th>X</th>\n",
       "      <th>J</th>\n",
       "    </tr>\n",
       "  </thead>\n",
       "  <tbody>\n",
       "    <tr>\n",
       "      <th>152196</th>\n",
       "      <td>Q8WZ42</td>\n",
       "      <td>Titin OS=Homo sapiens (Human) OX=9606 GN=TTN</td>\n",
       "      <td>D</td>\n",
       "      <td>2152</td>\n",
       "      <td>129</td>\n",
       "      <td>62</td>\n",
       "      <td>0</td>\n",
       "      <td>11</td>\n",
       "      <td>0</td>\n",
       "      <td>28</td>\n",
       "      <td>...</td>\n",
       "      <td>54</td>\n",
       "      <td>3</td>\n",
       "      <td>32</td>\n",
       "      <td>329</td>\n",
       "      <td>0</td>\n",
       "      <td>0</td>\n",
       "      <td>0</td>\n",
       "      <td>0</td>\n",
       "      <td>0</td>\n",
       "      <td>0</td>\n",
       "    </tr>\n",
       "    <tr>\n",
       "      <th>152197</th>\n",
       "      <td>Q8WZ42</td>\n",
       "      <td>Titin OS=Homo sapiens (Human) OX=9606 GN=TTN</td>\n",
       "      <td>O</td>\n",
       "      <td>9879</td>\n",
       "      <td>645</td>\n",
       "      <td>394</td>\n",
       "      <td>323</td>\n",
       "      <td>471</td>\n",
       "      <td>213</td>\n",
       "      <td>394</td>\n",
       "      <td>...</td>\n",
       "      <td>753</td>\n",
       "      <td>98</td>\n",
       "      <td>263</td>\n",
       "      <td>851</td>\n",
       "      <td>0</td>\n",
       "      <td>0</td>\n",
       "      <td>0</td>\n",
       "      <td>0</td>\n",
       "      <td>0</td>\n",
       "      <td>0</td>\n",
       "    </tr>\n",
       "    <tr>\n",
       "      <th>152198</th>\n",
       "      <td>Q8WZ42</td>\n",
       "      <td>Titin OS=Homo sapiens (Human) OX=9606 GN=TTN</td>\n",
       "      <td>O</td>\n",
       "      <td>22319</td>\n",
       "      <td>1310</td>\n",
       "      <td>1184</td>\n",
       "      <td>788</td>\n",
       "      <td>1238</td>\n",
       "      <td>300</td>\n",
       "      <td>520</td>\n",
       "      <td>...</td>\n",
       "      <td>1739</td>\n",
       "      <td>365</td>\n",
       "      <td>704</td>\n",
       "      <td>2004</td>\n",
       "      <td>0</td>\n",
       "      <td>0</td>\n",
       "      <td>0</td>\n",
       "      <td>0</td>\n",
       "      <td>0</td>\n",
       "      <td>0</td>\n",
       "    </tr>\n",
       "    <tr>\n",
       "      <th>152199</th>\n",
       "      <td>Q8WZ42</td>\n",
       "      <td>Titin OS=Homo sapiens (Human) OX=9606 GN=TTN</td>\n",
       "      <td>P</td>\n",
       "      <td>34350</td>\n",
       "      <td>2084</td>\n",
       "      <td>1640</td>\n",
       "      <td>1111</td>\n",
       "      <td>1720</td>\n",
       "      <td>513</td>\n",
       "      <td>942</td>\n",
       "      <td>...</td>\n",
       "      <td>2546</td>\n",
       "      <td>466</td>\n",
       "      <td>999</td>\n",
       "      <td>3184</td>\n",
       "      <td>0</td>\n",
       "      <td>0</td>\n",
       "      <td>0</td>\n",
       "      <td>0</td>\n",
       "      <td>0</td>\n",
       "      <td>0</td>\n",
       "    </tr>\n",
       "  </tbody>\n",
       "</table>\n",
       "<p>4 rows × 30 columns</p>\n",
       "</div>"
      ],
      "text/plain": [
       "       accession                                   description segment_type  \\\n",
       "152196    Q8WZ42  Titin OS=Homo sapiens (Human) OX=9606 GN=TTN            D   \n",
       "152197    Q8WZ42  Titin OS=Homo sapiens (Human) OX=9606 GN=TTN            O   \n",
       "152198    Q8WZ42  Titin OS=Homo sapiens (Human) OX=9606 GN=TTN            O   \n",
       "152199    Q8WZ42  Titin OS=Homo sapiens (Human) OX=9606 GN=TTN            P   \n",
       "\n",
       "          len     A     R     N     D    C    Q  ...     T    W    Y     V  O  \\\n",
       "152196   2152   129    62     0    11    0   28  ...    54    3   32   329  0   \n",
       "152197   9879   645   394   323   471  213  394  ...   753   98  263   851  0   \n",
       "152198  22319  1310  1184   788  1238  300  520  ...  1739  365  704  2004  0   \n",
       "152199  34350  2084  1640  1111  1720  513  942  ...  2546  466  999  3184  0   \n",
       "\n",
       "        U  B  Z  X  J  \n",
       "152196  0  0  0  0  0  \n",
       "152197  0  0  0  0  0  \n",
       "152198  0  0  0  0  0  \n",
       "152199  0  0  0  0  0  \n",
       "\n",
       "[4 rows x 30 columns]"
      ]
     },
     "execution_count": 99,
     "metadata": {},
     "output_type": "execute_result"
    }
   ],
   "source": [
    "df1[df1['accession'] == 'Q8WZ42']"
   ]
  },
  {
   "cell_type": "markdown",
   "metadata": {},
   "source": [
    "# 2 Fraction disordered distribution"
   ]
  },
  {
   "cell_type": "code",
   "execution_count": 100,
   "metadata": {
    "scrolled": true
   },
   "outputs": [
    {
     "data": {
      "text/plain": [
       "Text(0.5, 1.0, 'Fraction Disordered Distribution')"
      ]
     },
     "execution_count": 100,
     "metadata": {},
     "output_type": "execute_result"
    },
    {
     "data": {
      "image/png": "[encoded data removed]",
      "text/plain": [
       "<Figure size 432x288 with 1 Axes>"
      ]
     },
     "metadata": {
      "needs_background": "light"
     },
     "output_type": "display_data"
    }
   ],
   "source": [
    "disorder_lengths = disorder.groupby('accession')['len'].sum().rename('D_len')\n",
    "df2 = protein[['accession', 'len']].merge(disorder_lengths, on='accession', how='left').fillna(0)\n",
    "df2['D_frac'] = df2['D_len'] / df2['len']\n",
    "\n",
    "plt.hist(df2['D_frac'], bins=50)\n",
    "plt.yscale('log')\n",
    "plt.ylabel('Number of entries')\n",
    "plt.xlabel('Fraction disordered')\n",
    "plt.title('Fraction Disordered Distribution')"
   ]
  },
  {
   "cell_type": "markdown",
   "metadata": {},
   "source": [
    "# 3 Fraction ordered distribution"
   ]
  },
  {
   "cell_type": "code",
   "execution_count": 101,
   "metadata": {},
   "outputs": [
    {
     "data": {
      "text/plain": [
       "Text(0.5, 1.0, 'Fraction Ordered Distribution')"
      ]
     },
     "execution_count": 101,
     "metadata": {},
     "output_type": "execute_result"
    },
    {
     "data": {
      "image/png": "[encoded data removed]",
      "text/plain": [
       "<Figure size 432x288 with 1 Axes>"
      ]
     },
     "metadata": {
      "needs_background": "light"
     },
     "output_type": "display_data"
    }
   ],
   "source": [
    "order_lengths = order.groupby('accession')['len'].sum().rename('O_len')\n",
    "df2 = df2.merge(order_lengths, on='accession', how='left').fillna(0)\n",
    "df2['O_frac'] = df2['O_len'] / df2['len']\n",
    "\n",
    "plt.hist(df2['O_frac'], bins=50)\n",
    "plt.yscale('log')\n",
    "plt.ylabel('Number of entries')\n",
    "plt.xlabel('Fraction ordered')\n",
    "plt.title('Fraction Ordered Distribution')"
   ]
  },
  {
   "cell_type": "markdown",
   "metadata": {},
   "source": [
    "# 4 Correlation of fraction disordered with number of disordered segments"
   ]
  },
  {
   "cell_type": "markdown",
   "metadata": {},
   "source": [
    "## 2D Histogram"
   ]
  },
  {
   "cell_type": "code",
   "execution_count": 102,
   "metadata": {},
   "outputs": [
    {
     "data": {
      "text/plain": [
       "Text(0.5, 1.0, 'Number Disordered Regions vs. Disordered Content')"
      ]
     },
     "execution_count": 102,
     "metadata": {},
     "output_type": "execute_result"
    },
    {
     "data": {
      "image/png": "[encoded data removed]",
      "text/plain": [
       "<Figure size 432x288 with 1 Axes>"
      ]
     },
     "metadata": {
      "needs_background": "light"
     },
     "output_type": "display_data"
    }
   ],
   "source": [
    "D_segnum = disorder.groupby('accession').size().rename('D_segnum')\n",
    "df2 = df2.merge(D_segnum, on='accession', how='left').fillna(0)\n",
    "\n",
    "plt.hist2d(df2['D_segnum'], df2['D_frac'], bins=25)\n",
    "plt.ylabel('Fraction of Disordered Content')\n",
    "plt.xlabel('Number of Disordered Regions')\n",
    "plt.title('Number Disordered Regions vs. Disordered Content')"
   ]
  },
  {
   "cell_type": "markdown",
   "metadata": {},
   "source": [
    "## Scatter plot"
   ]
  },
  {
   "cell_type": "code",
   "execution_count": 103,
   "metadata": {},
   "outputs": [
    {
     "data": {
      "text/plain": [
       "Text(0.5, 1.0, 'Number Disordered Regions vs. Disordered Content')"
      ]
     },
     "execution_count": 103,
     "metadata": {},
     "output_type": "execute_result"
    },
    {
     "data": {
      "image/png": "[encoded data removed]",
      "text/plain": [
       "<Figure size 432x288 with 1 Axes>"
      ]
     },
     "metadata": {
      "needs_background": "light"
     },
     "output_type": "display_data"
    }
   ],
   "source": [
    "plt.scatter(df2['D_segnum'], df2['D_frac'], s=6, alpha=0.25)\n",
    "plt.ylabel('Fraction of Disordered Content')\n",
    "plt.xlabel('Number of Disordered Regions')\n",
    "plt.title('Number Disordered Regions vs. Disordered Content')"
   ]
  },
  {
   "cell_type": "markdown",
   "metadata": {},
   "source": [
    "### Outliers"
   ]
  },
  {
   "cell_type": "code",
   "execution_count": 104,
   "metadata": {},
   "outputs": [
    {
     "data": {
      "text/html": [
       "<div>\n",
       "<style scoped>\n",
       "    .dataframe tbody tr th:only-of-type {\n",
       "        vertical-align: middle;\n",
       "    }\n",
       "\n",
       "    .dataframe tbody tr th {\n",
       "        vertical-align: top;\n",
       "    }\n",
       "\n",
       "    .dataframe thead th {\n",
       "        text-align: right;\n",
       "    }\n",
       "</style>\n",
       "<table border=\"1\" class=\"dataframe\">\n",
       "  <thead>\n",
       "    <tr style=\"text-align: right;\">\n",
       "      <th></th>\n",
       "      <th>accession</th>\n",
       "      <th>len</th>\n",
       "      <th>D_len</th>\n",
       "      <th>D_frac</th>\n",
       "      <th>O_len</th>\n",
       "      <th>O_frac</th>\n",
       "      <th>D_segnum</th>\n",
       "    </tr>\n",
       "  </thead>\n",
       "  <tbody>\n",
       "    <tr>\n",
       "      <th>4972</th>\n",
       "      <td>Q8CIE6</td>\n",
       "      <td>1224</td>\n",
       "      <td>620</td>\n",
       "      <td>0.506536</td>\n",
       "      <td>604.0</td>\n",
       "      <td>0.493464</td>\n",
       "      <td>58</td>\n",
       "    </tr>\n",
       "    <tr>\n",
       "      <th>26795</th>\n",
       "      <td>O94248</td>\n",
       "      <td>4717</td>\n",
       "      <td>1177</td>\n",
       "      <td>0.249523</td>\n",
       "      <td>3540.0</td>\n",
       "      <td>0.750477</td>\n",
       "      <td>79</td>\n",
       "    </tr>\n",
       "  </tbody>\n",
       "</table>\n",
       "</div>"
      ],
      "text/plain": [
       "      accession   len  D_len    D_frac   O_len    O_frac  D_segnum\n",
       "4972     Q8CIE6  1224    620  0.506536   604.0  0.493464        58\n",
       "26795    O94248  4717   1177  0.249523  3540.0  0.750477        79"
      ]
     },
     "execution_count": 104,
     "metadata": {},
     "output_type": "execute_result"
    }
   ],
   "source": [
    "df2[df2['D_segnum'] > 50]"
   ]
  },
  {
   "cell_type": "code",
   "execution_count": 105,
   "metadata": {},
   "outputs": [
    {
     "data": {
      "text/html": [
       "<div>\n",
       "<style scoped>\n",
       "    .dataframe tbody tr th:only-of-type {\n",
       "        vertical-align: middle;\n",
       "    }\n",
       "\n",
       "    .dataframe tbody tr th {\n",
       "        vertical-align: top;\n",
       "    }\n",
       "\n",
       "    .dataframe thead th {\n",
       "        text-align: right;\n",
       "    }\n",
       "</style>\n",
       "<table border=\"1\" class=\"dataframe\">\n",
       "  <thead>\n",
       "    <tr style=\"text-align: right;\">\n",
       "      <th></th>\n",
       "      <th>accession</th>\n",
       "      <th>description</th>\n",
       "      <th>segment_type</th>\n",
       "      <th>len</th>\n",
       "      <th>A</th>\n",
       "      <th>R</th>\n",
       "      <th>N</th>\n",
       "      <th>D</th>\n",
       "      <th>C</th>\n",
       "      <th>Q</th>\n",
       "      <th>...</th>\n",
       "      <th>T</th>\n",
       "      <th>W</th>\n",
       "      <th>Y</th>\n",
       "      <th>V</th>\n",
       "      <th>O</th>\n",
       "      <th>U</th>\n",
       "      <th>B</th>\n",
       "      <th>Z</th>\n",
       "      <th>X</th>\n",
       "      <th>J</th>\n",
       "    </tr>\n",
       "  </thead>\n",
       "  <tbody>\n",
       "    <tr>\n",
       "      <th>138411</th>\n",
       "      <td>O94248</td>\n",
       "      <td>Midasin OS=Schizosaccharomyces pombe (strain 9...</td>\n",
       "      <td>D</td>\n",
       "      <td>1</td>\n",
       "      <td>0</td>\n",
       "      <td>0</td>\n",
       "      <td>0</td>\n",
       "      <td>0</td>\n",
       "      <td>0</td>\n",
       "      <td>0</td>\n",
       "      <td>...</td>\n",
       "      <td>0</td>\n",
       "      <td>0</td>\n",
       "      <td>0</td>\n",
       "      <td>0</td>\n",
       "      <td>0</td>\n",
       "      <td>0</td>\n",
       "      <td>0</td>\n",
       "      <td>0</td>\n",
       "      <td>0</td>\n",
       "      <td>0</td>\n",
       "    </tr>\n",
       "    <tr>\n",
       "      <th>138412</th>\n",
       "      <td>O94248</td>\n",
       "      <td>Midasin OS=Schizosaccharomyces pombe (strain 9...</td>\n",
       "      <td>D</td>\n",
       "      <td>4</td>\n",
       "      <td>0</td>\n",
       "      <td>0</td>\n",
       "      <td>0</td>\n",
       "      <td>0</td>\n",
       "      <td>0</td>\n",
       "      <td>0</td>\n",
       "      <td>...</td>\n",
       "      <td>1</td>\n",
       "      <td>1</td>\n",
       "      <td>0</td>\n",
       "      <td>1</td>\n",
       "      <td>0</td>\n",
       "      <td>0</td>\n",
       "      <td>0</td>\n",
       "      <td>0</td>\n",
       "      <td>0</td>\n",
       "      <td>0</td>\n",
       "    </tr>\n",
       "    <tr>\n",
       "      <th>138413</th>\n",
       "      <td>O94248</td>\n",
       "      <td>Midasin OS=Schizosaccharomyces pombe (strain 9...</td>\n",
       "      <td>D</td>\n",
       "      <td>4</td>\n",
       "      <td>0</td>\n",
       "      <td>0</td>\n",
       "      <td>1</td>\n",
       "      <td>0</td>\n",
       "      <td>0</td>\n",
       "      <td>0</td>\n",
       "      <td>...</td>\n",
       "      <td>0</td>\n",
       "      <td>0</td>\n",
       "      <td>0</td>\n",
       "      <td>0</td>\n",
       "      <td>0</td>\n",
       "      <td>0</td>\n",
       "      <td>0</td>\n",
       "      <td>0</td>\n",
       "      <td>0</td>\n",
       "      <td>0</td>\n",
       "    </tr>\n",
       "    <tr>\n",
       "      <th>138414</th>\n",
       "      <td>O94248</td>\n",
       "      <td>Midasin OS=Schizosaccharomyces pombe (strain 9...</td>\n",
       "      <td>D</td>\n",
       "      <td>8</td>\n",
       "      <td>0</td>\n",
       "      <td>0</td>\n",
       "      <td>0</td>\n",
       "      <td>0</td>\n",
       "      <td>0</td>\n",
       "      <td>0</td>\n",
       "      <td>...</td>\n",
       "      <td>0</td>\n",
       "      <td>0</td>\n",
       "      <td>0</td>\n",
       "      <td>0</td>\n",
       "      <td>0</td>\n",
       "      <td>0</td>\n",
       "      <td>0</td>\n",
       "      <td>0</td>\n",
       "      <td>0</td>\n",
       "      <td>0</td>\n",
       "    </tr>\n",
       "    <tr>\n",
       "      <th>138415</th>\n",
       "      <td>O94248</td>\n",
       "      <td>Midasin OS=Schizosaccharomyces pombe (strain 9...</td>\n",
       "      <td>D</td>\n",
       "      <td>1</td>\n",
       "      <td>0</td>\n",
       "      <td>0</td>\n",
       "      <td>0</td>\n",
       "      <td>0</td>\n",
       "      <td>0</td>\n",
       "      <td>0</td>\n",
       "      <td>...</td>\n",
       "      <td>0</td>\n",
       "      <td>0</td>\n",
       "      <td>0</td>\n",
       "      <td>0</td>\n",
       "      <td>0</td>\n",
       "      <td>0</td>\n",
       "      <td>0</td>\n",
       "      <td>0</td>\n",
       "      <td>0</td>\n",
       "      <td>0</td>\n",
       "    </tr>\n",
       "    <tr>\n",
       "      <th>...</th>\n",
       "      <td>...</td>\n",
       "      <td>...</td>\n",
       "      <td>...</td>\n",
       "      <td>...</td>\n",
       "      <td>...</td>\n",
       "      <td>...</td>\n",
       "      <td>...</td>\n",
       "      <td>...</td>\n",
       "      <td>...</td>\n",
       "      <td>...</td>\n",
       "      <td>...</td>\n",
       "      <td>...</td>\n",
       "      <td>...</td>\n",
       "      <td>...</td>\n",
       "      <td>...</td>\n",
       "      <td>...</td>\n",
       "      <td>...</td>\n",
       "      <td>...</td>\n",
       "      <td>...</td>\n",
       "      <td>...</td>\n",
       "      <td>...</td>\n",
       "    </tr>\n",
       "    <tr>\n",
       "      <th>138564</th>\n",
       "      <td>O94248</td>\n",
       "      <td>Midasin OS=Schizosaccharomyces pombe (strain 9...</td>\n",
       "      <td>O</td>\n",
       "      <td>23</td>\n",
       "      <td>1</td>\n",
       "      <td>1</td>\n",
       "      <td>1</td>\n",
       "      <td>1</td>\n",
       "      <td>0</td>\n",
       "      <td>1</td>\n",
       "      <td>...</td>\n",
       "      <td>0</td>\n",
       "      <td>0</td>\n",
       "      <td>0</td>\n",
       "      <td>0</td>\n",
       "      <td>0</td>\n",
       "      <td>0</td>\n",
       "      <td>0</td>\n",
       "      <td>0</td>\n",
       "      <td>0</td>\n",
       "      <td>0</td>\n",
       "    </tr>\n",
       "    <tr>\n",
       "      <th>138565</th>\n",
       "      <td>O94248</td>\n",
       "      <td>Midasin OS=Schizosaccharomyces pombe (strain 9...</td>\n",
       "      <td>O</td>\n",
       "      <td>45</td>\n",
       "      <td>1</td>\n",
       "      <td>3</td>\n",
       "      <td>1</td>\n",
       "      <td>3</td>\n",
       "      <td>2</td>\n",
       "      <td>3</td>\n",
       "      <td>...</td>\n",
       "      <td>1</td>\n",
       "      <td>0</td>\n",
       "      <td>2</td>\n",
       "      <td>2</td>\n",
       "      <td>0</td>\n",
       "      <td>0</td>\n",
       "      <td>0</td>\n",
       "      <td>0</td>\n",
       "      <td>0</td>\n",
       "      <td>0</td>\n",
       "    </tr>\n",
       "    <tr>\n",
       "      <th>138566</th>\n",
       "      <td>O94248</td>\n",
       "      <td>Midasin OS=Schizosaccharomyces pombe (strain 9...</td>\n",
       "      <td>O</td>\n",
       "      <td>128</td>\n",
       "      <td>5</td>\n",
       "      <td>3</td>\n",
       "      <td>11</td>\n",
       "      <td>5</td>\n",
       "      <td>3</td>\n",
       "      <td>3</td>\n",
       "      <td>...</td>\n",
       "      <td>5</td>\n",
       "      <td>0</td>\n",
       "      <td>1</td>\n",
       "      <td>7</td>\n",
       "      <td>0</td>\n",
       "      <td>0</td>\n",
       "      <td>0</td>\n",
       "      <td>0</td>\n",
       "      <td>0</td>\n",
       "      <td>0</td>\n",
       "    </tr>\n",
       "    <tr>\n",
       "      <th>138567</th>\n",
       "      <td>O94248</td>\n",
       "      <td>Midasin OS=Schizosaccharomyces pombe (strain 9...</td>\n",
       "      <td>O</td>\n",
       "      <td>214</td>\n",
       "      <td>12</td>\n",
       "      <td>8</td>\n",
       "      <td>8</td>\n",
       "      <td>15</td>\n",
       "      <td>2</td>\n",
       "      <td>13</td>\n",
       "      <td>...</td>\n",
       "      <td>10</td>\n",
       "      <td>1</td>\n",
       "      <td>7</td>\n",
       "      <td>14</td>\n",
       "      <td>0</td>\n",
       "      <td>0</td>\n",
       "      <td>0</td>\n",
       "      <td>0</td>\n",
       "      <td>0</td>\n",
       "      <td>0</td>\n",
       "    </tr>\n",
       "    <tr>\n",
       "      <th>138568</th>\n",
       "      <td>O94248</td>\n",
       "      <td>Midasin OS=Schizosaccharomyces pombe (strain 9...</td>\n",
       "      <td>P</td>\n",
       "      <td>4717</td>\n",
       "      <td>258</td>\n",
       "      <td>201</td>\n",
       "      <td>252</td>\n",
       "      <td>287</td>\n",
       "      <td>56</td>\n",
       "      <td>194</td>\n",
       "      <td>...</td>\n",
       "      <td>229</td>\n",
       "      <td>53</td>\n",
       "      <td>138</td>\n",
       "      <td>281</td>\n",
       "      <td>0</td>\n",
       "      <td>0</td>\n",
       "      <td>0</td>\n",
       "      <td>0</td>\n",
       "      <td>0</td>\n",
       "      <td>0</td>\n",
       "    </tr>\n",
       "  </tbody>\n",
       "</table>\n",
       "<p>158 rows × 30 columns</p>\n",
       "</div>"
      ],
      "text/plain": [
       "       accession                                        description  \\\n",
       "138411    O94248  Midasin OS=Schizosaccharomyces pombe (strain 9...   \n",
       "138412    O94248  Midasin OS=Schizosaccharomyces pombe (strain 9...   \n",
       "138413    O94248  Midasin OS=Schizosaccharomyces pombe (strain 9...   \n",
       "138414    O94248  Midasin OS=Schizosaccharomyces pombe (strain 9...   \n",
       "138415    O94248  Midasin OS=Schizosaccharomyces pombe (strain 9...   \n",
       "...          ...                                                ...   \n",
       "138564    O94248  Midasin OS=Schizosaccharomyces pombe (strain 9...   \n",
       "138565    O94248  Midasin OS=Schizosaccharomyces pombe (strain 9...   \n",
       "138566    O94248  Midasin OS=Schizosaccharomyces pombe (strain 9...   \n",
       "138567    O94248  Midasin OS=Schizosaccharomyces pombe (strain 9...   \n",
       "138568    O94248  Midasin OS=Schizosaccharomyces pombe (strain 9...   \n",
       "\n",
       "       segment_type   len    A    R    N    D   C    Q  ...    T   W    Y  \\\n",
       "138411            D     1    0    0    0    0   0    0  ...    0   0    0   \n",
       "138412            D     4    0    0    0    0   0    0  ...    1   1    0   \n",
       "138413            D     4    0    0    1    0   0    0  ...    0   0    0   \n",
       "138414            D     8    0    0    0    0   0    0  ...    0   0    0   \n",
       "138415            D     1    0    0    0    0   0    0  ...    0   0    0   \n",
       "...             ...   ...  ...  ...  ...  ...  ..  ...  ...  ...  ..  ...   \n",
       "138564            O    23    1    1    1    1   0    1  ...    0   0    0   \n",
       "138565            O    45    1    3    1    3   2    3  ...    1   0    2   \n",
       "138566            O   128    5    3   11    5   3    3  ...    5   0    1   \n",
       "138567            O   214   12    8    8   15   2   13  ...   10   1    7   \n",
       "138568            P  4717  258  201  252  287  56  194  ...  229  53  138   \n",
       "\n",
       "          V  O  U  B  Z  X  J  \n",
       "138411    0  0  0  0  0  0  0  \n",
       "138412    1  0  0  0  0  0  0  \n",
       "138413    0  0  0  0  0  0  0  \n",
       "138414    0  0  0  0  0  0  0  \n",
       "138415    0  0  0  0  0  0  0  \n",
       "...     ... .. .. .. .. .. ..  \n",
       "138564    0  0  0  0  0  0  0  \n",
       "138565    2  0  0  0  0  0  0  \n",
       "138566    7  0  0  0  0  0  0  \n",
       "138567   14  0  0  0  0  0  0  \n",
       "138568  281  0  0  0  0  0  0  \n",
       "\n",
       "[158 rows x 30 columns]"
      ]
     },
     "execution_count": 105,
     "metadata": {},
     "output_type": "execute_result"
    }
   ],
   "source": [
    "df1[df1['accession'] == 'O94248']"
   ]
  },
  {
   "cell_type": "markdown",
   "metadata": {},
   "source": [
    "## Scatter plot without Outliers "
   ]
  },
  {
   "cell_type": "code",
   "execution_count": 106,
   "metadata": {},
   "outputs": [
    {
     "data": {
      "text/plain": [
       "Text(0.5, 1.0, 'Number Disordered Regions vs. Disordered Content')"
      ]
     },
     "execution_count": 106,
     "metadata": {},
     "output_type": "execute_result"
    },
    {
     "data": {
      "image/png": "[encoded data removed]",
      "text/plain": [
       "<Figure size 432x288 with 1 Axes>"
      ]
     },
     "metadata": {
      "needs_background": "light"
     },
     "output_type": "display_data"
    }
   ],
   "source": [
    "df2_outrm = df2[df2['D_segnum'] < 50]\n",
    "plt.scatter(df2_outrm['D_segnum'], df2_outrm['D_frac'], s=6, alpha=0.25)\n",
    "plt.ylabel('Fraction of Disordered Content')\n",
    "plt.xlabel('Number of Disordered Regions')\n",
    "plt.title('Number Disordered Regions vs. Disordered Content')"
   ]
  },
  {
   "cell_type": "markdown",
   "metadata": {},
   "source": [
    "## Correlation Coefficient"
   ]
  },
  {
   "cell_type": "code",
   "execution_count": 107,
   "metadata": {},
   "outputs": [
    {
     "data": {
      "text/plain": [
       "0.19250026669773024"
      ]
     },
     "execution_count": 107,
     "metadata": {},
     "output_type": "execute_result"
    }
   ],
   "source": [
    "correlation = df2_outrm['D_segnum'].corr(df2_outrm['D_frac'])\n",
    "correlation"
   ]
  },
  {
   "cell_type": "markdown",
   "metadata": {},
   "source": [
    "# 5 Correlation of average length of disordered segments with number of disordered segments"
   ]
  },
  {
   "cell_type": "markdown",
   "metadata": {},
   "source": [
    "## 2D Histogram "
   ]
  },
  {
   "cell_type": "code",
   "execution_count": 108,
   "metadata": {},
   "outputs": [
    {
     "data": {
      "text/plain": [
       "Text(0.5, 1.0, 'Average Length of Disordered Content vs. Number of Disordered Regions')"
      ]
     },
     "execution_count": 108,
     "metadata": {},
     "output_type": "execute_result"
    },
    {
     "data": {
      "image/png": "[encoded data removed]",
      "text/plain": [
       "<Figure size 432x288 with 1 Axes>"
      ]
     },
     "metadata": {
      "needs_background": "light"
     },
     "output_type": "display_data"
    }
   ],
   "source": [
    "df3 = disorder[['accession', 'len']].groupby('accession').mean().merge(D_segnum, on='accession')\n",
    "plt.hist2d(df3['len'], df3['D_segnum'], bins=25)\n",
    "plt.ylabel('Number of Disordered Regions ')\n",
    "plt.xlabel('Average Length of Disordered Content')\n",
    "plt.title('Average Length of Disordered Content vs. Number of Disordered Regions')"
   ]
  },
  {
   "cell_type": "markdown",
   "metadata": {},
   "source": [
    "## Scatter plot"
   ]
  },
  {
   "cell_type": "code",
   "execution_count": 109,
   "metadata": {},
   "outputs": [
    {
     "data": {
      "text/plain": [
       "Text(0.5, 1.0, 'Number of Disordered Regions vs. Average Length of Disordered Regions')"
      ]
     },
     "execution_count": 109,
     "metadata": {},
     "output_type": "execute_result"
    },
    {
     "data": {
      "image/png": "[encoded data removed]",
      "text/plain": [
       "<Figure size 432x288 with 1 Axes>"
      ]
     },
     "metadata": {
      "needs_background": "light"
     },
     "output_type": "display_data"
    }
   ],
   "source": [
    "plt.scatter(df3['len'], df3['D_segnum'], s=6, alpha=0.25)\n",
    "plt.ylabel('Number of Disordered Regions')\n",
    "plt.xlabel('Average Length of Disordered Regions')\n",
    "plt.title('Number of Disordered Regions vs. Average Length of Disordered Regions')"
   ]
  },
  {
   "cell_type": "markdown",
   "metadata": {},
   "source": [
    "## Scatter plot without outliers"
   ]
  },
  {
   "cell_type": "code",
   "execution_count": 110,
   "metadata": {},
   "outputs": [
    {
     "data": {
      "text/plain": [
       "Text(0.5, 1.0, 'Number of Disordered Regions vs. Average Length of Disordered Regions')"
      ]
     },
     "execution_count": 110,
     "metadata": {},
     "output_type": "execute_result"
    },
    {
     "data": {
      "image/png": "[encoded data removed]",
      "text/plain": [
       "<Figure size 432x288 with 1 Axes>"
      ]
     },
     "metadata": {
      "needs_background": "light"
     },
     "output_type": "display_data"
    }
   ],
   "source": [
    "df3_outrm = df3[df3['D_segnum'] < 50]\n",
    "plt.scatter(df3_outrm['len'], df3_outrm['D_segnum'], s=6, alpha=0.25)\n",
    "plt.ylabel('Number of Disordered Regions')\n",
    "plt.xlabel('Average Length of Disordered Regions')\n",
    "plt.title('Number of Disordered Regions vs. Average Length of Disordered Regions')"
   ]
  },
  {
   "cell_type": "markdown",
   "metadata": {},
   "source": [
    "# 6 Number disordered segments in proteins distribution"
   ]
  },
  {
   "cell_type": "code",
   "execution_count": 111,
   "metadata": {},
   "outputs": [
    {
     "data": {
      "text/plain": [
       "Text(0.5, 1.0, 'Number of Disordered Segments Distribution')"
      ]
     },
     "execution_count": 111,
     "metadata": {},
     "output_type": "execute_result"
    },
    {
     "data": {
      "image/png": "[encoded data removed]",
      "text/plain": [
       "<Figure size 432x288 with 1 Axes>"
      ]
     },
     "metadata": {
      "needs_background": "light"
     },
     "output_type": "display_data"
    }
   ],
   "source": [
    "plt.hist(df2['D_segnum'], bins=50)\n",
    "plt.yscale('log')\n",
    "plt.ylabel('Number of entries')\n",
    "plt.xlabel('Number of Disordered Segments')\n",
    "plt.title('Number of Disordered Segments Distribution')"
   ]
  },
  {
   "cell_type": "markdown",
   "metadata": {},
   "source": [
    "### Outliers"
   ]
  },
  {
   "cell_type": "code",
   "execution_count": 112,
   "metadata": {},
   "outputs": [
    {
     "data": {
      "text/html": [
       "<div>\n",
       "<style scoped>\n",
       "    .dataframe tbody tr th:only-of-type {\n",
       "        vertical-align: middle;\n",
       "    }\n",
       "\n",
       "    .dataframe tbody tr th {\n",
       "        vertical-align: top;\n",
       "    }\n",
       "\n",
       "    .dataframe thead th {\n",
       "        text-align: right;\n",
       "    }\n",
       "</style>\n",
       "<table border=\"1\" class=\"dataframe\">\n",
       "  <thead>\n",
       "    <tr style=\"text-align: right;\">\n",
       "      <th></th>\n",
       "      <th>accession</th>\n",
       "      <th>len</th>\n",
       "      <th>D_len</th>\n",
       "      <th>D_frac</th>\n",
       "      <th>O_len</th>\n",
       "      <th>O_frac</th>\n",
       "      <th>D_segnum</th>\n",
       "    </tr>\n",
       "  </thead>\n",
       "  <tbody>\n",
       "    <tr>\n",
       "      <th>26795</th>\n",
       "      <td>O94248</td>\n",
       "      <td>4717</td>\n",
       "      <td>1177</td>\n",
       "      <td>0.249523</td>\n",
       "      <td>3540.0</td>\n",
       "      <td>0.750477</td>\n",
       "      <td>79</td>\n",
       "    </tr>\n",
       "  </tbody>\n",
       "</table>\n",
       "</div>"
      ],
      "text/plain": [
       "      accession   len  D_len    D_frac   O_len    O_frac  D_segnum\n",
       "26795    O94248  4717   1177  0.249523  3540.0  0.750477        79"
      ]
     },
     "execution_count": 112,
     "metadata": {},
     "output_type": "execute_result"
    }
   ],
   "source": [
    "df2[df2['D_segnum'] > 60]"
   ]
  },
  {
   "cell_type": "code",
   "execution_count": 113,
   "metadata": {},
   "outputs": [
    {
     "data": {
      "text/plain": [
       "Text(0.5, 1.0, 'Number of Disordered Segments Distribution')"
      ]
     },
     "execution_count": 113,
     "metadata": {},
     "output_type": "execute_result"
    },
    {
     "data": {
      "image/png": "[encoded data removed]",
      "text/plain": [
       "<Figure size 432x288 with 1 Axes>"
      ]
     },
     "metadata": {
      "needs_background": "light"
     },
     "output_type": "display_data"
    }
   ],
   "source": [
    "plt.hist(df2.loc[df2['D_segnum'] < 60, 'D_segnum'], bins=50)\n",
    "plt.yscale('log')\n",
    "plt.ylabel('Number of entries')\n",
    "plt.xlabel('Number of Disordered Segments')\n",
    "plt.title('Number of Disordered Segments Distribution')"
   ]
  },
  {
   "cell_type": "markdown",
   "metadata": {},
   "source": [
    "# 7 Amino acid distributions and enrichment "
   ]
  },
  {
   "cell_type": "markdown",
   "metadata": {},
   "source": [
    "## Disordered Segments "
   ]
  },
  {
   "cell_type": "code",
   "execution_count": 114,
   "metadata": {},
   "outputs": [],
   "source": [
    "aa_codes = ['A', 'R', 'N', 'D', 'C', 'Q', 'E', 'G', 'H',\n",
    "            'I', 'L', 'K', 'M', 'F', 'P', 'S', 'T', 'W', \n",
    "            'Y', 'V', 'O', 'U', 'B', 'Z', 'X', 'J']"
   ]
  },
  {
   "cell_type": "code",
   "execution_count": 115,
   "metadata": {},
   "outputs": [
    {
     "data": {
      "text/plain": [
       "Text(0.5, 1.0, 'Disordered Region Amino Acid Distribution')"
      ]
     },
     "execution_count": 115,
     "metadata": {},
     "output_type": "execute_result"
    },
    {
     "data": {
      "image/png": "[encoded data removed]",
      "text/plain": [
       "<Figure size 432x288 with 1 Axes>"
      ]
     },
     "metadata": {
      "needs_background": "light"
     },
     "output_type": "display_data"
    }
   ],
   "source": [
    "aa_counts_dis = df.loc[df['segment_type'] == 'D', aa_codes].sum()\n",
    "aa_fracs_dis = aa_counts_dis /aa_counts_dis.sum()\n",
    "plt.bar(aa_codes, aa_fracs_dis)\n",
    "plt.ylabel('Fraction of Amino Acid Makeup')\n",
    "plt.xlabel('Amino Acids')\n",
    "plt.title('Disordered Region Amino Acid Distribution')"
   ]
  },
  {
   "cell_type": "code",
   "execution_count": 116,
   "metadata": {},
   "outputs": [
    {
     "data": {
      "text/plain": [
       "Text(0.5, 1.0, 'Total Amino Acid Distribution')"
      ]
     },
     "execution_count": 116,
     "metadata": {},
     "output_type": "execute_result"
    },
    {
     "data": {
      "image/png": "[encoded data removed]",
      "text/plain": [
       "<Figure size 432x288 with 1 Axes>"
      ]
     },
     "metadata": {
      "needs_background": "light"
     },
     "output_type": "display_data"
    }
   ],
   "source": [
    "aa_counts = df.loc[df['segment_type'] == 'P', aa_codes].sum()\n",
    "aa_fracs = aa_counts / aa_counts.sum()\n",
    "plt.bar(aa_codes, aa_fracs)\n",
    "plt.ylabel('Fraction of Amino Acid Makeup')\n",
    "plt.xlabel('Amino Acids')\n",
    "plt.title('Total Amino Acid Distribution')"
   ]
  },
  {
   "cell_type": "code",
   "execution_count": 117,
   "metadata": {},
   "outputs": [
    {
     "data": {
      "text/plain": [
       "Text(0.5, 1.0, 'Difference of Protein and Disordered Segments Amino Acid Distribution')"
      ]
     },
     "execution_count": 117,
     "metadata": {},
     "output_type": "execute_result"
    },
    {
     "data": {
      "image/png": "[encoded data removed]",
      "text/plain": [
       "<Figure size 432x288 with 1 Axes>"
      ]
     },
     "metadata": {
      "needs_background": "light"
     },
     "output_type": "display_data"
    }
   ],
   "source": [
    "aa_fracs_dif = aa_fracs_dis - aa_fracs\n",
    "plt.bar(aa_codes, aa_fracs_dif)\n",
    "plt.ylabel('Difference of Fraction of Amino Acid Makeup')\n",
    "plt.xlabel('Amino Acids')\n",
    "plt.title('Difference of Protein and Disordered Segments Amino Acid Distribution')"
   ]
  },
  {
   "cell_type": "markdown",
   "metadata": {},
   "source": [
    "## Overlay Bar Chart Amino Acid Distributions over Proteins vs. Disordered Segments"
   ]
  },
  {
   "cell_type": "code",
   "execution_count": 118,
   "metadata": {},
   "outputs": [],
   "source": [
    "def overlapped_bar(df, show=False, width=0.9, alpha=.5,\n",
    "                   title='', xlabel='', ylabel='', **plot_kwargs):\n",
    "    \"\"\"\n",
    "    Like a stacked bar chart except bars on top of each other with transparency\n",
    "    \n",
    "    source: https://stackoverflow.com/questions/23293011/how-to-plot-a-superimposed-bar-chart-using-matplotlib-in-python\"\n",
    "    \"\"\"\n",
    "    xlabel = xlabel or df.index.name\n",
    "    N = len(df)\n",
    "    M = len(df.columns)\n",
    "    indices = np.arange(N)\n",
    "    colors = ['steelblue', 'firebrick', 'darksage', 'goldenrod', 'gray'] * int(M / 5. + 1)\n",
    "    for i, label, color in zip(range(M), df.columns, colors):\n",
    "        kwargs = plot_kwargs\n",
    "        kwargs.update({'color': color, 'label': label})\n",
    "        plt.bar(indices, df[label], width=width, alpha=alpha if i else 1, **kwargs)\n",
    "        plt.xticks(indices + 0.5 * width, ['{}'.format(idx) for idx in df.index.values])\n",
    "    plt.legend()\n",
    "    plt.title(title)\n",
    "    plt.xlabel(xlabel)\n",
    "    plt.ylabel(ylabel)\n",
    "    if show:\n",
    "        plt.show()\n",
    "    return plt.gcf()"
   ]
  },
  {
   "cell_type": "code",
   "execution_count": 119,
   "metadata": {},
   "outputs": [
    {
     "data": {
      "image/png": "[encoded data removed]",
      "text/plain": [
       "<Figure size 432x288 with 1 Axes>"
      ]
     },
     "metadata": {
      "needs_background": "light"
     },
     "output_type": "display_data"
    },
    {
     "data": {
      "text/plain": [
       "<Figure size 432x288 with 0 Axes>"
      ]
     },
     "execution_count": 119,
     "metadata": {},
     "output_type": "execute_result"
    },
    {
     "data": {
      "text/plain": [
       "<Figure size 432x288 with 0 Axes>"
      ]
     },
     "metadata": {},
     "output_type": "display_data"
    }
   ],
   "source": [
    "df_overlap_bar = pd.DataFrame(np.matrix([aa_fracs, aa_fracs_dis]).T, columns=['Protein', 'Disordered Regions'],\n",
    "                              index=pd.Index(aa_codes))\n",
    "overlapped_bar(df_overlap_bar, show=True, title='Amino Acid Distributions over Protein vs. Disordered Regions',\n",
    "               xlabel='Amino Acid', ylabel='Fraction of Amino Acid Makeup')"
   ]
  }
 ],
 "metadata": {
  "kernelspec": {
   "display_name": "Python 3",
   "language": "python",
   "name": "python3"
  },
  "language_info": {
   "codemirror_mode": {
    "name": "ipython",
    "version": 3
   },
   "file_extension": ".py",
   "mimetype": "text/x-python",
   "name": "python",
   "nbconvert_exporter": "python",
   "pygments_lexer": "ipython3",
   "version": "3.8.5"
  }
 },
 "nbformat": 4,
 "nbformat_minor": 4
}
