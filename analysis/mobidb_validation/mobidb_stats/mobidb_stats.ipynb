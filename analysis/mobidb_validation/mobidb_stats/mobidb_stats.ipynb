{
 "cells": [
  {
   "cell_type": "code",
   "execution_count": null,
   "metadata": {},
   "outputs": [],
   "source": [
    "import os\n",
    "\n",
    "import matplotlib.pyplot as plt\n",
    "import numpy as np\n",
    "import pandas as pd\n",
    "import scipy.ndimage as ndimage\n",
    "from Bio import SeqIO"
   ]
  },
  {
   "cell_type": "code",
   "execution_count": null,
   "metadata": {},
   "outputs": [],
   "source": [
    "def get_segments(aa_seq, label_seq, segment_type, accession, description):\n",
    "    slices = ndimage.find_objects(ndimage.label(label_seq)[0])\n",
    "    ds = []\n",
    "    for s in slices:\n",
    "        segment = aa_seq[s[0]]  # Unpack 1-element slice tuple\n",
    "        d = {'accession': accession, 'description': description, 'segment_type': segment_type, 'len': len(segment)}\n",
    "        aa_counts = count_amino_acids(segment)\n",
    "        d.update(aa_counts)\n",
    "        ds.append(d)\n",
    "    return ds\n",
    "\n",
    "\n",
    "def count_amino_acids(aa_seq):\n",
    "    aa_codes = ['A', 'R', 'N', 'D', 'C', 'Q', 'E', 'G', 'H',\n",
    "                'I', 'L', 'K', 'M', 'F', 'P', 'S', 'T', 'W', \n",
    "                'Y', 'V', 'O', 'U', 'B', 'Z', 'X', 'J']\n",
    "    d = {aa: 0 for aa in aa_codes}\n",
    "    for aa in aa_seq:\n",
    "        d[aa] += 1\n",
    "    return d"
   ]
  },
  {
   "cell_type": "code",
   "execution_count": null,
   "metadata": {},
   "outputs": [],
   "source": [
    "fasta_seq = SeqIO.parse('../generate_fastas/out/allseq.fasta', 'fasta')\n",
    "fasta_disorder = SeqIO.parse('../generate_fastas/out/alldisorder.fasta', 'fasta')"
   ]
  },
  {
   "cell_type": "code",
   "execution_count": null,
   "metadata": {},
   "outputs": [],
   "source": [
    "protein_seq_dict = {}\n",
    "for protein in fasta_seq:\n",
    "    protein_seq_dict[protein.id.split(\"|\")[0]] = str(protein.seq)"
   ]
  },
  {
   "cell_type": "code",
   "execution_count": null,
   "metadata": {},
   "outputs": [],
   "source": [
    "rows = []\n",
    "for protein in fasta_disorder:\n",
    "    dis_labels = [s == '1' for s in protein.seq]\n",
    "    ord_labels = [s == '0' for s in protein.seq]\n",
    "\n",
    "    accession = protein.id.split(\"|\")[0]\n",
    "    description = protein.description.split(\"|\")[-1]\n",
    "    aa_seq = protein_seq_dict[accession]\n",
    "    \n",
    "    # Disordered regions have the code 'D' and ordered regions have the code 'O'\n",
    "    # The entire protein is added with the code 'P'\n",
    "    ds_dis = get_segments(aa_seq, dis_labels, 'D', accession, description)\n",
    "    ds_ord = get_segments(aa_seq, ord_labels, 'O', accession, description)\n",
    "    ds_all = get_segments(aa_seq, [True for _ in range(len(aa_seq))], 'P', accession, description)\n",
    "\n",
    "    # Add ds to rows\n",
    "    rows.extend(ds_dis)\n",
    "    rows.extend(ds_ord)\n",
    "    rows.extend(ds_all)\n",
    "df1 = pd.DataFrame(rows)\n",
    "print(df1)"
   ]
  },
  {
   "cell_type": "code",
   "execution_count": null,
   "metadata": {},
   "outputs": [],
   "source": [
    "if not os.path.exists('out/'):\n",
    "    os.mkdir('out/')"
   ]
  },
  {
   "cell_type": "markdown",
   "metadata": {},
   "source": [
    "# 1 Length distributions"
   ]
  },
  {
   "cell_type": "markdown",
   "metadata": {},
   "source": [
    "## Length distribution of protein"
   ]
  },
  {
   "cell_type": "code",
   "execution_count": null,
   "metadata": {},
   "outputs": [],
   "source": [
    "protein = df1[df1['segment_type'] == 'P']\n",
    "plt.hist(protein['len'], bins=50)\n",
    "plt.yscale('log')\n",
    "plt.ylabel('Number of entries')\n",
    "plt.xlabel('Number of Amino Acids')\n",
    "plt.title('Length of Proteins')"
   ]
  },
  {
   "cell_type": "markdown",
   "metadata": {},
   "source": [
    "### Outliers"
   ]
  },
  {
   "cell_type": "code",
   "execution_count": null,
   "metadata": {},
   "outputs": [],
   "source": [
    "print(protein[protein['len'] > 15000])"
   ]
  },
  {
   "cell_type": "markdown",
   "metadata": {},
   "source": [
    "## Length distribution of proteins after removing outliers"
   ]
  },
  {
   "cell_type": "code",
   "execution_count": null,
   "metadata": {},
   "outputs": [],
   "source": [
    "protein_outrm =  protein[protein['len'] < 15000]\n",
    "plt.hist(protein_outrm['len'], bins=50)\n",
    "plt.yscale('log')\n",
    "plt.ylabel('Number of entries')\n",
    "plt.xlabel('Number of Amino Acids')\n",
    "plt.title('Length of Proteins')"
   ]
  },
  {
   "cell_type": "markdown",
   "metadata": {},
   "source": [
    "## Length distribution of disordered regions"
   ]
  },
  {
   "cell_type": "code",
   "execution_count": null,
   "metadata": {},
   "outputs": [],
   "source": [
    "disorder = df1[df1['segment_type'] == 'D']\n",
    "plt.hist(disorder['len'], bins=50)\n",
    "plt.yscale('log')\n",
    "plt.ylabel('Number of entries')\n",
    "plt.xlabel('Number of Amino Acids')\n",
    "plt.title('Length of Disordered Regions')"
   ]
  },
  {
   "cell_type": "markdown",
   "metadata": {},
   "source": [
    "### Outliers"
   ]
  },
  {
   "cell_type": "code",
   "execution_count": null,
   "metadata": {},
   "outputs": [],
   "source": [
    "outliers = disorder[disorder['len'] < 10]\n",
    "nonoutliers = disorder[disorder['len'] >= 10]\n",
    "\n",
    "print('Number of outlier segments:', len(outliers))\n",
    "print('Fraction of outliers of total segments', len(outliers) / len(disorder))\n",
    "print()\n",
    "print('Number of unique outlier proteins', outliers['accession'].nunique())\n",
    "print('Fraction of unique outliers of total proteins', outliers['accession'].nunique() / disorder['accession'].nunique())\n",
    "print()\n",
    "print('Number of unique non-outlier proteins', nonoutliers['accession'].nunique())\n",
    "print('Fraction of unique non-outliers of total proteins', nonoutliers['accession'].nunique() / disorder['accession'].nunique())\n",
    "print()\n",
    "print('Number of outlier residues', outliers['len'].sum())\n",
    "print('Fraction of outliers of total residues', outliers['len'].sum() / disorder['len'].sum())"
   ]
  },
  {
   "cell_type": "markdown",
   "metadata": {},
   "source": [
    "## Length distribution of ordered degions"
   ]
  },
  {
   "cell_type": "code",
   "execution_count": null,
   "metadata": {},
   "outputs": [],
   "source": [
    "order = df1[df1['segment_type'] == 'O']\n",
    "plt.hist(order['len'], bins=50)\n",
    "plt.yscale('log')\n",
    "plt.ylabel('Number of entries')\n",
    "plt.xlabel('Number of Amino Acids')\n",
    "plt.title('Length of Ordered Regions')"
   ]
  },
  {
   "cell_type": "markdown",
   "metadata": {},
   "source": [
    "### Outliers "
   ]
  },
  {
   "cell_type": "code",
   "execution_count": null,
   "metadata": {},
   "outputs": [],
   "source": [
    "order[order['len'] > 15000]"
   ]
  },
  {
   "cell_type": "code",
   "execution_count": null,
   "metadata": {},
   "outputs": [],
   "source": [
    "df1[df1['accession'] == 'Q8WZ42']"
   ]
  },
  {
   "cell_type": "markdown",
   "metadata": {},
   "source": [
    "# 2 Fraction disordered distribution"
   ]
  },
  {
   "cell_type": "code",
   "execution_count": null,
   "metadata": {},
   "outputs": [],
   "source": [
    "disorder_lengths = disorder.groupby('accession')['len'].sum().rename('D_len')\n",
    "df2 = protein[['accession', 'len']].merge(disorder_lengths, on='accession', how='left').fillna(0)\n",
    "df2['D_frac'] = df2['D_len'] / df2['len']\n",
    "\n",
    "plt.hist(df2['D_frac'], bins=50)\n",
    "plt.yscale('log')\n",
    "plt.ylabel('Number of entries')\n",
    "plt.xlabel('Fraction disordered')\n",
    "plt.title('Fraction Disordered Distribution')"
   ]
  },
  {
   "cell_type": "markdown",
   "metadata": {},
   "source": [
    "# 3 Fraction ordered distribution"
   ]
  },
  {
   "cell_type": "code",
   "execution_count": null,
   "metadata": {},
   "outputs": [],
   "source": [
    "order_lengths = order.groupby('accession')['len'].sum().rename('O_len')\n",
    "df2 = df2.merge(order_lengths, on='accession', how='left').fillna(0)\n",
    "df2['O_frac'] = df2['O_len'] / df2['len']\n",
    "\n",
    "plt.hist(df2['O_frac'], bins=50)\n",
    "plt.yscale('log')\n",
    "plt.ylabel('Number of entries')\n",
    "plt.xlabel('Fraction ordered')\n",
    "plt.title('Fraction Ordered Distribution')"
   ]
  },
  {
   "cell_type": "markdown",
   "metadata": {},
   "source": [
    "# 4 Correlation of fraction disordered with number of disordered segments"
   ]
  },
  {
   "cell_type": "markdown",
   "metadata": {},
   "source": [
    "## 2D Histogram"
   ]
  },
  {
   "cell_type": "code",
   "execution_count": null,
   "metadata": {},
   "outputs": [],
   "source": [
    "D_segnum = disorder.groupby('accession').size().rename('D_segnum')\n",
    "df2 = df2.merge(D_segnum, on='accession', how='left').fillna(0)\n",
    "\n",
    "plt.hist2d(df2['D_segnum'], df2['D_frac'], bins=25)\n",
    "plt.ylabel('Fraction of Disordered Content')\n",
    "plt.xlabel('Number of Disordered Regions')\n",
    "plt.title('Number Disordered Regions vs. Disordered Content')"
   ]
  },
  {
   "cell_type": "markdown",
   "metadata": {},
   "source": [
    "## Scatter plot"
   ]
  },
  {
   "cell_type": "code",
   "execution_count": null,
   "metadata": {},
   "outputs": [],
   "source": [
    "plt.scatter(df2['D_segnum'], df2['D_frac'], s=6, alpha=0.25)\n",
    "plt.ylabel('Fraction of Disordered Content')\n",
    "plt.xlabel('Number of Disordered Regions')\n",
    "plt.title('Number Disordered Regions vs. Disordered Content')"
   ]
  },
  {
   "cell_type": "markdown",
   "metadata": {},
   "source": [
    "### Outliers"
   ]
  },
  {
   "cell_type": "code",
   "execution_count": null,
   "metadata": {},
   "outputs": [],
   "source": [
    "df2[df2['D_segnum'] > 50]"
   ]
  },
  {
   "cell_type": "code",
   "execution_count": null,
   "metadata": {},
   "outputs": [],
   "source": [
    "df1[df1['accession'] == 'O94248']"
   ]
  },
  {
   "cell_type": "markdown",
   "metadata": {},
   "source": [
    "## Scatter plot without outliers "
   ]
  },
  {
   "cell_type": "code",
   "execution_count": null,
   "metadata": {},
   "outputs": [],
   "source": [
    "df2_outrm = df2[df2['D_segnum'] < 50]\n",
    "plt.scatter(df2_outrm['D_segnum'], df2_outrm['D_frac'], s=6, alpha=0.25)\n",
    "plt.ylabel('Fraction of Disordered Content')\n",
    "plt.xlabel('Number of Disordered Regions')\n",
    "plt.title('Number Disordered Regions vs. Disordered Content')"
   ]
  },
  {
   "cell_type": "markdown",
   "metadata": {},
   "source": [
    "## Correlation coefficient"
   ]
  },
  {
   "cell_type": "code",
   "execution_count": null,
   "metadata": {},
   "outputs": [],
   "source": [
    "correlation = df2_outrm['D_segnum'].corr(df2_outrm['D_frac'])\n",
    "correlation"
   ]
  },
  {
   "cell_type": "markdown",
   "metadata": {},
   "source": [
    "# 5 Correlation of average length of disordered segments with number of disordered segments"
   ]
  },
  {
   "cell_type": "markdown",
   "metadata": {},
   "source": [
    "## 2D histogram "
   ]
  },
  {
   "cell_type": "code",
   "execution_count": null,
   "metadata": {},
   "outputs": [],
   "source": [
    "df3 = disorder[['accession', 'len']].groupby('accession').mean().merge(D_segnum, on='accession')\n",
    "plt.hist2d(df3['len'], df3['D_segnum'], bins=25)\n",
    "plt.ylabel('Number of Disordered Regions ')\n",
    "plt.xlabel('Average Length of Disordered Content')\n",
    "plt.title('Average Length of Disordered Content vs. Number of Disordered Regions')"
   ]
  },
  {
   "cell_type": "markdown",
   "metadata": {},
   "source": [
    "## Scatter plot"
   ]
  },
  {
   "cell_type": "code",
   "execution_count": null,
   "metadata": {},
   "outputs": [],
   "source": [
    "plt.scatter(df3['len'], df3['D_segnum'], s=6, alpha=0.25)\n",
    "plt.ylabel('Number of Disordered Regions')\n",
    "plt.xlabel('Average Length of Disordered Regions')\n",
    "plt.title('Number of Disordered Regions vs. Average Length of Disordered Regions')"
   ]
  },
  {
   "cell_type": "markdown",
   "metadata": {},
   "source": [
    "## Scatter plot without outliers"
   ]
  },
  {
   "cell_type": "code",
   "execution_count": null,
   "metadata": {},
   "outputs": [],
   "source": [
    "df3_outrm = df3[df3['D_segnum'] < 50]\n",
    "plt.scatter(df3_outrm['len'], df3_outrm['D_segnum'], s=6, alpha=0.25)\n",
    "plt.ylabel('Number of Disordered Regions')\n",
    "plt.xlabel('Average Length of Disordered Regions')\n",
    "plt.title('Number of Disordered Regions vs. Average Length of Disordered Regions')"
   ]
  },
  {
   "cell_type": "markdown",
   "metadata": {},
   "source": [
    "# 6 Number disordered segments in proteins distribution"
   ]
  },
  {
   "cell_type": "code",
   "execution_count": null,
   "metadata": {},
   "outputs": [],
   "source": [
    "plt.hist(df2['D_segnum'], bins=50)\n",
    "plt.yscale('log')\n",
    "plt.ylabel('Number of entries')\n",
    "plt.xlabel('Number of Disordered Segments')\n",
    "plt.title('Number of Disordered Segments Distribution')"
   ]
  },
  {
   "cell_type": "markdown",
   "metadata": {},
   "source": [
    "### Outliers"
   ]
  },
  {
   "cell_type": "code",
   "execution_count": null,
   "metadata": {},
   "outputs": [],
   "source": [
    "df2[df2['D_segnum'] > 60]"
   ]
  },
  {
   "cell_type": "code",
   "execution_count": null,
   "metadata": {},
   "outputs": [],
   "source": [
    "plt.hist(df2.loc[df2['D_segnum'] < 60, 'D_segnum'], bins=50)\n",
    "plt.yscale('log')\n",
    "plt.ylabel('Number of entries')\n",
    "plt.xlabel('Number of Disordered Segments')\n",
    "plt.title('Number of Disordered Segments Distribution')"
   ]
  },
  {
   "cell_type": "markdown",
   "metadata": {},
   "source": [
    "# 7 Amino acid distributions and enrichment "
   ]
  },
  {
   "cell_type": "code",
   "execution_count": null,
   "metadata": {},
   "outputs": [],
   "source": [
    "aa_codes = ['A', 'R', 'N', 'D', 'C', 'Q', 'E', 'G', 'H',\n",
    "            'I', 'L', 'K', 'M', 'F', 'P', 'S', 'T', 'W', \n",
    "            'Y', 'V', 'O', 'U', 'B', 'Z', 'X', 'J']"
   ]
  },
  {
   "cell_type": "code",
   "execution_count": null,
   "metadata": {},
   "outputs": [],
   "source": [
    "aa_counts = df1.loc[df1['segment_type'] == 'P', aa_codes].sum()\n",
    "aa_fracs = aa_counts / aa_counts.sum()\n",
    "plt.bar(aa_codes, aa_fracs)\n",
    "plt.ylabel('Fraction of Amino Acid Makeup')\n",
    "plt.xlabel('Amino Acids')\n",
    "plt.title('Total Amino Acid Distribution')"
   ]
  },
  {
   "cell_type": "code",
   "execution_count": null,
   "metadata": {},
   "outputs": [],
   "source": [
    "aa_counts_dis = df1.loc[df1['segment_type'] == 'D', aa_codes].sum()\n",
    "aa_fracs_dis = aa_counts_dis /aa_counts_dis.sum()\n",
    "plt.bar(aa_codes, aa_fracs_dis)\n",
    "plt.ylabel('Fraction of Amino Acid Makeup')\n",
    "plt.xlabel('Amino Acids')\n",
    "plt.title('Disordered Region Amino Acid Distribution')"
   ]
  },
  {
   "cell_type": "code",
   "execution_count": null,
   "metadata": {},
   "outputs": [],
   "source": [
    "aa_fracs_dif = aa_fracs_dis - aa_fracs\n",
    "plt.bar(aa_codes, aa_fracs_dif)\n",
    "plt.ylabel('Difference of Fraction of Amino Acid Makeup')\n",
    "plt.xlabel('Amino Acids')\n",
    "plt.title('Difference of Protein and Disordered Segments Amino Acid Distribution')"
   ]
  },
  {
   "cell_type": "markdown",
   "metadata": {},
   "source": [
    "## Outliers"
   ]
  },
  {
   "cell_type": "code",
   "execution_count": null,
   "metadata": {},
   "outputs": [],
   "source": [
    "ns_codes = df1.loc[df1['segment_type'] == 'P', ['accession', 'O', 'U', 'B', 'Z', 'X', 'J']]  # Non-standard codes\n",
    "ns_codes['sum'] = ns_codes[['O', 'U', 'B', 'Z', 'X', 'J']].sum(axis=1)\n",
    "ns_codes[ns_codes['sum'] > 0].to_csv('out/ns_codes.tsv', sep='\\t', index=False)"
   ]
  },
  {
   "cell_type": "markdown",
   "metadata": {},
   "source": [
    "## Overlay Bar Chart Amino Acid Distributions over Proteins vs. Disordered Segments"
   ]
  },
  {
   "cell_type": "code",
   "execution_count": null,
   "metadata": {},
   "outputs": [],
   "source": [
    "def overlapped_bar(df, show=False, width=0.9, alpha=.5,\n",
    "                   title='', xlabel='', ylabel='', **plot_kwargs):\n",
    "    \"\"\"\n",
    "    Like a stacked bar chart except bars on top of each other with transparency\n",
    "    \n",
    "    source: https://stackoverflow.com/questions/23293011/how-to-plot-a-superimposed-bar-chart-using-matplotlib-in-python\"\n",
    "    \"\"\"\n",
    "    xlabel = xlabel or df.index.name\n",
    "    N = len(df)\n",
    "    M = len(df.columns)\n",
    "    indices = np.arange(N)\n",
    "    colors = ['steelblue', 'firebrick', 'darksage', 'goldenrod', 'gray'] * int(M / 5. + 1)\n",
    "    for i, label, color in zip(range(M), df.columns, colors):\n",
    "        kwargs = plot_kwargs\n",
    "        kwargs.update({'color': color, 'label': label})\n",
    "        plt.bar(indices, df[label], width=width, alpha=alpha if i else 1, **kwargs)\n",
    "        plt.xticks(indices + 0.5 * width, ['{}'.format(idx) for idx in df.index.values])\n",
    "    plt.legend()\n",
    "    plt.title(title)\n",
    "    plt.xlabel(xlabel)\n",
    "    plt.ylabel(ylabel)\n",
    "    if show:\n",
    "        plt.show()\n",
    "    return plt.gcf()"
   ]
  },
  {
   "cell_type": "code",
   "execution_count": null,
   "metadata": {},
   "outputs": [],
   "source": [
    "df_overlap_bar = pd.DataFrame(np.matrix([aa_fracs, aa_fracs_dis]).T, columns=['Protein', 'Disordered Regions'],\n",
    "                              index=pd.Index(aa_codes))\n",
    "overlapped_bar(df_overlap_bar, show=True, title='Amino Acid Distributions over Protein vs. Disordered Regions',\n",
    "               xlabel='Amino Acid', ylabel='Fraction of Amino Acid Makeup')"
   ]
  }
 ],
 "metadata": {
  "kernelspec": {
   "display_name": "Python 3",
   "language": "python",
   "name": "python3"
  },
  "language_info": {
   "codemirror_mode": {
    "name": "ipython",
    "version": 3
   },
   "file_extension": ".py",
   "mimetype": "text/x-python",
   "name": "python",
   "nbconvert_exporter": "python",
   "pygments_lexer": "ipython3",
   "version": "3.8.5"
  }
 },
 "nbformat": 4,
 "nbformat_minor": 4
}
