{
 "cells": [
  {
   "cell_type": "code",
   "execution_count": 1,
   "metadata": {},
   "outputs": [],
   "source": [
    "import pandas as pd\n",
    "import matplotlib.pyplot as plt\n",
    "import scipy.ndimage as ndimage\n",
    "import numpy as np\n",
    "import operator"
   ]
  },
  {
   "cell_type": "code",
   "execution_count": 2,
   "metadata": {},
   "outputs": [],
   "source": [
    "from Bio import SeqIO\n",
    "\n",
    "fasta_disorder = SeqIO.parse('../MobiDB Data/Processed/alldisorder.fasta', 'fasta')\n",
    "\n",
    "fasta_seq = SeqIO.parse('../MobiDB Data/Processed/allseq.fasta', 'fasta')"
   ]
  },
  {
   "cell_type": "code",
   "execution_count": 3,
   "metadata": {},
   "outputs": [],
   "source": [
    "def make_num_array(string):\n",
    "    return [int(s) for s in string]\n",
    "\n",
    "protein_seq_dict = {}\n",
    "for protein in fasta_seq:\n",
    "    protein_seq_dict[protein.id.split(\"|\")[0]] = str(protein.seq)"
   ]
  },
  {
   "cell_type": "code",
   "execution_count": 4,
   "metadata": {},
   "outputs": [],
   "source": [
    "rows = []\n",
    "\n",
    "def Merge(dict1, dict2):\n",
    "    return(dict2.update(dict1))\n",
    "\n",
    "def slice_arr(num_arr, disorder_type, _id, rows):\n",
    "    \n",
    "    label_arr = ndimage.label(num_arr)[0]\n",
    "    slices = ndimage.find_objects(label_arr)\n",
    "    amino_acid_sequence = protein_seq_dict.get(_id)\n",
    "    \n",
    "    for s in slices:\n",
    "        d = {}\n",
    "        segment = amino_acid_sequence[s[0]]\n",
    "        d['len'] = len(segment)\n",
    "        d['disorder_or_order'] = disorder_type\n",
    "        d['id'] = _id\n",
    "        d['fract'] = num_arr.count(1)/len(num_arr)\n",
    "        \n",
    "        aa_dict = count_amino_acids(segment)\n",
    "        Merge(aa_dict, d)\n",
    "        \n",
    "        rows.append(d)"
   ]
  },
  {
   "cell_type": "code",
   "execution_count": 5,
   "metadata": {},
   "outputs": [],
   "source": [
    "def count_amino_acids(aa_seq ):\n",
    "    \n",
    "    aa_codes = ['A', 'R', 'N', 'D', 'C', 'Q', 'E','G','H',\n",
    "                'I', 'L', 'K', 'M', 'F', 'P', 'S', 'T', 'W', \n",
    "                'Y', 'V', 'O', 'U', 'B', 'Z', 'X', 'J']\n",
    "    counts = [0]*len(aa_codes)\n",
    "    d = dict(zip(aa_codes, counts))\n",
    "    for aa in aa_seq:\n",
    "        d[aa] += 1\n",
    "        \n",
    "    return d"
   ]
  },
  {
   "cell_type": "code",
   "execution_count": 6,
   "metadata": {},
   "outputs": [],
   "source": [
    "for protein in fasta_disorder:\n",
    "    \n",
    "    dis_num_arr = make_num_array(str(protein.seq))\n",
    "    ord_num_arr = list(map(int, list(map(operator.not_, dis_num_arr))))\n",
    "\n",
    "    _id = protein.id.split(\"|\")[0]\n",
    "    _description = protein.description.split(\"|\")[-1]\n",
    "    \n",
    "    #disordered regions have the code 'D' and ordered regions have the code 'O'\n",
    "    slice_arr(dis_num_arr, 'D', _id, rows)\n",
    "    slice_arr(ord_num_arr, 'O', _id, rows)\n",
    "    \n",
    "    #adding entire protein to data frame along with the with the code 'P' for disorder_or_order\n",
    "    d = {}\n",
    "    d['len'] = len(str(protein.seq))\n",
    "    d['disorder_or_order'] = 'P'\n",
    "    d['id'] = _id\n",
    "    d['description'] = _description\n",
    "    \n",
    "    #adding entire protein to the dictionary\n",
    "    aa_seq = protein_seq_dict.get(_id)\n",
    "    aa_dict = count_amino_acids(aa_seq)\n",
    "    Merge(aa_dict, d)\n",
    "    \n",
    "    rows.append(d)\n",
    "    \n",
    "df = pd.DataFrame(rows)"
   ]
  },
  {
   "cell_type": "code",
   "execution_count": 7,
   "metadata": {},
   "outputs": [
    {
     "data": {
      "text/html": [
       "<div>\n",
       "<style scoped>\n",
       "    .dataframe tbody tr th:only-of-type {\n",
       "        vertical-align: middle;\n",
       "    }\n",
       "\n",
       "    .dataframe tbody tr th {\n",
       "        vertical-align: top;\n",
       "    }\n",
       "\n",
       "    .dataframe thead th {\n",
       "        text-align: right;\n",
       "    }\n",
       "</style>\n",
       "<table border=\"1\" class=\"dataframe\">\n",
       "  <thead>\n",
       "    <tr style=\"text-align: right;\">\n",
       "      <th></th>\n",
       "      <th>len</th>\n",
       "      <th>disorder_or_order</th>\n",
       "      <th>id</th>\n",
       "      <th>fract</th>\n",
       "      <th>A</th>\n",
       "      <th>R</th>\n",
       "      <th>N</th>\n",
       "      <th>D</th>\n",
       "      <th>C</th>\n",
       "      <th>Q</th>\n",
       "      <th>...</th>\n",
       "      <th>W</th>\n",
       "      <th>Y</th>\n",
       "      <th>V</th>\n",
       "      <th>O</th>\n",
       "      <th>U</th>\n",
       "      <th>B</th>\n",
       "      <th>Z</th>\n",
       "      <th>X</th>\n",
       "      <th>J</th>\n",
       "      <th>description</th>\n",
       "    </tr>\n",
       "  </thead>\n",
       "  <tbody>\n",
       "    <tr>\n",
       "      <th>0</th>\n",
       "      <td>1</td>\n",
       "      <td>D</td>\n",
       "      <td>Q9UPN6</td>\n",
       "      <td>0.000787</td>\n",
       "      <td>0</td>\n",
       "      <td>0</td>\n",
       "      <td>0</td>\n",
       "      <td>0</td>\n",
       "      <td>0</td>\n",
       "      <td>0</td>\n",
       "      <td>...</td>\n",
       "      <td>0</td>\n",
       "      <td>0</td>\n",
       "      <td>0</td>\n",
       "      <td>0</td>\n",
       "      <td>0</td>\n",
       "      <td>0</td>\n",
       "      <td>0</td>\n",
       "      <td>0</td>\n",
       "      <td>0</td>\n",
       "      <td>NaN</td>\n",
       "    </tr>\n",
       "    <tr>\n",
       "      <th>1</th>\n",
       "      <td>1270</td>\n",
       "      <td>O</td>\n",
       "      <td>Q9UPN6</td>\n",
       "      <td>0.999213</td>\n",
       "      <td>62</td>\n",
       "      <td>87</td>\n",
       "      <td>61</td>\n",
       "      <td>63</td>\n",
       "      <td>6</td>\n",
       "      <td>90</td>\n",
       "      <td>...</td>\n",
       "      <td>11</td>\n",
       "      <td>16</td>\n",
       "      <td>99</td>\n",
       "      <td>0</td>\n",
       "      <td>0</td>\n",
       "      <td>0</td>\n",
       "      <td>0</td>\n",
       "      <td>0</td>\n",
       "      <td>0</td>\n",
       "      <td>NaN</td>\n",
       "    </tr>\n",
       "    <tr>\n",
       "      <th>2</th>\n",
       "      <td>1271</td>\n",
       "      <td>P</td>\n",
       "      <td>Q9UPN6</td>\n",
       "      <td>NaN</td>\n",
       "      <td>62</td>\n",
       "      <td>87</td>\n",
       "      <td>61</td>\n",
       "      <td>63</td>\n",
       "      <td>6</td>\n",
       "      <td>90</td>\n",
       "      <td>...</td>\n",
       "      <td>11</td>\n",
       "      <td>16</td>\n",
       "      <td>99</td>\n",
       "      <td>0</td>\n",
       "      <td>0</td>\n",
       "      <td>0</td>\n",
       "      <td>0</td>\n",
       "      <td>0</td>\n",
       "      <td>0</td>\n",
       "      <td>SR-related and CTD-associated factor 8 OS=Homo...</td>\n",
       "    </tr>\n",
       "    <tr>\n",
       "      <th>3</th>\n",
       "      <td>1</td>\n",
       "      <td>D</td>\n",
       "      <td>H0USY8</td>\n",
       "      <td>0.004115</td>\n",
       "      <td>0</td>\n",
       "      <td>0</td>\n",
       "      <td>0</td>\n",
       "      <td>0</td>\n",
       "      <td>0</td>\n",
       "      <td>0</td>\n",
       "      <td>...</td>\n",
       "      <td>0</td>\n",
       "      <td>0</td>\n",
       "      <td>0</td>\n",
       "      <td>0</td>\n",
       "      <td>0</td>\n",
       "      <td>0</td>\n",
       "      <td>0</td>\n",
       "      <td>0</td>\n",
       "      <td>0</td>\n",
       "      <td>NaN</td>\n",
       "    </tr>\n",
       "    <tr>\n",
       "      <th>4</th>\n",
       "      <td>242</td>\n",
       "      <td>O</td>\n",
       "      <td>H0USY8</td>\n",
       "      <td>0.995885</td>\n",
       "      <td>16</td>\n",
       "      <td>18</td>\n",
       "      <td>11</td>\n",
       "      <td>16</td>\n",
       "      <td>0</td>\n",
       "      <td>12</td>\n",
       "      <td>...</td>\n",
       "      <td>1</td>\n",
       "      <td>3</td>\n",
       "      <td>10</td>\n",
       "      <td>0</td>\n",
       "      <td>0</td>\n",
       "      <td>0</td>\n",
       "      <td>0</td>\n",
       "      <td>0</td>\n",
       "      <td>0</td>\n",
       "      <td>NaN</td>\n",
       "    </tr>\n",
       "    <tr>\n",
       "      <th>...</th>\n",
       "      <td>...</td>\n",
       "      <td>...</td>\n",
       "      <td>...</td>\n",
       "      <td>...</td>\n",
       "      <td>...</td>\n",
       "      <td>...</td>\n",
       "      <td>...</td>\n",
       "      <td>...</td>\n",
       "      <td>...</td>\n",
       "      <td>...</td>\n",
       "      <td>...</td>\n",
       "      <td>...</td>\n",
       "      <td>...</td>\n",
       "      <td>...</td>\n",
       "      <td>...</td>\n",
       "      <td>...</td>\n",
       "      <td>...</td>\n",
       "      <td>...</td>\n",
       "      <td>...</td>\n",
       "      <td>...</td>\n",
       "      <td>...</td>\n",
       "    </tr>\n",
       "    <tr>\n",
       "      <th>173164</th>\n",
       "      <td>481</td>\n",
       "      <td>O</td>\n",
       "      <td>Q8WUI4</td>\n",
       "      <td>0.960084</td>\n",
       "      <td>29</td>\n",
       "      <td>39</td>\n",
       "      <td>5</td>\n",
       "      <td>14</td>\n",
       "      <td>1</td>\n",
       "      <td>29</td>\n",
       "      <td>...</td>\n",
       "      <td>2</td>\n",
       "      <td>2</td>\n",
       "      <td>20</td>\n",
       "      <td>0</td>\n",
       "      <td>0</td>\n",
       "      <td>0</td>\n",
       "      <td>0</td>\n",
       "      <td>0</td>\n",
       "      <td>0</td>\n",
       "      <td>NaN</td>\n",
       "    </tr>\n",
       "    <tr>\n",
       "      <th>173165</th>\n",
       "      <td>96</td>\n",
       "      <td>O</td>\n",
       "      <td>Q8WUI4</td>\n",
       "      <td>0.960084</td>\n",
       "      <td>4</td>\n",
       "      <td>9</td>\n",
       "      <td>3</td>\n",
       "      <td>3</td>\n",
       "      <td>4</td>\n",
       "      <td>6</td>\n",
       "      <td>...</td>\n",
       "      <td>1</td>\n",
       "      <td>2</td>\n",
       "      <td>3</td>\n",
       "      <td>0</td>\n",
       "      <td>0</td>\n",
       "      <td>0</td>\n",
       "      <td>0</td>\n",
       "      <td>0</td>\n",
       "      <td>0</td>\n",
       "      <td>NaN</td>\n",
       "    </tr>\n",
       "    <tr>\n",
       "      <th>173166</th>\n",
       "      <td>288</td>\n",
       "      <td>O</td>\n",
       "      <td>Q8WUI4</td>\n",
       "      <td>0.960084</td>\n",
       "      <td>34</td>\n",
       "      <td>11</td>\n",
       "      <td>12</td>\n",
       "      <td>17</td>\n",
       "      <td>7</td>\n",
       "      <td>11</td>\n",
       "      <td>...</td>\n",
       "      <td>6</td>\n",
       "      <td>6</td>\n",
       "      <td>26</td>\n",
       "      <td>0</td>\n",
       "      <td>0</td>\n",
       "      <td>0</td>\n",
       "      <td>0</td>\n",
       "      <td>0</td>\n",
       "      <td>0</td>\n",
       "      <td>NaN</td>\n",
       "    </tr>\n",
       "    <tr>\n",
       "      <th>173167</th>\n",
       "      <td>49</td>\n",
       "      <td>O</td>\n",
       "      <td>Q8WUI4</td>\n",
       "      <td>0.960084</td>\n",
       "      <td>5</td>\n",
       "      <td>2</td>\n",
       "      <td>1</td>\n",
       "      <td>3</td>\n",
       "      <td>1</td>\n",
       "      <td>1</td>\n",
       "      <td>...</td>\n",
       "      <td>1</td>\n",
       "      <td>0</td>\n",
       "      <td>6</td>\n",
       "      <td>0</td>\n",
       "      <td>0</td>\n",
       "      <td>0</td>\n",
       "      <td>0</td>\n",
       "      <td>0</td>\n",
       "      <td>0</td>\n",
       "      <td>NaN</td>\n",
       "    </tr>\n",
       "    <tr>\n",
       "      <th>173168</th>\n",
       "      <td>952</td>\n",
       "      <td>P</td>\n",
       "      <td>Q8WUI4</td>\n",
       "      <td>NaN</td>\n",
       "      <td>81</td>\n",
       "      <td>65</td>\n",
       "      <td>21</td>\n",
       "      <td>37</td>\n",
       "      <td>13</td>\n",
       "      <td>49</td>\n",
       "      <td>...</td>\n",
       "      <td>10</td>\n",
       "      <td>10</td>\n",
       "      <td>56</td>\n",
       "      <td>0</td>\n",
       "      <td>0</td>\n",
       "      <td>0</td>\n",
       "      <td>0</td>\n",
       "      <td>0</td>\n",
       "      <td>0</td>\n",
       "      <td>Histone deacetylase 7 OS=Homo sapiens (Human) ...</td>\n",
       "    </tr>\n",
       "  </tbody>\n",
       "</table>\n",
       "<p>173169 rows × 31 columns</p>\n",
       "</div>"
      ],
      "text/plain": [
       "         len disorder_or_order      id     fract   A   R   N   D   C   Q  ...  \\\n",
       "0          1                 D  Q9UPN6  0.000787   0   0   0   0   0   0  ...   \n",
       "1       1270                 O  Q9UPN6  0.999213  62  87  61  63   6  90  ...   \n",
       "2       1271                 P  Q9UPN6       NaN  62  87  61  63   6  90  ...   \n",
       "3          1                 D  H0USY8  0.004115   0   0   0   0   0   0  ...   \n",
       "4        242                 O  H0USY8  0.995885  16  18  11  16   0  12  ...   \n",
       "...      ...               ...     ...       ...  ..  ..  ..  ..  ..  ..  ...   \n",
       "173164   481                 O  Q8WUI4  0.960084  29  39   5  14   1  29  ...   \n",
       "173165    96                 O  Q8WUI4  0.960084   4   9   3   3   4   6  ...   \n",
       "173166   288                 O  Q8WUI4  0.960084  34  11  12  17   7  11  ...   \n",
       "173167    49                 O  Q8WUI4  0.960084   5   2   1   3   1   1  ...   \n",
       "173168   952                 P  Q8WUI4       NaN  81  65  21  37  13  49  ...   \n",
       "\n",
       "         W   Y   V  O  U  B  Z  X  J  \\\n",
       "0        0   0   0  0  0  0  0  0  0   \n",
       "1       11  16  99  0  0  0  0  0  0   \n",
       "2       11  16  99  0  0  0  0  0  0   \n",
       "3        0   0   0  0  0  0  0  0  0   \n",
       "4        1   3  10  0  0  0  0  0  0   \n",
       "...     ..  ..  .. .. .. .. .. .. ..   \n",
       "173164   2   2  20  0  0  0  0  0  0   \n",
       "173165   1   2   3  0  0  0  0  0  0   \n",
       "173166   6   6  26  0  0  0  0  0  0   \n",
       "173167   1   0   6  0  0  0  0  0  0   \n",
       "173168  10  10  56  0  0  0  0  0  0   \n",
       "\n",
       "                                              description  \n",
       "0                                                     NaN  \n",
       "1                                                     NaN  \n",
       "2       SR-related and CTD-associated factor 8 OS=Homo...  \n",
       "3                                                     NaN  \n",
       "4                                                     NaN  \n",
       "...                                                   ...  \n",
       "173164                                                NaN  \n",
       "173165                                                NaN  \n",
       "173166                                                NaN  \n",
       "173167                                                NaN  \n",
       "173168  Histone deacetylase 7 OS=Homo sapiens (Human) ...  \n",
       "\n",
       "[173169 rows x 31 columns]"
      ]
     },
     "execution_count": 7,
     "metadata": {},
     "output_type": "execute_result"
    }
   ],
   "source": [
    "df"
   ]
  },
  {
   "cell_type": "markdown",
   "metadata": {},
   "source": [
    "# Length Distribution"
   ]
  },
  {
   "cell_type": "markdown",
   "metadata": {},
   "source": [
    "## Length Distribution of Protein "
   ]
  },
  {
   "cell_type": "code",
   "execution_count": 8,
   "metadata": {},
   "outputs": [
    {
     "data": {
      "text/plain": [
       "Text(0.5, 1.0, 'Length of Proteins')"
      ]
     },
     "execution_count": 8,
     "metadata": {},
     "output_type": "execute_result"
    },
    {
     "data": {
      "image/png": "[encoded data removed]",
      "text/plain": [
       "<Figure size 432x288 with 1 Axes>"
      ]
     },
     "metadata": {
      "needs_background": "light"
     },
     "output_type": "display_data"
    }
   ],
   "source": [
    "len_protein = df[df['disorder_or_order'] == 'P']\n",
    "plt.hist(len_protein['len'])\n",
    "plt.yscale('log')\n",
    "plt.ylabel('Number of entries')\n",
    "plt.xlabel('Number of Amino Acids')\n",
    "plt.title('Length of Proteins')"
   ]
  },
  {
   "cell_type": "markdown",
   "metadata": {},
   "source": [
    "### Outliers"
   ]
  },
  {
   "cell_type": "code",
   "execution_count": 9,
   "metadata": {},
   "outputs": [
    {
     "data": {
      "text/html": [
       "<div>\n",
       "<style scoped>\n",
       "    .dataframe tbody tr th:only-of-type {\n",
       "        vertical-align: middle;\n",
       "    }\n",
       "\n",
       "    .dataframe tbody tr th {\n",
       "        vertical-align: top;\n",
       "    }\n",
       "\n",
       "    .dataframe thead th {\n",
       "        text-align: right;\n",
       "    }\n",
       "</style>\n",
       "<table border=\"1\" class=\"dataframe\">\n",
       "  <thead>\n",
       "    <tr style=\"text-align: right;\">\n",
       "      <th></th>\n",
       "      <th>len</th>\n",
       "      <th>disorder_or_order</th>\n",
       "      <th>id</th>\n",
       "      <th>fract</th>\n",
       "      <th>A</th>\n",
       "      <th>R</th>\n",
       "      <th>N</th>\n",
       "      <th>D</th>\n",
       "      <th>C</th>\n",
       "      <th>Q</th>\n",
       "      <th>...</th>\n",
       "      <th>W</th>\n",
       "      <th>Y</th>\n",
       "      <th>V</th>\n",
       "      <th>O</th>\n",
       "      <th>U</th>\n",
       "      <th>B</th>\n",
       "      <th>Z</th>\n",
       "      <th>X</th>\n",
       "      <th>J</th>\n",
       "      <th>description</th>\n",
       "    </tr>\n",
       "  </thead>\n",
       "  <tbody>\n",
       "    <tr>\n",
       "      <th>12712</th>\n",
       "      <td>18562</td>\n",
       "      <td>P</td>\n",
       "      <td>G4SLH0</td>\n",
       "      <td>NaN</td>\n",
       "      <td>1419</td>\n",
       "      <td>505</td>\n",
       "      <td>600</td>\n",
       "      <td>1312</td>\n",
       "      <td>177</td>\n",
       "      <td>856</td>\n",
       "      <td>...</td>\n",
       "      <td>96</td>\n",
       "      <td>231</td>\n",
       "      <td>1525</td>\n",
       "      <td>0</td>\n",
       "      <td>0</td>\n",
       "      <td>0</td>\n",
       "      <td>0</td>\n",
       "      <td>0</td>\n",
       "      <td>0</td>\n",
       "      <td>Titin homolog OS=Caenorhabditis elegans OX=623...</td>\n",
       "    </tr>\n",
       "    <tr>\n",
       "      <th>12740</th>\n",
       "      <td>34350</td>\n",
       "      <td>P</td>\n",
       "      <td>Q8WZ42</td>\n",
       "      <td>NaN</td>\n",
       "      <td>2084</td>\n",
       "      <td>1640</td>\n",
       "      <td>1111</td>\n",
       "      <td>1720</td>\n",
       "      <td>513</td>\n",
       "      <td>942</td>\n",
       "      <td>...</td>\n",
       "      <td>466</td>\n",
       "      <td>999</td>\n",
       "      <td>3184</td>\n",
       "      <td>0</td>\n",
       "      <td>0</td>\n",
       "      <td>0</td>\n",
       "      <td>0</td>\n",
       "      <td>0</td>\n",
       "      <td>0</td>\n",
       "      <td>Titin OS=Homo sapiens (Human) OX=9606 GN=TTN</td>\n",
       "    </tr>\n",
       "  </tbody>\n",
       "</table>\n",
       "<p>2 rows × 31 columns</p>\n",
       "</div>"
      ],
      "text/plain": [
       "         len disorder_or_order      id  fract     A     R     N     D    C  \\\n",
       "12712  18562                 P  G4SLH0    NaN  1419   505   600  1312  177   \n",
       "12740  34350                 P  Q8WZ42    NaN  2084  1640  1111  1720  513   \n",
       "\n",
       "         Q  ...    W    Y     V  O  U  B  Z  X  J  \\\n",
       "12712  856  ...   96  231  1525  0  0  0  0  0  0   \n",
       "12740  942  ...  466  999  3184  0  0  0  0  0  0   \n",
       "\n",
       "                                             description  \n",
       "12712  Titin homolog OS=Caenorhabditis elegans OX=623...  \n",
       "12740       Titin OS=Homo sapiens (Human) OX=9606 GN=TTN  \n",
       "\n",
       "[2 rows x 31 columns]"
      ]
     },
     "execution_count": 9,
     "metadata": {},
     "output_type": "execute_result"
    }
   ],
   "source": [
    "len_protein[len_protein['len'] > 15000]"
   ]
  },
  {
   "cell_type": "markdown",
   "metadata": {},
   "source": [
    "## Length Distribution of Proteins After Removing Outliers"
   ]
  },
  {
   "cell_type": "code",
   "execution_count": 10,
   "metadata": {},
   "outputs": [
    {
     "data": {
      "text/plain": [
       "Text(0.5, 1.0, 'Length of Proteins')"
      ]
     },
     "execution_count": 10,
     "metadata": {},
     "output_type": "execute_result"
    },
    {
     "data": {
      "image/png": "[encoded data removed]",
      "text/plain": [
       "<Figure size 432x288 with 1 Axes>"
      ]
     },
     "metadata": {
      "needs_background": "light"
     },
     "output_type": "display_data"
    }
   ],
   "source": [
    "len_protein_outrm =  len_protein[len_protein['len'] < 15000]\n",
    "plt.hist(len_protein_outrm['len'])\n",
    "plt.yscale('log')\n",
    "plt.ylabel('Number of entries')\n",
    "plt.xlabel('Number of Amino Acids')\n",
    "plt.title('Length of Proteins')"
   ]
  },
  {
   "cell_type": "markdown",
   "metadata": {},
   "source": [
    "## Length Distribution of Disordered Regions"
   ]
  },
  {
   "cell_type": "code",
   "execution_count": 11,
   "metadata": {},
   "outputs": [
    {
     "data": {
      "text/plain": [
       "Text(0.5, 1.0, 'Length of Disordered Regions')"
      ]
     },
     "execution_count": 11,
     "metadata": {},
     "output_type": "execute_result"
    },
    {
     "data": {
      "image/png": "[encoded data removed]",
      "text/plain": [
       "<Figure size 432x288 with 1 Axes>"
      ]
     },
     "metadata": {
      "needs_background": "light"
     },
     "output_type": "display_data"
    }
   ],
   "source": [
    "len_dis = df[df['disorder_or_order'] == 'D']\n",
    "plt.hist(len_dis['len'])\n",
    "plt.yscale('log')\n",
    "plt.ylabel('Number of entries')\n",
    "plt.xlabel('Number of Amino Acids')\n",
    "plt.title('Length of Disordered Regions')"
   ]
  },
  {
   "cell_type": "markdown",
   "metadata": {},
   "source": [
    "## Length Distribution of Ordered Regions"
   ]
  },
  {
   "cell_type": "code",
   "execution_count": 12,
   "metadata": {},
   "outputs": [
    {
     "data": {
      "text/plain": [
       "Text(0.5, 1.0, 'Length of Ordered Regions')"
      ]
     },
     "execution_count": 12,
     "metadata": {},
     "output_type": "execute_result"
    },
    {
     "data": {
      "image/png": "[encoded data removed]",
      "text/plain": [
       "<Figure size 432x288 with 1 Axes>"
      ]
     },
     "metadata": {
      "needs_background": "light"
     },
     "output_type": "display_data"
    }
   ],
   "source": [
    "len_ord = df[df['disorder_or_order'] == 'O']\n",
    "plt.hist(len_ord['len'])\n",
    "plt.yscale('log')\n",
    "plt.ylabel('Number of entries')\n",
    "plt.xlabel('Number of Amino Acids')\n",
    "plt.title('Length of Ordered Regions')"
   ]
  },
  {
   "cell_type": "markdown",
   "metadata": {},
   "source": [
    "### Outliers "
   ]
  },
  {
   "cell_type": "code",
   "execution_count": 13,
   "metadata": {},
   "outputs": [
    {
     "data": {
      "text/html": [
       "<div>\n",
       "<style scoped>\n",
       "    .dataframe tbody tr th:only-of-type {\n",
       "        vertical-align: middle;\n",
       "    }\n",
       "\n",
       "    .dataframe tbody tr th {\n",
       "        vertical-align: top;\n",
       "    }\n",
       "\n",
       "    .dataframe thead th {\n",
       "        text-align: right;\n",
       "    }\n",
       "</style>\n",
       "<table border=\"1\" class=\"dataframe\">\n",
       "  <thead>\n",
       "    <tr style=\"text-align: right;\">\n",
       "      <th></th>\n",
       "      <th>len</th>\n",
       "      <th>disorder_or_order</th>\n",
       "      <th>id</th>\n",
       "      <th>fract</th>\n",
       "      <th>A</th>\n",
       "      <th>R</th>\n",
       "      <th>N</th>\n",
       "      <th>D</th>\n",
       "      <th>C</th>\n",
       "      <th>Q</th>\n",
       "      <th>...</th>\n",
       "      <th>W</th>\n",
       "      <th>Y</th>\n",
       "      <th>V</th>\n",
       "      <th>O</th>\n",
       "      <th>U</th>\n",
       "      <th>B</th>\n",
       "      <th>Z</th>\n",
       "      <th>X</th>\n",
       "      <th>J</th>\n",
       "      <th>description</th>\n",
       "    </tr>\n",
       "  </thead>\n",
       "  <tbody>\n",
       "    <tr>\n",
       "      <th>12739</th>\n",
       "      <td>22319</td>\n",
       "      <td>O</td>\n",
       "      <td>Q8WZ42</td>\n",
       "      <td>0.937351</td>\n",
       "      <td>1310</td>\n",
       "      <td>1184</td>\n",
       "      <td>788</td>\n",
       "      <td>1238</td>\n",
       "      <td>300</td>\n",
       "      <td>520</td>\n",
       "      <td>...</td>\n",
       "      <td>365</td>\n",
       "      <td>704</td>\n",
       "      <td>2004</td>\n",
       "      <td>0</td>\n",
       "      <td>0</td>\n",
       "      <td>0</td>\n",
       "      <td>0</td>\n",
       "      <td>0</td>\n",
       "      <td>0</td>\n",
       "      <td>NaN</td>\n",
       "    </tr>\n",
       "  </tbody>\n",
       "</table>\n",
       "<p>1 rows × 31 columns</p>\n",
       "</div>"
      ],
      "text/plain": [
       "         len disorder_or_order      id     fract     A     R    N     D    C  \\\n",
       "12739  22319                 O  Q8WZ42  0.937351  1310  1184  788  1238  300   \n",
       "\n",
       "         Q  ...    W    Y     V  O  U  B  Z  X  J  description  \n",
       "12739  520  ...  365  704  2004  0  0  0  0  0  0          NaN  \n",
       "\n",
       "[1 rows x 31 columns]"
      ]
     },
     "execution_count": 13,
     "metadata": {},
     "output_type": "execute_result"
    }
   ],
   "source": [
    "len_ord[len_ord['len'] > 15000]"
   ]
  },
  {
   "cell_type": "code",
   "execution_count": 14,
   "metadata": {},
   "outputs": [
    {
     "data": {
      "text/html": [
       "<div>\n",
       "<style scoped>\n",
       "    .dataframe tbody tr th:only-of-type {\n",
       "        vertical-align: middle;\n",
       "    }\n",
       "\n",
       "    .dataframe tbody tr th {\n",
       "        vertical-align: top;\n",
       "    }\n",
       "\n",
       "    .dataframe thead th {\n",
       "        text-align: right;\n",
       "    }\n",
       "</style>\n",
       "<table border=\"1\" class=\"dataframe\">\n",
       "  <thead>\n",
       "    <tr style=\"text-align: right;\">\n",
       "      <th></th>\n",
       "      <th>len</th>\n",
       "      <th>disorder_or_order</th>\n",
       "      <th>id</th>\n",
       "      <th>fract</th>\n",
       "      <th>A</th>\n",
       "      <th>R</th>\n",
       "      <th>N</th>\n",
       "      <th>D</th>\n",
       "      <th>C</th>\n",
       "      <th>Q</th>\n",
       "      <th>...</th>\n",
       "      <th>W</th>\n",
       "      <th>Y</th>\n",
       "      <th>V</th>\n",
       "      <th>O</th>\n",
       "      <th>U</th>\n",
       "      <th>B</th>\n",
       "      <th>Z</th>\n",
       "      <th>X</th>\n",
       "      <th>J</th>\n",
       "      <th>description</th>\n",
       "    </tr>\n",
       "  </thead>\n",
       "  <tbody>\n",
       "    <tr>\n",
       "      <th>12737</th>\n",
       "      <td>2152</td>\n",
       "      <td>D</td>\n",
       "      <td>Q8WZ42</td>\n",
       "      <td>0.062649</td>\n",
       "      <td>129</td>\n",
       "      <td>62</td>\n",
       "      <td>0</td>\n",
       "      <td>11</td>\n",
       "      <td>0</td>\n",
       "      <td>28</td>\n",
       "      <td>...</td>\n",
       "      <td>3</td>\n",
       "      <td>32</td>\n",
       "      <td>329</td>\n",
       "      <td>0</td>\n",
       "      <td>0</td>\n",
       "      <td>0</td>\n",
       "      <td>0</td>\n",
       "      <td>0</td>\n",
       "      <td>0</td>\n",
       "      <td>NaN</td>\n",
       "    </tr>\n",
       "    <tr>\n",
       "      <th>12738</th>\n",
       "      <td>9879</td>\n",
       "      <td>O</td>\n",
       "      <td>Q8WZ42</td>\n",
       "      <td>0.937351</td>\n",
       "      <td>645</td>\n",
       "      <td>394</td>\n",
       "      <td>323</td>\n",
       "      <td>471</td>\n",
       "      <td>213</td>\n",
       "      <td>394</td>\n",
       "      <td>...</td>\n",
       "      <td>98</td>\n",
       "      <td>263</td>\n",
       "      <td>851</td>\n",
       "      <td>0</td>\n",
       "      <td>0</td>\n",
       "      <td>0</td>\n",
       "      <td>0</td>\n",
       "      <td>0</td>\n",
       "      <td>0</td>\n",
       "      <td>NaN</td>\n",
       "    </tr>\n",
       "    <tr>\n",
       "      <th>12739</th>\n",
       "      <td>22319</td>\n",
       "      <td>O</td>\n",
       "      <td>Q8WZ42</td>\n",
       "      <td>0.937351</td>\n",
       "      <td>1310</td>\n",
       "      <td>1184</td>\n",
       "      <td>788</td>\n",
       "      <td>1238</td>\n",
       "      <td>300</td>\n",
       "      <td>520</td>\n",
       "      <td>...</td>\n",
       "      <td>365</td>\n",
       "      <td>704</td>\n",
       "      <td>2004</td>\n",
       "      <td>0</td>\n",
       "      <td>0</td>\n",
       "      <td>0</td>\n",
       "      <td>0</td>\n",
       "      <td>0</td>\n",
       "      <td>0</td>\n",
       "      <td>NaN</td>\n",
       "    </tr>\n",
       "    <tr>\n",
       "      <th>12740</th>\n",
       "      <td>34350</td>\n",
       "      <td>P</td>\n",
       "      <td>Q8WZ42</td>\n",
       "      <td>NaN</td>\n",
       "      <td>2084</td>\n",
       "      <td>1640</td>\n",
       "      <td>1111</td>\n",
       "      <td>1720</td>\n",
       "      <td>513</td>\n",
       "      <td>942</td>\n",
       "      <td>...</td>\n",
       "      <td>466</td>\n",
       "      <td>999</td>\n",
       "      <td>3184</td>\n",
       "      <td>0</td>\n",
       "      <td>0</td>\n",
       "      <td>0</td>\n",
       "      <td>0</td>\n",
       "      <td>0</td>\n",
       "      <td>0</td>\n",
       "      <td>Titin OS=Homo sapiens (Human) OX=9606 GN=TTN</td>\n",
       "    </tr>\n",
       "  </tbody>\n",
       "</table>\n",
       "<p>4 rows × 31 columns</p>\n",
       "</div>"
      ],
      "text/plain": [
       "         len disorder_or_order      id     fract     A     R     N     D    C  \\\n",
       "12737   2152                 D  Q8WZ42  0.062649   129    62     0    11    0   \n",
       "12738   9879                 O  Q8WZ42  0.937351   645   394   323   471  213   \n",
       "12739  22319                 O  Q8WZ42  0.937351  1310  1184   788  1238  300   \n",
       "12740  34350                 P  Q8WZ42       NaN  2084  1640  1111  1720  513   \n",
       "\n",
       "         Q  ...    W    Y     V  O  U  B  Z  X  J  \\\n",
       "12737   28  ...    3   32   329  0  0  0  0  0  0   \n",
       "12738  394  ...   98  263   851  0  0  0  0  0  0   \n",
       "12739  520  ...  365  704  2004  0  0  0  0  0  0   \n",
       "12740  942  ...  466  999  3184  0  0  0  0  0  0   \n",
       "\n",
       "                                        description  \n",
       "12737                                           NaN  \n",
       "12738                                           NaN  \n",
       "12739                                           NaN  \n",
       "12740  Titin OS=Homo sapiens (Human) OX=9606 GN=TTN  \n",
       "\n",
       "[4 rows x 31 columns]"
      ]
     },
     "execution_count": 14,
     "metadata": {},
     "output_type": "execute_result"
    }
   ],
   "source": [
    "df[df['id'] == 'Q8WZ42']"
   ]
  },
  {
   "cell_type": "markdown",
   "metadata": {},
   "source": [
    "# Fraction disordered distribution"
   ]
  },
  {
   "cell_type": "code",
   "execution_count": 15,
   "metadata": {},
   "outputs": [
    {
     "data": {
      "text/plain": [
       "Text(0.5, 1.0, 'Fraction Disordered Distribution')"
      ]
     },
     "execution_count": 15,
     "metadata": {},
     "output_type": "execute_result"
    },
    {
     "data": {
      "image/png": "[encoded data removed]",
      "text/plain": [
       "<Figure size 432x288 with 1 Axes>"
      ]
     },
     "metadata": {
      "needs_background": "light"
     },
     "output_type": "display_data"
    }
   ],
   "source": [
    "fract_dist = df[df['disorder_or_order'] == 'D'].drop_duplicates('id')\n",
    "plt.hist(fract_dist['fract'])\n",
    "plt.yscale('log')\n",
    "plt.ylabel('Number of entries')\n",
    "plt.xlabel('Fraction of disordered')\n",
    "plt.title('Fraction Disordered Distribution')"
   ]
  },
  {
   "cell_type": "markdown",
   "metadata": {},
   "source": [
    "# Fraction ordered distribution"
   ]
  },
  {
   "cell_type": "code",
   "execution_count": 16,
   "metadata": {},
   "outputs": [
    {
     "data": {
      "text/plain": [
       "Text(0.5, 1.0, 'Fraction Disordered Distribution')"
      ]
     },
     "execution_count": 16,
     "metadata": {},
     "output_type": "execute_result"
    },
    {
     "data": {
      "image/png": "[encoded data removed]",
      "text/plain": [
       "<Figure size 432x288 with 1 Axes>"
      ]
     },
     "metadata": {
      "needs_background": "light"
     },
     "output_type": "display_data"
    }
   ],
   "source": [
    "fract_ord = df[df['disorder_or_order'] == 'O'].drop_duplicates('id')\n",
    "plt.hist(fract_ord['fract'])\n",
    "plt.yscale('log')\n",
    "plt.ylabel('Number of entries')\n",
    "plt.xlabel('Fraction of disordered')\n",
    "plt.title('Fraction Disordered Distribution')"
   ]
  },
  {
   "cell_type": "markdown",
   "metadata": {},
   "source": [
    "# Correlation of fraction disordered with number of disordered segments"
   ]
  },
  {
   "cell_type": "markdown",
   "metadata": {},
   "source": [
    "## 2D Histogram"
   ]
  },
  {
   "cell_type": "code",
   "execution_count": 17,
   "metadata": {},
   "outputs": [
    {
     "data": {
      "text/plain": [
       "Text(0.5, 1.0, 'Number Disordered Regions vs. Disordered Content')"
      ]
     },
     "execution_count": 17,
     "metadata": {},
     "output_type": "execute_result"
    },
    {
     "data": {
      "image/png": "[encoded data removed]",
      "text/plain": [
       "<Figure size 432x288 with 1 Axes>"
      ]
     },
     "metadata": {
      "needs_background": "light"
     },
     "output_type": "display_data"
    }
   ],
   "source": [
    "num_dis_seg = df[df['disorder_or_order'] == 'D'].groupby('id').size().reset_index(name='counts')\n",
    "plt.hist2d(num_dis_seg['counts'],fract_dist['fract'])\n",
    "plt.ylabel('Fraction of Disordered Content')\n",
    "plt.xlabel('Number of Disordered Regions')\n",
    "plt.title('Number Disordered Regions vs. Disordered Content')"
   ]
  },
  {
   "cell_type": "code",
   "execution_count": 18,
   "metadata": {},
   "outputs": [
    {
     "data": {
      "text/plain": [
       "Text(0.5, 1.0, 'Number Disordered Content vs.  Disordered Region')"
      ]
     },
     "execution_count": 18,
     "metadata": {},
     "output_type": "execute_result"
    },
    {
     "data": {
      "image/png": "[encoded data removed]",
      "text/plain": [
       "<Figure size 432x288 with 1 Axes>"
      ]
     },
     "metadata": {
      "needs_background": "light"
     },
     "output_type": "display_data"
    }
   ],
   "source": [
    "plt.hist2d(fract_dist['fract'],num_dis_seg['counts'])\n",
    "plt.yscale('log')\n",
    "plt.xlabel('Fraction of Disordered Content')\n",
    "plt.ylabel('Number of Disordered Regions')\n",
    "plt.title('Number Disordered Content vs.  Disordered Region')"
   ]
  },
  {
   "cell_type": "markdown",
   "metadata": {},
   "source": [
    "## Scatter plot"
   ]
  },
  {
   "cell_type": "code",
   "execution_count": 19,
   "metadata": {},
   "outputs": [
    {
     "data": {
      "text/plain": [
       "Text(0.5, 1.0, 'Number Disordered Regions vs. Disordered Content')"
      ]
     },
     "execution_count": 19,
     "metadata": {},
     "output_type": "execute_result"
    },
    {
     "data": {
      "image/png": "[encoded data removed]",
      "text/plain": [
       "<Figure size 432x288 with 1 Axes>"
      ]
     },
     "metadata": {
      "needs_background": "light"
     },
     "output_type": "display_data"
    }
   ],
   "source": [
    "df_merge = pd.merge(num_dis_seg, fract_dist, on='id', how='outer')\n",
    "df_merge\n",
    "df_merge.plot.scatter( x = 'counts', y = 'fract')\n",
    "plt.ylabel('Fraction of Disordered Content')\n",
    "plt.xlabel('Number of Disordered Regions')\n",
    "plt.title('Number Disordered Regions vs. Disordered Content')"
   ]
  },
  {
   "cell_type": "markdown",
   "metadata": {},
   "source": [
    "### Outliers"
   ]
  },
  {
   "cell_type": "code",
   "execution_count": 20,
   "metadata": {},
   "outputs": [
    {
     "data": {
      "text/html": [
       "<div>\n",
       "<style scoped>\n",
       "    .dataframe tbody tr th:only-of-type {\n",
       "        vertical-align: middle;\n",
       "    }\n",
       "\n",
       "    .dataframe tbody tr th {\n",
       "        vertical-align: top;\n",
       "    }\n",
       "\n",
       "    .dataframe thead th {\n",
       "        text-align: right;\n",
       "    }\n",
       "</style>\n",
       "<table border=\"1\" class=\"dataframe\">\n",
       "  <thead>\n",
       "    <tr style=\"text-align: right;\">\n",
       "      <th></th>\n",
       "      <th>id</th>\n",
       "      <th>counts</th>\n",
       "      <th>len</th>\n",
       "      <th>disorder_or_order</th>\n",
       "      <th>fract</th>\n",
       "      <th>A</th>\n",
       "      <th>R</th>\n",
       "      <th>N</th>\n",
       "      <th>D</th>\n",
       "      <th>C</th>\n",
       "      <th>...</th>\n",
       "      <th>W</th>\n",
       "      <th>Y</th>\n",
       "      <th>V</th>\n",
       "      <th>O</th>\n",
       "      <th>U</th>\n",
       "      <th>B</th>\n",
       "      <th>Z</th>\n",
       "      <th>X</th>\n",
       "      <th>J</th>\n",
       "      <th>description</th>\n",
       "    </tr>\n",
       "  </thead>\n",
       "  <tbody>\n",
       "    <tr>\n",
       "      <th>9996</th>\n",
       "      <td>O94248</td>\n",
       "      <td>79</td>\n",
       "      <td>1</td>\n",
       "      <td>D</td>\n",
       "      <td>0.249523</td>\n",
       "      <td>0</td>\n",
       "      <td>0</td>\n",
       "      <td>0</td>\n",
       "      <td>0</td>\n",
       "      <td>0</td>\n",
       "      <td>...</td>\n",
       "      <td>0</td>\n",
       "      <td>0</td>\n",
       "      <td>0</td>\n",
       "      <td>0</td>\n",
       "      <td>0</td>\n",
       "      <td>0</td>\n",
       "      <td>0</td>\n",
       "      <td>0</td>\n",
       "      <td>0</td>\n",
       "      <td>NaN</td>\n",
       "    </tr>\n",
       "  </tbody>\n",
       "</table>\n",
       "<p>1 rows × 32 columns</p>\n",
       "</div>"
      ],
      "text/plain": [
       "          id  counts  len disorder_or_order     fract  A  R  N  D  C  ...  W  \\\n",
       "9996  O94248      79    1                 D  0.249523  0  0  0  0  0  ...  0   \n",
       "\n",
       "      Y  V  O  U  B  Z  X  J  description  \n",
       "9996  0  0  0  0  0  0  0  0          NaN  \n",
       "\n",
       "[1 rows x 32 columns]"
      ]
     },
     "execution_count": 20,
     "metadata": {},
     "output_type": "execute_result"
    }
   ],
   "source": [
    "df_merge[df_merge['counts'] > 50]"
   ]
  },
  {
   "cell_type": "code",
   "execution_count": 21,
   "metadata": {},
   "outputs": [
    {
     "data": {
      "text/html": [
       "<div>\n",
       "<style scoped>\n",
       "    .dataframe tbody tr th:only-of-type {\n",
       "        vertical-align: middle;\n",
       "    }\n",
       "\n",
       "    .dataframe tbody tr th {\n",
       "        vertical-align: top;\n",
       "    }\n",
       "\n",
       "    .dataframe thead th {\n",
       "        text-align: right;\n",
       "    }\n",
       "</style>\n",
       "<table border=\"1\" class=\"dataframe\">\n",
       "  <thead>\n",
       "    <tr style=\"text-align: right;\">\n",
       "      <th></th>\n",
       "      <th>len</th>\n",
       "      <th>disorder_or_order</th>\n",
       "      <th>id</th>\n",
       "      <th>fract</th>\n",
       "      <th>A</th>\n",
       "      <th>R</th>\n",
       "      <th>N</th>\n",
       "      <th>D</th>\n",
       "      <th>C</th>\n",
       "      <th>Q</th>\n",
       "      <th>...</th>\n",
       "      <th>W</th>\n",
       "      <th>Y</th>\n",
       "      <th>V</th>\n",
       "      <th>O</th>\n",
       "      <th>U</th>\n",
       "      <th>B</th>\n",
       "      <th>Z</th>\n",
       "      <th>X</th>\n",
       "      <th>J</th>\n",
       "      <th>description</th>\n",
       "    </tr>\n",
       "  </thead>\n",
       "  <tbody>\n",
       "    <tr>\n",
       "      <th>22550</th>\n",
       "      <td>1</td>\n",
       "      <td>D</td>\n",
       "      <td>O94248</td>\n",
       "      <td>0.249523</td>\n",
       "      <td>0</td>\n",
       "      <td>0</td>\n",
       "      <td>0</td>\n",
       "      <td>0</td>\n",
       "      <td>0</td>\n",
       "      <td>0</td>\n",
       "      <td>...</td>\n",
       "      <td>0</td>\n",
       "      <td>0</td>\n",
       "      <td>0</td>\n",
       "      <td>0</td>\n",
       "      <td>0</td>\n",
       "      <td>0</td>\n",
       "      <td>0</td>\n",
       "      <td>0</td>\n",
       "      <td>0</td>\n",
       "      <td>NaN</td>\n",
       "    </tr>\n",
       "    <tr>\n",
       "      <th>22551</th>\n",
       "      <td>4</td>\n",
       "      <td>D</td>\n",
       "      <td>O94248</td>\n",
       "      <td>0.249523</td>\n",
       "      <td>0</td>\n",
       "      <td>0</td>\n",
       "      <td>0</td>\n",
       "      <td>0</td>\n",
       "      <td>0</td>\n",
       "      <td>0</td>\n",
       "      <td>...</td>\n",
       "      <td>1</td>\n",
       "      <td>0</td>\n",
       "      <td>1</td>\n",
       "      <td>0</td>\n",
       "      <td>0</td>\n",
       "      <td>0</td>\n",
       "      <td>0</td>\n",
       "      <td>0</td>\n",
       "      <td>0</td>\n",
       "      <td>NaN</td>\n",
       "    </tr>\n",
       "    <tr>\n",
       "      <th>22552</th>\n",
       "      <td>4</td>\n",
       "      <td>D</td>\n",
       "      <td>O94248</td>\n",
       "      <td>0.249523</td>\n",
       "      <td>0</td>\n",
       "      <td>0</td>\n",
       "      <td>1</td>\n",
       "      <td>0</td>\n",
       "      <td>0</td>\n",
       "      <td>0</td>\n",
       "      <td>...</td>\n",
       "      <td>0</td>\n",
       "      <td>0</td>\n",
       "      <td>0</td>\n",
       "      <td>0</td>\n",
       "      <td>0</td>\n",
       "      <td>0</td>\n",
       "      <td>0</td>\n",
       "      <td>0</td>\n",
       "      <td>0</td>\n",
       "      <td>NaN</td>\n",
       "    </tr>\n",
       "    <tr>\n",
       "      <th>22553</th>\n",
       "      <td>8</td>\n",
       "      <td>D</td>\n",
       "      <td>O94248</td>\n",
       "      <td>0.249523</td>\n",
       "      <td>0</td>\n",
       "      <td>0</td>\n",
       "      <td>0</td>\n",
       "      <td>0</td>\n",
       "      <td>0</td>\n",
       "      <td>0</td>\n",
       "      <td>...</td>\n",
       "      <td>0</td>\n",
       "      <td>0</td>\n",
       "      <td>0</td>\n",
       "      <td>0</td>\n",
       "      <td>0</td>\n",
       "      <td>0</td>\n",
       "      <td>0</td>\n",
       "      <td>0</td>\n",
       "      <td>0</td>\n",
       "      <td>NaN</td>\n",
       "    </tr>\n",
       "    <tr>\n",
       "      <th>22554</th>\n",
       "      <td>1</td>\n",
       "      <td>D</td>\n",
       "      <td>O94248</td>\n",
       "      <td>0.249523</td>\n",
       "      <td>0</td>\n",
       "      <td>0</td>\n",
       "      <td>0</td>\n",
       "      <td>0</td>\n",
       "      <td>0</td>\n",
       "      <td>0</td>\n",
       "      <td>...</td>\n",
       "      <td>0</td>\n",
       "      <td>0</td>\n",
       "      <td>0</td>\n",
       "      <td>0</td>\n",
       "      <td>0</td>\n",
       "      <td>0</td>\n",
       "      <td>0</td>\n",
       "      <td>0</td>\n",
       "      <td>0</td>\n",
       "      <td>NaN</td>\n",
       "    </tr>\n",
       "    <tr>\n",
       "      <th>...</th>\n",
       "      <td>...</td>\n",
       "      <td>...</td>\n",
       "      <td>...</td>\n",
       "      <td>...</td>\n",
       "      <td>...</td>\n",
       "      <td>...</td>\n",
       "      <td>...</td>\n",
       "      <td>...</td>\n",
       "      <td>...</td>\n",
       "      <td>...</td>\n",
       "      <td>...</td>\n",
       "      <td>...</td>\n",
       "      <td>...</td>\n",
       "      <td>...</td>\n",
       "      <td>...</td>\n",
       "      <td>...</td>\n",
       "      <td>...</td>\n",
       "      <td>...</td>\n",
       "      <td>...</td>\n",
       "      <td>...</td>\n",
       "      <td>...</td>\n",
       "    </tr>\n",
       "    <tr>\n",
       "      <th>22703</th>\n",
       "      <td>23</td>\n",
       "      <td>O</td>\n",
       "      <td>O94248</td>\n",
       "      <td>0.750477</td>\n",
       "      <td>1</td>\n",
       "      <td>1</td>\n",
       "      <td>1</td>\n",
       "      <td>1</td>\n",
       "      <td>0</td>\n",
       "      <td>1</td>\n",
       "      <td>...</td>\n",
       "      <td>0</td>\n",
       "      <td>0</td>\n",
       "      <td>0</td>\n",
       "      <td>0</td>\n",
       "      <td>0</td>\n",
       "      <td>0</td>\n",
       "      <td>0</td>\n",
       "      <td>0</td>\n",
       "      <td>0</td>\n",
       "      <td>NaN</td>\n",
       "    </tr>\n",
       "    <tr>\n",
       "      <th>22704</th>\n",
       "      <td>45</td>\n",
       "      <td>O</td>\n",
       "      <td>O94248</td>\n",
       "      <td>0.750477</td>\n",
       "      <td>1</td>\n",
       "      <td>3</td>\n",
       "      <td>1</td>\n",
       "      <td>3</td>\n",
       "      <td>2</td>\n",
       "      <td>3</td>\n",
       "      <td>...</td>\n",
       "      <td>0</td>\n",
       "      <td>2</td>\n",
       "      <td>2</td>\n",
       "      <td>0</td>\n",
       "      <td>0</td>\n",
       "      <td>0</td>\n",
       "      <td>0</td>\n",
       "      <td>0</td>\n",
       "      <td>0</td>\n",
       "      <td>NaN</td>\n",
       "    </tr>\n",
       "    <tr>\n",
       "      <th>22705</th>\n",
       "      <td>128</td>\n",
       "      <td>O</td>\n",
       "      <td>O94248</td>\n",
       "      <td>0.750477</td>\n",
       "      <td>5</td>\n",
       "      <td>3</td>\n",
       "      <td>11</td>\n",
       "      <td>5</td>\n",
       "      <td>3</td>\n",
       "      <td>3</td>\n",
       "      <td>...</td>\n",
       "      <td>0</td>\n",
       "      <td>1</td>\n",
       "      <td>7</td>\n",
       "      <td>0</td>\n",
       "      <td>0</td>\n",
       "      <td>0</td>\n",
       "      <td>0</td>\n",
       "      <td>0</td>\n",
       "      <td>0</td>\n",
       "      <td>NaN</td>\n",
       "    </tr>\n",
       "    <tr>\n",
       "      <th>22706</th>\n",
       "      <td>214</td>\n",
       "      <td>O</td>\n",
       "      <td>O94248</td>\n",
       "      <td>0.750477</td>\n",
       "      <td>12</td>\n",
       "      <td>8</td>\n",
       "      <td>8</td>\n",
       "      <td>15</td>\n",
       "      <td>2</td>\n",
       "      <td>13</td>\n",
       "      <td>...</td>\n",
       "      <td>1</td>\n",
       "      <td>7</td>\n",
       "      <td>14</td>\n",
       "      <td>0</td>\n",
       "      <td>0</td>\n",
       "      <td>0</td>\n",
       "      <td>0</td>\n",
       "      <td>0</td>\n",
       "      <td>0</td>\n",
       "      <td>NaN</td>\n",
       "    </tr>\n",
       "    <tr>\n",
       "      <th>22707</th>\n",
       "      <td>4717</td>\n",
       "      <td>P</td>\n",
       "      <td>O94248</td>\n",
       "      <td>NaN</td>\n",
       "      <td>258</td>\n",
       "      <td>201</td>\n",
       "      <td>252</td>\n",
       "      <td>287</td>\n",
       "      <td>56</td>\n",
       "      <td>194</td>\n",
       "      <td>...</td>\n",
       "      <td>53</td>\n",
       "      <td>138</td>\n",
       "      <td>281</td>\n",
       "      <td>0</td>\n",
       "      <td>0</td>\n",
       "      <td>0</td>\n",
       "      <td>0</td>\n",
       "      <td>0</td>\n",
       "      <td>0</td>\n",
       "      <td>Midasin OS=Schizosaccharomyces pombe (strain 9...</td>\n",
       "    </tr>\n",
       "  </tbody>\n",
       "</table>\n",
       "<p>158 rows × 31 columns</p>\n",
       "</div>"
      ],
      "text/plain": [
       "        len disorder_or_order      id     fract    A    R    N    D   C    Q  \\\n",
       "22550     1                 D  O94248  0.249523    0    0    0    0   0    0   \n",
       "22551     4                 D  O94248  0.249523    0    0    0    0   0    0   \n",
       "22552     4                 D  O94248  0.249523    0    0    1    0   0    0   \n",
       "22553     8                 D  O94248  0.249523    0    0    0    0   0    0   \n",
       "22554     1                 D  O94248  0.249523    0    0    0    0   0    0   \n",
       "...     ...               ...     ...       ...  ...  ...  ...  ...  ..  ...   \n",
       "22703    23                 O  O94248  0.750477    1    1    1    1   0    1   \n",
       "22704    45                 O  O94248  0.750477    1    3    1    3   2    3   \n",
       "22705   128                 O  O94248  0.750477    5    3   11    5   3    3   \n",
       "22706   214                 O  O94248  0.750477   12    8    8   15   2   13   \n",
       "22707  4717                 P  O94248       NaN  258  201  252  287  56  194   \n",
       "\n",
       "       ...   W    Y    V  O  U  B  Z  X  J  \\\n",
       "22550  ...   0    0    0  0  0  0  0  0  0   \n",
       "22551  ...   1    0    1  0  0  0  0  0  0   \n",
       "22552  ...   0    0    0  0  0  0  0  0  0   \n",
       "22553  ...   0    0    0  0  0  0  0  0  0   \n",
       "22554  ...   0    0    0  0  0  0  0  0  0   \n",
       "...    ...  ..  ...  ... .. .. .. .. .. ..   \n",
       "22703  ...   0    0    0  0  0  0  0  0  0   \n",
       "22704  ...   0    2    2  0  0  0  0  0  0   \n",
       "22705  ...   0    1    7  0  0  0  0  0  0   \n",
       "22706  ...   1    7   14  0  0  0  0  0  0   \n",
       "22707  ...  53  138  281  0  0  0  0  0  0   \n",
       "\n",
       "                                             description  \n",
       "22550                                                NaN  \n",
       "22551                                                NaN  \n",
       "22552                                                NaN  \n",
       "22553                                                NaN  \n",
       "22554                                                NaN  \n",
       "...                                                  ...  \n",
       "22703                                                NaN  \n",
       "22704                                                NaN  \n",
       "22705                                                NaN  \n",
       "22706                                                NaN  \n",
       "22707  Midasin OS=Schizosaccharomyces pombe (strain 9...  \n",
       "\n",
       "[158 rows x 31 columns]"
      ]
     },
     "execution_count": 21,
     "metadata": {},
     "output_type": "execute_result"
    }
   ],
   "source": [
    "df[df['id'] == 'O94248']"
   ]
  },
  {
   "cell_type": "markdown",
   "metadata": {},
   "source": [
    "## Scatter plot without Outliers "
   ]
  },
  {
   "cell_type": "code",
   "execution_count": 22,
   "metadata": {},
   "outputs": [
    {
     "data": {
      "text/plain": [
       "Text(0.5, 1.0, 'Number Disordered Regions vs. Disordered Content')"
      ]
     },
     "execution_count": 22,
     "metadata": {},
     "output_type": "execute_result"
    },
    {
     "data": {
      "image/png": "[encoded data removed]",
      "text/plain": [
       "<Figure size 432x288 with 1 Axes>"
      ]
     },
     "metadata": {
      "needs_background": "light"
     },
     "output_type": "display_data"
    }
   ],
   "source": [
    "df_merge_outrm = df_merge[df_merge['counts'] < 50]\n",
    "df_merge_outrm.plot.scatter( x = 'counts', y = 'fract')\n",
    "plt.ylabel('Fraction of Disordered Content')\n",
    "plt.xlabel('Number of Disordered Regions')\n",
    "plt.title('Number Disordered Regions vs. Disordered Content')"
   ]
  },
  {
   "cell_type": "markdown",
   "metadata": {},
   "source": [
    "## Flipping Scatter Plot "
   ]
  },
  {
   "cell_type": "code",
   "execution_count": 23,
   "metadata": {},
   "outputs": [
    {
     "data": {
      "text/plain": [
       "<AxesSubplot:xlabel='fract', ylabel='counts'>"
      ]
     },
     "execution_count": 23,
     "metadata": {},
     "output_type": "execute_result"
    },
    {
     "data": {
      "image/png": "[encoded data removed]",
      "text/plain": [
       "<Figure size 432x288 with 1 Axes>"
      ]
     },
     "metadata": {
      "needs_background": "light"
     },
     "output_type": "display_data"
    }
   ],
   "source": [
    "df_merge_outrm.plot.scatter( x = 'fract', y = 'counts')"
   ]
  },
  {
   "cell_type": "markdown",
   "metadata": {},
   "source": [
    "## Correlation Coefficient"
   ]
  },
  {
   "cell_type": "code",
   "execution_count": 24,
   "metadata": {},
   "outputs": [
    {
     "data": {
      "text/plain": [
       "0.18345657133347204"
      ]
     },
     "execution_count": 24,
     "metadata": {},
     "output_type": "execute_result"
    }
   ],
   "source": [
    "correlation = df_merge_outrm['counts'].corr(df_merge_outrm['fract'])\n",
    "correlation"
   ]
  },
  {
   "cell_type": "markdown",
   "metadata": {},
   "source": [
    "# Correlation of average length of disordered segments with number of disordered segments"
   ]
  },
  {
   "cell_type": "markdown",
   "metadata": {},
   "source": [
    "## 2D Histogram "
   ]
  },
  {
   "cell_type": "code",
   "execution_count": 25,
   "metadata": {},
   "outputs": [
    {
     "data": {
      "image/png": "[encoded data removed]",
      "text/plain": [
       "<Figure size 432x288 with 1 Axes>"
      ]
     },
     "metadata": {
      "needs_background": "light"
     },
     "output_type": "display_data"
    }
   ],
   "source": [
    "dis_df = df[df['disorder_or_order'] == 'D']\n",
    "dis_avg_len = dis_df[['id', 'len']].groupby('id').mean().reset_index()\n",
    "plt.hist2d(dis_avg_len['len'],num_dis_seg['counts'])\n",
    "plt.xlabel('Average Length of Disordered Content')\n",
    "plt.ylabel('Number of Disordered Regions ')\n",
    "plt.title('Average Length of Disordered Content vs. Number of Disordered Regions')\n",
    "plt.yscale('log')"
   ]
  },
  {
   "cell_type": "markdown",
   "metadata": {},
   "source": [
    "## Scatter plot"
   ]
  },
  {
   "cell_type": "code",
   "execution_count": 26,
   "metadata": {},
   "outputs": [
    {
     "data": {
      "text/plain": [
       "Text(0.5, 1.0, 'Number of Disordered Regions vs. Average Length of Disordered Regions')"
      ]
     },
     "execution_count": 26,
     "metadata": {},
     "output_type": "execute_result"
    },
    {
     "data": {
      "image/png": "[encoded data removed]",
      "text/plain": [
       "<Figure size 432x288 with 1 Axes>"
      ]
     },
     "metadata": {
      "needs_background": "light"
     },
     "output_type": "display_data"
    }
   ],
   "source": [
    "num_dis_avg_merge = pd.merge(num_dis_seg, dis_avg_len, on='id', how='outer')\n",
    "num_dis_avg_merge.plot.scatter( x = 'counts', y = 'len')\n",
    "plt.yscale('log')\n",
    "plt.ylabel('Average Length of Disordered Regions')\n",
    "plt.xlabel('Number of Disordered Regions')\n",
    "plt.title('Number of Disordered Regions vs. Average Length of Disordered Regions')"
   ]
  },
  {
   "cell_type": "markdown",
   "metadata": {},
   "source": [
    "### Flipping Scatter Plot"
   ]
  },
  {
   "cell_type": "code",
   "execution_count": 27,
   "metadata": {},
   "outputs": [
    {
     "data": {
      "text/plain": [
       "Text(0, 0.5, 'Number of Disordered Regions')"
      ]
     },
     "execution_count": 27,
     "metadata": {},
     "output_type": "execute_result"
    },
    {
     "data": {
      "image/png": "[encoded data removed]",
      "text/plain": [
       "<Figure size 432x288 with 1 Axes>"
      ]
     },
     "metadata": {
      "needs_background": "light"
     },
     "output_type": "display_data"
    }
   ],
   "source": [
    "num_dis_avg_merge = pd.merge(num_dis_seg, dis_avg_len, on='id', how='outer')\n",
    "num_dis_avg_merge.plot.scatter( x = 'len', y = 'counts')\n",
    "plt.yscale('log')\n",
    "plt.xlabel('Average Length of Disordered Regions')\n",
    "plt.ylabel('Number of Disordered Regions')"
   ]
  },
  {
   "cell_type": "markdown",
   "metadata": {},
   "source": [
    "## Scatter plot without outliers"
   ]
  },
  {
   "cell_type": "code",
   "execution_count": 28,
   "metadata": {},
   "outputs": [
    {
     "data": {
      "text/plain": [
       "Text(0.5, 1.0, 'Number of Disordered Regions vs. Average Length of Disordered Regions')"
      ]
     },
     "execution_count": 28,
     "metadata": {},
     "output_type": "execute_result"
    },
    {
     "data": {
      "image/png": "[encoded data removed]",
      "text/plain": [
       "<Figure size 432x288 with 1 Axes>"
      ]
     },
     "metadata": {
      "needs_background": "light"
     },
     "output_type": "display_data"
    }
   ],
   "source": [
    "num_dis_avg_merge_outrm = num_dis_avg_merge[num_dis_avg_merge['counts'] < 50]\n",
    "num_dis_avg_merge_outrm.plot.scatter( x = 'counts', y = 'len')\n",
    "plt.yscale('log')\n",
    "plt.ylabel('Average Length of Disordered Regions')\n",
    "plt.xlabel('Number of Disordered Regions')\n",
    "plt.title('Number of Disordered Regions vs. Average Length of Disordered Regions')"
   ]
  },
  {
   "cell_type": "markdown",
   "metadata": {},
   "source": [
    "# Number disordered segments in proteins distribution"
   ]
  },
  {
   "cell_type": "code",
   "execution_count": 29,
   "metadata": {},
   "outputs": [
    {
     "data": {
      "text/plain": [
       "Text(0.5, 1.0, 'Number of Disordered Segments Distribution')"
      ]
     },
     "execution_count": 29,
     "metadata": {},
     "output_type": "execute_result"
    },
    {
     "data": {
      "image/png": "[encoded data removed]",
      "text/plain": [
       "<Figure size 432x288 with 1 Axes>"
      ]
     },
     "metadata": {
      "needs_background": "light"
     },
     "output_type": "display_data"
    }
   ],
   "source": [
    "plt.hist(num_dis_seg['counts'])\n",
    "plt.yscale('log')\n",
    "plt.ylabel('Number of entries')\n",
    "plt.xlabel('Number of Disordered Segments')\n",
    "plt.title('Number of Disordered Segments Distribution')"
   ]
  },
  {
   "cell_type": "markdown",
   "metadata": {},
   "source": [
    "### Outliers"
   ]
  },
  {
   "cell_type": "code",
   "execution_count": 30,
   "metadata": {},
   "outputs": [
    {
     "data": {
      "text/html": [
       "<div>\n",
       "<style scoped>\n",
       "    .dataframe tbody tr th:only-of-type {\n",
       "        vertical-align: middle;\n",
       "    }\n",
       "\n",
       "    .dataframe tbody tr th {\n",
       "        vertical-align: top;\n",
       "    }\n",
       "\n",
       "    .dataframe thead th {\n",
       "        text-align: right;\n",
       "    }\n",
       "</style>\n",
       "<table border=\"1\" class=\"dataframe\">\n",
       "  <thead>\n",
       "    <tr style=\"text-align: right;\">\n",
       "      <th></th>\n",
       "      <th>id</th>\n",
       "      <th>counts</th>\n",
       "    </tr>\n",
       "  </thead>\n",
       "  <tbody>\n",
       "    <tr>\n",
       "      <th>9996</th>\n",
       "      <td>O94248</td>\n",
       "      <td>79</td>\n",
       "    </tr>\n",
       "  </tbody>\n",
       "</table>\n",
       "</div>"
      ],
      "text/plain": [
       "          id  counts\n",
       "9996  O94248      79"
      ]
     },
     "execution_count": 30,
     "metadata": {},
     "output_type": "execute_result"
    }
   ],
   "source": [
    "num_dis_seg[num_dis_seg['counts'] > 60]"
   ]
  },
  {
   "cell_type": "code",
   "execution_count": 31,
   "metadata": {},
   "outputs": [
    {
     "data": {
      "text/plain": [
       "Text(0.5, 1.0, 'Number of Disordered Segments Distribution')"
      ]
     },
     "execution_count": 31,
     "metadata": {},
     "output_type": "execute_result"
    },
    {
     "data": {
      "image/png": "[encoded data removed]",
      "text/plain": [
       "<Figure size 432x288 with 1 Axes>"
      ]
     },
     "metadata": {
      "needs_background": "light"
     },
     "output_type": "display_data"
    }
   ],
   "source": [
    "num_dis_seg_outrm = num_dis_seg[num_dis_seg['counts'] < 60]\n",
    "plt.hist(num_dis_seg_outrm['counts'])\n",
    "plt.yscale('log')\n",
    "plt.ylabel('Number of entries')\n",
    "plt.xlabel('Number of Disordered Segments')\n",
    "plt.title('Number of Disordered Segments Distribution')"
   ]
  },
  {
   "cell_type": "markdown",
   "metadata": {},
   "source": [
    "# Amino acid distributions and enrichment "
   ]
  },
  {
   "cell_type": "markdown",
   "metadata": {},
   "source": [
    "## Disordered Segments "
   ]
  },
  {
   "cell_type": "code",
   "execution_count": 71,
   "metadata": {},
   "outputs": [],
   "source": [
    "aa_codes = ['A', 'R', 'N', 'D', 'C', 'Q', 'E','G','H',\n",
    "                'I', 'L', 'K', 'M', 'F', 'P', 'S', 'T', 'W', \n",
    "                'Y', 'V', 'O', 'U', 'B', 'Z', 'X', 'J']"
   ]
  },
  {
   "cell_type": "code",
   "execution_count": 72,
   "metadata": {},
   "outputs": [
    {
     "data": {
      "text/plain": [
       "Text(0.5, 1.0, 'Disordered Region Amino Acid Distribution')"
      ]
     },
     "execution_count": 72,
     "metadata": {},
     "output_type": "execute_result"
    },
    {
     "data": {
      "image/png": "[encoded data removed]",
      "text/plain": [
       "<Figure size 432x288 with 1 Axes>"
      ]
     },
     "metadata": {
      "needs_background": "light"
     },
     "output_type": "display_data"
    }
   ],
   "source": [
    "aa_counts_dis = df.loc[df['disorder_or_order'] == 'D', aa_codes].sum()\n",
    "aa_fracs_dis = aa_counts_dis /aa_counts_dis.sum()\n",
    "plt.bar(aa_codes, aa_fracs_dis)\n",
    "plt.ylabel('Fraction of Amino Acid Makeup')\n",
    "plt.xlabel('Amino Acids')\n",
    "plt.title('Disordered Region Amino Acid Distribution')"
   ]
  },
  {
   "cell_type": "code",
   "execution_count": 73,
   "metadata": {},
   "outputs": [
    {
     "data": {
      "text/plain": [
       "Text(0.5, 1.0, 'Total Amino Acid Distribution')"
      ]
     },
     "execution_count": 73,
     "metadata": {},
     "output_type": "execute_result"
    },
    {
     "data": {
      "image/png": "[encoded data removed]",
      "text/plain": [
       "<Figure size 432x288 with 1 Axes>"
      ]
     },
     "metadata": {
      "needs_background": "light"
     },
     "output_type": "display_data"
    }
   ],
   "source": [
    "aa_counts = df.loc[df['disorder_or_order'] == 'P', aa_codes].sum()\n",
    "aa_fracs = aa_counts /aa_counts.sum()\n",
    "plt.bar(aa_codes, aa_fracs)\n",
    "plt.ylabel('Fraction of Amino Acid Makeup')\n",
    "plt.xlabel('Amino Acids')\n",
    "plt.title('Total Amino Acid Distribution')"
   ]
  },
  {
   "cell_type": "markdown",
   "metadata": {},
   "source": [
    "## Overlay Bar Chart Amino Acid Distributions over Proteins vs. Disordered Segments"
   ]
  },
  {
   "cell_type": "code",
   "execution_count": 74,
   "metadata": {},
   "outputs": [],
   "source": [
    "\"source: https://stackoverflow.com/questions/23293011/how-to-plot-a-superimposed-bar-chart-using-matplotlib-in-python\"\n",
    "\n",
    "def overlapped_bar(df, show=False, width=0.9, alpha=.5,\n",
    "                   title='', xlabel='', ylabel='', **plot_kwargs):\n",
    "    \"\"\"Like a stacked bar chart except bars on top of each other with transparency\"\"\"\n",
    "    xlabel = xlabel or df.index.name\n",
    "    N = len(df)\n",
    "    M = len(df.columns)\n",
    "    indices = np.arange(N)\n",
    "    colors = ['steelblue', 'firebrick', 'darksage', 'goldenrod', 'gray'] * int(M / 5. + 1)\n",
    "    for i, label, color in zip(range(M), df.columns, colors):\n",
    "        kwargs = plot_kwargs\n",
    "        kwargs.update({'color': color, 'label': label})\n",
    "        plt.bar(indices, df[label], width=width, alpha=alpha if i else 1, **kwargs)\n",
    "        plt.xticks(indices + .5 * width,\n",
    "                   ['{}'.format(idx) for idx in df.index.values])\n",
    "    plt.legend()\n",
    "    plt.title(title)\n",
    "    plt.xlabel(xlabel)\n",
    "    plt.ylabel(ylabel)\n",
    "    if show:\n",
    "        plt.show()\n",
    "    return plt.gcf()"
   ]
  },
  {
   "cell_type": "code",
   "execution_count": 75,
   "metadata": {},
   "outputs": [
    {
     "data": {
      "image/png": "[encoded data removed]",
      "text/plain": [
       "<Figure size 432x288 with 1 Axes>"
      ]
     },
     "metadata": {
      "needs_background": "light"
     },
     "output_type": "display_data"
    },
    {
     "data": {
      "text/plain": [
       "<Figure size 432x288 with 0 Axes>"
      ]
     },
     "execution_count": 75,
     "metadata": {},
     "output_type": "execute_result"
    },
    {
     "data": {
      "text/plain": [
       "<Figure size 432x288 with 0 Axes>"
      ]
     },
     "metadata": {},
     "output_type": "display_data"
    }
   ],
   "source": [
    "df_overlap_bar = pd.DataFrame(np.matrix([aa_fracs, aa_fracs_dis]).T, columns=['Protein', 'Disordered Regions'],\n",
    "                  index=pd.Index(aa_codes))\n",
    "overlapped_bar(df_overlap_bar, show=True, title='Amino Acid Distributions over Protein vs. Disordered Regions',\n",
    "              xlabel='Amino Acid', ylabel='Fraction of Amino Acid Makeup')"
   ]
  },
  {
   "cell_type": "code",
   "execution_count": 70,
   "metadata": {},
   "outputs": [
    {
     "data": {
      "text/plain": [
       "Text(0.5, 1.0, 'Difference of Protein and Disordered Segments Amino Acid Distribution')"
      ]
     },
     "execution_count": 70,
     "metadata": {},
     "output_type": "execute_result"
    },
    {
     "data": {
      "image/png": "[encoded data removed]",
      "text/plain": [
       "<Figure size 432x288 with 1 Axes>"
      ]
     },
     "metadata": {
      "needs_background": "light"
     },
     "output_type": "display_data"
    }
   ],
   "source": [
    "aa_fracs_dif = aa_fracs - aa_fracs_dis\n",
    "plt.bar(aa_codes, aa_fracs_dif)\n",
    "plt.ylabel('Difference of Fraction of Amino Acid Makeup')\n",
    "plt.xlabel('Amino Acids')\n",
    "plt.title('Difference of Protein and Disordered Segments Amino Acid Distribution')"
   ]
  }
 ],
 "metadata": {
  "kernelspec": {
   "display_name": "Python 3",
   "language": "python",
   "name": "python3"
  },
  "language_info": {
   "codemirror_mode": {
    "name": "ipython",
    "version": 3
   },
   "file_extension": ".py",
   "mimetype": "text/x-python",
   "name": "python",
   "nbconvert_exporter": "python",
   "pygments_lexer": "ipython3",
   "version": "3.8.5"
  }
 },
 "nbformat": 4,
 "nbformat_minor": 4
}
