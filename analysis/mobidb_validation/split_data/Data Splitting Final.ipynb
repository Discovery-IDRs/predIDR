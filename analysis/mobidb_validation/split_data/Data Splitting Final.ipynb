{
 "cells": [
  {
   "cell_type": "code",
   "execution_count": 1,
   "id": "seasonal-example",
   "metadata": {},
   "outputs": [],
   "source": [
    "import Bio \n",
    "from Bio import SeqIO\n",
    "import numpy as np\n",
    "import pandas as pd\n",
    "from sklearn.model_selection import train_test_split\n",
    "import math"
   ]
  },
  {
   "cell_type": "code",
   "execution_count": 2,
   "id": "offensive-secretary",
   "metadata": {
    "scrolled": true
   },
   "outputs": [
    {
     "name": "stdout",
     "output_type": "stream",
     "text": [
      "allseq.fasta file location: '../MobiDB Data/Processed/allseq.fasta'\n",
      "alldisorder.fasta file location: '../MobiDB Data/Processed/alldisorder.fasta'\n",
      "1613964195.fas.1.clstr file location: '../MobiDB Data/Clustered/1613964195.fas.1.clstr'\n",
      "save location of fasta files: '../MobiDB Data/Split/'\n"
     ]
    }
   ],
   "source": [
    "#set file locations\n",
    "\n",
    "#set allseq.fasta file location\n",
    "allseq_loc = \"../MobiDB Data/Processed/allseq.fasta\"\n",
    "print(f\"allseq.fasta file location: '{allseq_loc}'\")\n",
    "\n",
    "#set alldisorder.fasta file location\n",
    "alldisorder_loc = \"../MobiDB Data/Processed/alldisorder.fasta\"\n",
    "print(f\"alldisorder.fasta file location: '{alldisorder_loc}'\")\n",
    "\n",
    "#set cluster file location\n",
    "cluster_loc = \"../MobiDB Data/Clustered/1613964195.fas.1.clstr\"\n",
    "print(f\"1613964195.fas.1.clstr file location: '{cluster_loc}'\")\n",
    "\n",
    "#set file save location for generated fasta files\n",
    "save_loc = \"../MobiDB Data/Split/\"\n",
    "print(f\"save location of fasta files: '{save_loc}'\")"
   ]
  },
  {
   "cell_type": "code",
   "execution_count": 3,
   "id": "outdoor-cartoon",
   "metadata": {},
   "outputs": [],
   "source": [
    "#read in raw cluster output\n",
    "with open(cluster_loc) as file:\n",
    "    cluster_text = file.read()"
   ]
  },
  {
   "cell_type": "code",
   "execution_count": 4,
   "id": "handed-lesson",
   "metadata": {},
   "outputs": [],
   "source": [
    "#convert raw cluster output string into list of lines\n",
    "cluster_text_lines = cluster_text.split(\"\\n\")"
   ]
  },
  {
   "cell_type": "code",
   "execution_count": 5,
   "id": "improving-finnish",
   "metadata": {},
   "outputs": [],
   "source": [
    "#extract representative protein codes from raw cluster output\n",
    "\n",
    "rep_proteins = []\n",
    "\n",
    "for line in cluster_text_lines:\n",
    "    if \"*\" in line:\n",
    "        protein_acc = line.split(\"|\")[0].split(\">\")[1]\n",
    "        rep_proteins.append(protein_acc)"
   ]
  },
  {
   "cell_type": "code",
   "execution_count": 6,
   "id": "headed-jackson",
   "metadata": {},
   "outputs": [],
   "source": [
    "#load in fasta files with biopython\n",
    "seq_fasta = SeqIO.parse(allseq_loc, 'fasta')\n",
    "disorder_fasta = SeqIO.parse(alldisorder_loc, 'fasta')"
   ]
  },
  {
   "cell_type": "code",
   "execution_count": 7,
   "id": "attended-grain",
   "metadata": {},
   "outputs": [],
   "source": [
    "#load fastas into lists\n",
    "seq_fasta_lst = []\n",
    "disorder_fasta_lst = []\n",
    "\n",
    "for entry in seq_fasta:\n",
    "    seq_fasta_lst.append(entry)\n",
    "    \n",
    "for entry in disorder_fasta:\n",
    "    disorder_fasta_lst.append(entry)"
   ]
  },
  {
   "cell_type": "code",
   "execution_count": 8,
   "id": "historical-passport",
   "metadata": {},
   "outputs": [],
   "source": [
    "#create dict containing all protein info\n",
    "#(key, value) = (\"Q9UPN6\", [\"Q9UPN6|sequence|SR-rel...\",\"MEAVKTFNSELYSLND...\", \"100000000000...\"])\n",
    "\n",
    "all_protein_dict = {}\n",
    "\n",
    "#first create dict with protein description and seq\n",
    "for entry in seq_fasta_lst:\n",
    "    protein_acc = entry.description.split(\"|\")[0]\n",
    "    protein_description = entry.description\n",
    "    protein_seq = str(entry.seq)\n",
    "    protein_info = [protein_description, protein_seq]\n",
    "    all_protein_dict[protein_acc] = protein_info \n",
    "\n",
    "#add disorder to dict\n",
    "for entry in disorder_fasta_lst:\n",
    "    protein_acc = entry.description.split(\"|\")[0]\n",
    "    protein_disorder = str(entry.seq)\n",
    "    all_protein_dict[protein_acc].append(protein_disorder)"
   ]
  },
  {
   "cell_type": "code",
   "execution_count": 9,
   "id": "indirect-register",
   "metadata": {},
   "outputs": [],
   "source": [
    "#create dict containing only info for representative proteins\n",
    "\n",
    "rep_protein_dict = {}\n",
    "\n",
    "for key in all_protein_dict:\n",
    "    if key in rep_proteins:\n",
    "        rep_protein_dict[key] = all_protein_dict[key]"
   ]
  },
  {
   "cell_type": "code",
   "execution_count": 10,
   "id": "impossible-movie",
   "metadata": {},
   "outputs": [
    {
     "data": {
      "text/plain": [
       "15957"
      ]
     },
     "execution_count": 10,
     "metadata": {},
     "output_type": "execute_result"
    }
   ],
   "source": [
    "len(rep_protein_dict)"
   ]
  },
  {
   "cell_type": "code",
   "execution_count": 11,
   "id": "southern-competition",
   "metadata": {},
   "outputs": [
    {
     "data": {
      "text/plain": [
       "array(['H0USY8|sequence OS=Ancylostoma ceylanicum OX=53326 GN=daf-12',\n",
       "       'GSYQLNAAELQALDLIQEAFKGMNDPMEQGRQATSFLKNEKSPADIMNIMDVTMRRFVKMAKRLPAFNDLSQDGKFALLKGGMIEMLTVRGVRRFDSSSGSWTTPTLGESSEVSINMFDQLNADVRSEQKMRFLQFFKIFHEDIRSNDLVISMIMLIVLFSPRDSITDPEDRRIIARHHEQFSALLNRYLESLYGDDAHQLNEQLPTALRMLREISASSGMLFLGTVNTSEAEPLPREFFKVE',\n",
       "       '100000000000000000000000000000000000000000000000000000000000000000000000000000000000000000000000000000000000000000000000000000000000000000000000000000000000000000000000000000000000000000000000000000000000000000000000000000000000000000000000000'],\n",
       "      dtype=object)"
      ]
     },
     "execution_count": 11,
     "metadata": {},
     "output_type": "execute_result"
    }
   ],
   "source": [
    "#data are now in a dictionary format {'key=ID':'all information, sequence,labels'}\n",
    "#convert data into a dataframe and then an array for shuffling and splitting\n",
    "seq_df=pd.DataFrame.from_dict(rep_protein_dict,orient='index')\n",
    "#convert data into an array\n",
    "seq_as_array = seq_df.to_numpy()\n",
    "#format of the array: ([info,sequence,labels],[info,sequence,labels]...)\n",
    "seq_as_array[1]"
   ]
  },
  {
   "cell_type": "code",
   "execution_count": 12,
   "id": "secret-defensive",
   "metadata": {},
   "outputs": [
    {
     "name": "stdout",
     "output_type": "stream",
     "text": [
      "12765 1596 1596 True\n"
     ]
    }
   ],
   "source": [
    "#reassignment to make sure the array is the original array\n",
    "seq_as_array = seq_df.to_numpy()\n",
    "#Data Shuffling and Splitting\n",
    "#set random seed for repeatability and shuffle the data\n",
    "np.random.seed(1)\n",
    "np.random.shuffle(seq_as_array)\n",
    "#extract by index\n",
    "train_set_length = math.ceil(0.8*len(seq_as_array))-1 #train set: last item's index should be 80%*total_length-1\n",
    "validation_length = train_set_length + math.ceil(0.1*len(seq_as_array))\n",
    "train,validation, test = np.split(seq_as_array,[train_set_length,validation_length])\n",
    "#check by length\n",
    "print(len(train),len(validation),len(test),len(train)+len(validation)+len(test)== len(seq_as_array))"
   ]
  },
  {
   "cell_type": "code",
   "execution_count": 13,
   "id": "meaning-angola",
   "metadata": {},
   "outputs": [
    {
     "data": {
      "text/plain": [
       "'Q57W60|sequence OS=Trypanosoma brucei brucei (strain 927/4 GUTat10.1) OX=185431'"
      ]
     },
     "execution_count": 13,
     "metadata": {},
     "output_type": "execute_result"
    }
   ],
   "source": [
    "validation[1][0]"
   ]
  },
  {
   "cell_type": "code",
   "execution_count": 14,
   "id": "affecting-element",
   "metadata": {},
   "outputs": [],
   "source": [
    "#compile all AA sequences into a fasta file\n",
    "validation_fastas = open(save_loc + \"val_as_fasta.fasta\", \"w\")\n",
    "\n",
    "for i in range(len(validation)):\n",
    "    validation_fastas.write(\">\" + validation[i][0] + \"\\n\" +validation[i][1] + \"\\n\")\n",
    "\n",
    "validation_fastas.close()\n",
    "#repeat for train \n",
    "train_fastas = open(save_loc + \"train_as_fasta.fasta\", \"w\")\n",
    "\n",
    "for i in range(len(train)):\n",
    "    train_fastas.write(\">\" + train[i][0] + \"\\n\" +train[i][1] + \"\\n\")\n",
    "\n",
    "train_fastas.close()\n",
    "#repeat for test\n",
    "test_fastas = open(save_loc + \"test_as_fasta.fasta\", \"w\")\n",
    "\n",
    "for i in range(len(test)):\n",
    "    test_fastas.write(\">\" + test[i][0] + \"\\n\" +test[i][1] + \"\\n\")\n",
    "\n",
    "test_fastas.close()"
   ]
  },
  {
   "cell_type": "code",
   "execution_count": 15,
   "id": "super-seven",
   "metadata": {},
   "outputs": [],
   "source": [
    "#compile all binary disorder sequences into a fasta file\n",
    "validation_labels = open(save_loc + \"val_labels_as_fasta.fasta\", \"w\")\n",
    "\n",
    "for i in range(len(validation)):\n",
    "    validation_labels.write(\">\" + validation[i][0] + \"\\n\" +validation[i][2] + \"\\n\")\n",
    "\n",
    "validation_labels.close()\n",
    "#repeat for train \n",
    "train_labels= open(save_loc + \"train_labels_as_fasta.fasta\", \"w\")\n",
    "\n",
    "for i in range(len(train)):\n",
    "    train_labels.write(\">\" + train[i][0] + \"\\n\" +train[i][2] + \"\\n\")\n",
    "\n",
    "train_labels.close()\n",
    "#repeat for test\n",
    "test_labels = open(save_loc + \"test_labels_as_fasta.fasta\", \"w\")\n",
    "\n",
    "for i in range(len(test)):\n",
    "    test_labels.write(\">\" + test[i][0] + \"\\n\" +test[i][2] + \"\\n\")\n",
    "\n",
    "test_labels.close()"
   ]
  }
 ],
 "metadata": {
  "kernelspec": {
   "display_name": "Python 3",
   "language": "python",
   "name": "python3"
  },
  "language_info": {
   "codemirror_mode": {
    "name": "ipython",
    "version": 3
   },
   "file_extension": ".py",
   "mimetype": "text/x-python",
   "name": "python",
   "nbconvert_exporter": "python",
   "pygments_lexer": "ipython3",
   "version": "3.8.3"
  }
 },
 "nbformat": 4,
 "nbformat_minor": 5
}
