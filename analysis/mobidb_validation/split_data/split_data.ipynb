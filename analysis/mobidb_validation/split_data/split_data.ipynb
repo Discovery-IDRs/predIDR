{
 "cells": [
  {
   "cell_type": "code",
   "execution_count": 1,
   "id": "seasonal-example",
   "metadata": {},
   "outputs": [],
   "source": [
    "import math\n",
    "import random\n",
    "\n",
    "import Bio\n",
    "import numpy as np\n",
    "import pandas as pd\n",
    "from Bio import SeqIO\n",
    "from sklearn.model_selection import train_test_split"
   ]
  },
  {
   "cell_type": "code",
   "execution_count": 3,
   "id": "offensive-secretary",
   "metadata": {
    "scrolled": true
   },
   "outputs": [],
   "source": [
    "# Set file paths\n",
    "# Set allseq.fasta file paths\n",
    "allseq_path = \"../remove_outliers/out/allseq.fasta\"\n",
    "\n",
    "# Set alldisorder.fasta file path\n",
    "alldisorder_path = \"../remove_outliers/out/alldisorder.fasta\"\n",
    "\n",
    "# Set cluster file path\n",
    "cluster_path = \"../cluster_seqs/out/allseq.clstr\""
   ]
  },
  {
   "cell_type": "code",
   "execution_count": 4,
   "id": "outdoor-cartoon",
   "metadata": {},
   "outputs": [
    {
     "ename": "FileNotFoundError",
     "evalue": "[Errno 2] No such file or directory: '../cluster_seqs/out/allseq.clstr'",
     "output_type": "error",
     "traceback": [
      "\u001b[0;31m---------------------------------------------------------------------------\u001b[0m",
      "\u001b[0;31mFileNotFoundError\u001b[0m                         Traceback (most recent call last)",
      "\u001b[0;32m<ipython-input-4-ea708b3e175f>\u001b[0m in \u001b[0;36m<module>\u001b[0;34m\u001b[0m\n\u001b[1;32m      1\u001b[0m \u001b[0;31m# Read in raw cluster output and extract representative protein codes\u001b[0m\u001b[0;34m\u001b[0m\u001b[0;34m\u001b[0m\u001b[0;34m\u001b[0m\u001b[0m\n\u001b[1;32m      2\u001b[0m \u001b[0mrep_proteins\u001b[0m \u001b[0;34m=\u001b[0m \u001b[0;34m[\u001b[0m\u001b[0;34m]\u001b[0m\u001b[0;34m\u001b[0m\u001b[0;34m\u001b[0m\u001b[0m\n\u001b[0;32m----> 3\u001b[0;31m \u001b[0;32mwith\u001b[0m \u001b[0mopen\u001b[0m\u001b[0;34m(\u001b[0m\u001b[0mcluster_path\u001b[0m\u001b[0;34m)\u001b[0m \u001b[0;32mas\u001b[0m \u001b[0mfile\u001b[0m\u001b[0;34m:\u001b[0m\u001b[0;34m\u001b[0m\u001b[0;34m\u001b[0m\u001b[0m\n\u001b[0m\u001b[1;32m      4\u001b[0m     \u001b[0;32mfor\u001b[0m \u001b[0mline\u001b[0m \u001b[0;32min\u001b[0m \u001b[0mfile\u001b[0m\u001b[0;34m:\u001b[0m\u001b[0;34m\u001b[0m\u001b[0;34m\u001b[0m\u001b[0m\n\u001b[1;32m      5\u001b[0m         \u001b[0;32mif\u001b[0m \u001b[0;34m\"*\"\u001b[0m \u001b[0;32min\u001b[0m \u001b[0mline\u001b[0m\u001b[0;34m:\u001b[0m\u001b[0;34m\u001b[0m\u001b[0;34m\u001b[0m\u001b[0m\n",
      "\u001b[0;31mFileNotFoundError\u001b[0m: [Errno 2] No such file or directory: '../cluster_seqs/out/allseq.clstr'"
     ]
    }
   ],
   "source": [
    "# Read in raw cluster output and extract representative protein codes\n",
    "rep_proteins = []\n",
    "with open(cluster_path) as file:\n",
    "    for line in file:\n",
    "        if \"*\" in line:\n",
    "            protein_acc = line.split(\"|\")[0].split(\">\")[1]\n",
    "            rep_proteins.append(protein_acc)"
   ]
  },
  {
   "cell_type": "code",
   "execution_count": 6,
   "id": "headed-jackson",
   "metadata": {},
   "outputs": [],
   "source": [
    "# Load in fasta files with biopython\n",
    "seq_fasta = list(SeqIO.parse(allseq_path, 'fasta'))\n",
    "disorder_fasta = list(SeqIO.parse(alldisorder_path, 'fasta'))"
   ]
  },
  {
   "cell_type": "code",
   "execution_count": 8,
   "id": "historical-passport",
   "metadata": {},
   "outputs": [],
   "source": [
    "# Create dict containing all protein info\n",
    "# (key, value) = (\"Q9UPN6\", [\"Q9UPN6|sequence|SR-rel...\",\"MEAVKTFNSELYSLND...\", \"100000000000...\"])\n",
    "\n",
    "# First create dict with protein description and seq\n",
    "all_protein_dict = {}\n",
    "for entry in seq_fasta_lst:\n",
    "    protein_acc = entry.description.split(\"|\")[0]\n",
    "    protein_description = entry.description\n",
    "    protein_seq = str(entry.seq)\n",
    "    protein_info = [protein_description, protein_seq]\n",
    "    all_protein_dict[protein_acc] = protein_info \n",
    "\n",
    "# Add disorder to dict\n",
    "for entry in disorder_fasta_lst:\n",
    "    protein_acc = entry.description.split(\"|\")[0]\n",
    "    protein_disorder = str(entry.seq)\n",
    "    all_protein_dict[protein_acc].append(protein_disorder)"
   ]
  },
  {
   "cell_type": "code",
   "execution_count": 9,
   "id": "indirect-register",
   "metadata": {},
   "outputs": [],
   "source": [
    "# Create dict containing only info for representative proteins\n",
    "rep_protein_dict = {}\n",
    "for key in all_protein_dict:\n",
    "    if key in rep_proteins:\n",
    "        rep_protein_dict[key] = all_protein_dict[key]"
   ]
  },
  {
   "cell_type": "code",
   "execution_count": 10,
   "id": "impossible-movie",
   "metadata": {},
   "outputs": [
    {
     "data": {
      "text/plain": [
       "15957"
      ]
     },
     "execution_count": 10,
     "metadata": {},
     "output_type": "execute_result"
    }
   ],
   "source": [
    "len(rep_protein_dict)"
   ]
  },
  {
   "cell_type": "code",
   "execution_count": 11,
   "id": "southern-competition",
   "metadata": {},
   "outputs": [
    {
     "data": {
      "text/plain": [
       "array(['H0USY8|sequence OS=Ancylostoma ceylanicum OX=53326 GN=daf-12',\n",
       "       'GSYQLNAAELQALDLIQEAFKGMNDPMEQGRQATSFLKNEKSPADIMNIMDVTMRRFVKMAKRLPAFNDLSQDGKFALLKGGMIEMLTVRGVRRFDSSSGSWTTPTLGESSEVSINMFDQLNADVRSEQKMRFLQFFKIFHEDIRSNDLVISMIMLIVLFSPRDSITDPEDRRIIARHHEQFSALLNRYLESLYGDDAHQLNEQLPTALRMLREISASSGMLFLGTVNTSEAEPLPREFFKVE',\n",
       "       '100000000000000000000000000000000000000000000000000000000000000000000000000000000000000000000000000000000000000000000000000000000000000000000000000000000000000000000000000000000000000000000000000000000000000000000000000000000000000000000000000'],\n",
       "      dtype=object)"
      ]
     },
     "execution_count": 11,
     "metadata": {},
     "output_type": "execute_result"
    }
   ],
   "source": [
    "# Data are now in a dictionary format {'key=ID':'all information, sequence, labels'}\n",
    "# Convert data into list for shuffling and splitting\n",
    "rep_protein_list = list(rep_protein_dict.values())\n",
    "rep_protein_list[1]"
   ]
  },
  {
   "cell_type": "code",
   "execution_count": 24,
   "id": "secret-defensive",
   "metadata": {},
   "outputs": [
    {
     "name": "stdout",
     "output_type": "stream",
     "text": [
      "12765 1596 1596 True\n"
     ]
    }
   ],
   "source": [
    "# Data shuffling and splitting\n",
    "# Set random seed for repeatability and shuffle the data\n",
    "random.seed(1)\n",
    "random.shuffle(rep_protein_list)\n",
    "\n",
    "# Extract by index\n",
    "train_length = math.ceil(0.8*len(rep_protein_list))\n",
    "test_length = math.ceil(0.1*len(seq_as_array))\n",
    "\n",
    "train = rep_protein_list[:train_length]\n",
    "test = rep_protein_list[train_length:train_length+test_length]\n",
    "validation = rep_protein_list[train_length+test_length:]  # Validation gets remainder if split is not even\n",
    "\n",
    "# Check by length\n",
    "print(len(train), len(validation), len(train), len(train)+len(test)+len(validation) == len(rep_protein_list))"
   ]
  },
  {
   "cell_type": "code",
   "execution_count": 25,
   "id": "meaning-angola",
   "metadata": {},
   "outputs": [
    {
     "data": {
      "text/plain": [
       "'Q57W60|sequence OS=Trypanosoma brucei brucei (strain 927/4 GUTat10.1) OX=185431'"
      ]
     },
     "execution_count": 25,
     "metadata": {},
     "output_type": "execute_result"
    }
   ],
   "source": [
    "validation[1][0]"
   ]
  },
  {
   "cell_type": "code",
   "execution_count": 14,
   "id": "affecting-element",
   "metadata": {},
   "outputs": [],
   "source": [
    "# Compile all AA sequences into a fasta file\n",
    "with open(\"out/val_as_fasta.fasta\", \"w\") as validation_fastas:\n",
    "    for i in range(len(validation)):\n",
    "        validation_fastas.write(\">\" + validation[i][0] + \"\\n\" + validation[i][1] + \"\\n\")\n",
    "\n",
    "# Repeat for train \n",
    "with open(\"out/train_as_fasta.fasta\", \"w\") as train_fastas:\n",
    "    for i in range(len(train)):\n",
    "        train_fastas.write(\">\" + train[i][0] + \"\\n\" + train[i][1] + \"\\n\")\n",
    "\n",
    "# Repeat for test\n",
    "with open(\"out/test_as_fasta.fasta\", \"w\") as test_fastas:\n",
    "    for i in range(len(test)):\n",
    "        test_fastas.write(\">\" + test[i][0] + \"\\n\" + test[i][1] + \"\\n\")"
   ]
  },
  {
   "cell_type": "code",
   "execution_count": 15,
   "id": "super-seven",
   "metadata": {},
   "outputs": [],
   "source": [
    "# Compile all binary disorder sequences into a fasta file\n",
    "validation_labels = open(save_loc + \"out/val_labels_as_fasta.fasta\", \"w\")\n",
    "with open(\"out/val_labels_as_fasta.fasta\", \"w\") as validation_labels:\n",
    "    for i in range(len(validation)):\n",
    "        validation_labels.write(\">\" + validation[i][0] + \"\\n\" + validation[i][2] + \"\\n\")\n",
    "\n",
    "# Repeat for train \n",
    "with open(\"out/train_labels_as_fasta.fasta\", \"w\") as train_labels:\n",
    "    for i in range(len(train)):\n",
    "        train_labels.write(\">\" + train[i][0] + \"\\n\" + train[i][2] + \"\\n\")\n",
    "\n",
    "# Repeat for test\n",
    "with open(\"out/test_labels_as_fasta.fasta\", \"w\") as test_labels:\n",
    "    for i in range(len(test)):\n",
    "        test_labels.write(\">\" + test[i][0] + \"\\n\" + test[i][2] + \"\\n\")"
   ]
  }
 ],
 "metadata": {
  "kernelspec": {
   "display_name": "Python 3",
   "language": "python",
   "name": "python3"
  },
  "language_info": {
   "codemirror_mode": {
    "name": "ipython",
    "version": 3
   },
   "file_extension": ".py",
   "mimetype": "text/x-python",
   "name": "python",
   "nbconvert_exporter": "python",
   "pygments_lexer": "ipython3",
   "version": "3.8.5"
  }
 },
 "nbformat": 4,
 "nbformat_minor": 5
}
