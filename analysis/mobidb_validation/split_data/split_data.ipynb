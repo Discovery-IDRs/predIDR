{
 "cells": [
  {
   "cell_type": "code",
   "execution_count": null,
   "id": "seasonal-example",
   "metadata": {},
   "outputs": [],
   "source": [
    "import math\n",
    "import os\n",
    "import random\n",
    "\n",
    "from Bio import SeqIO"
   ]
  },
  {
   "cell_type": "code",
   "execution_count": null,
   "id": "offensive-secretary",
   "metadata": {},
   "outputs": [],
   "source": [
    "# Set file paths\n",
    "# Set allseq.fasta file paths\n",
    "allseq_path = \"../remove_outliers/out/allseq.fasta\"\n",
    "\n",
    "# Set alldisorder.fasta file path\n",
    "alldisorder_path = \"../remove_outliers/out/alldisorder.fasta\"\n",
    "\n",
    "# Set cluster file path\n",
    "cluster_path = \"../cluster_seqs/out/allseq.clstr\""
   ]
  },
  {
   "cell_type": "code",
   "execution_count": null,
   "id": "outdoor-cartoon",
   "metadata": {},
   "outputs": [],
   "source": [
    "# Read in raw cluster output and extract representative protein codes\n",
    "rep_proteins = []\n",
    "with open(cluster_path) as file:\n",
    "    for line in file:\n",
    "        if \"*\" in line:\n",
    "            protein_acc = line.split(\"|\")[0].split(\">\")[1]\n",
    "            rep_proteins.append(protein_acc)"
   ]
  },
  {
   "cell_type": "code",
   "execution_count": null,
   "id": "headed-jackson",
   "metadata": {},
   "outputs": [],
   "source": [
    "# Load in fasta files with biopython\n",
    "seq_fasta = list(SeqIO.parse(allseq_path, 'fasta'))\n",
    "disorder_fasta = list(SeqIO.parse(alldisorder_path, 'fasta'))"
   ]
  },
  {
   "cell_type": "code",
   "execution_count": null,
   "id": "historical-passport",
   "metadata": {},
   "outputs": [],
   "source": [
    "# Create dict containing all protein info\n",
    "# (key, value) = (\"Q9UPN6\", [\"Q9UPN6|sequence|SR-rel...\",\"MEAVKTFNSELYSLND...\", \"100000000000...\"])\n",
    "\n",
    "# First create dict with protein description and seq\n",
    "all_protein_dict = {}\n",
    "for entry in seq_fasta:\n",
    "    protein_acc = entry.description.split(\"|\")[0]\n",
    "    protein_description = entry.description\n",
    "    protein_seq = str(entry.seq)\n",
    "    protein_info = [protein_description, protein_seq]\n",
    "    all_protein_dict[protein_acc] = protein_info \n",
    "\n",
    "# Add disorder to dict\n",
    "for entry in disorder_fasta:\n",
    "    protein_acc = entry.description.split(\"|\")[0]\n",
    "    protein_disorder = str(entry.seq)\n",
    "    all_protein_dict[protein_acc].append(protein_disorder)"
   ]
  },
  {
   "cell_type": "code",
   "execution_count": null,
   "id": "indirect-register",
   "metadata": {},
   "outputs": [],
   "source": [
    "# Create dict containing only info for representative proteins\n",
    "rep_protein_dict = {}\n",
    "for key in all_protein_dict:\n",
    "    if key in rep_proteins:\n",
    "        rep_protein_dict[key] = all_protein_dict[key]"
   ]
  },
  {
   "cell_type": "code",
   "execution_count": null,
   "id": "southern-competition",
   "metadata": {},
   "outputs": [],
   "source": [
    "# Data are now in a dictionary format {'key=ID':'all information, sequence, labels'}\n",
    "# Convert data into list for shuffling and splitting\n",
    "rep_protein_list = list(rep_protein_dict.values())\n",
    "rep_protein_list[1]"
   ]
  },
  {
   "cell_type": "code",
   "execution_count": null,
   "id": "secret-defensive",
   "metadata": {},
   "outputs": [],
   "source": [
    "# Data shuffling and splitting\n",
    "# Set random seed for repeatability and shuffle the data\n",
    "random.seed(1)\n",
    "random.shuffle(rep_protein_list)\n",
    "\n",
    "# Extract by index\n",
    "train_length = math.ceil(0.8*len(rep_protein_list))\n",
    "test_length = math.ceil(0.1*len(rep_protein_list))\n",
    "\n",
    "train = rep_protein_list[:train_length]\n",
    "test = rep_protein_list[train_length:train_length+test_length]\n",
    "validation = rep_protein_list[train_length+test_length:]  # Validation gets remainder if split is not even"
   ]
  },
  {
   "cell_type": "code",
   "execution_count": null,
   "id": "meaning-angola",
   "metadata": {},
   "outputs": [],
   "source": [
    "validation[1][0]"
   ]
  },
  {
   "cell_type": "code",
   "execution_count": null,
   "id": "affecting-element",
   "metadata": {},
   "outputs": [],
   "source": [
    "if not os.path.exists('out/'):\n",
    "    os.mkdir('out/')\n",
    "\n",
    "# Compile all AA sequences into a fasta file\n",
    "with open(\"out/val_as_fasta.fasta\", \"w\") as validation_fastas:\n",
    "    for record in validation:\n",
    "        validation_fastas.write(\">\" + record[0] + \"\\n\" + record[1] + \"\\n\")\n",
    "\n",
    "# Repeat for train \n",
    "with open(\"out/train_as_fasta.fasta\", \"w\") as train_fastas:\n",
    "    for record in train:\n",
    "        train_fastas.write(\">\" + record[0] + \"\\n\" + record[1] + \"\\n\")\n",
    "\n",
    "# Repeat for test\n",
    "with open(\"out/test_as_fasta.fasta\", \"w\") as test_fastas:\n",
    "    for record in test:\n",
    "        test_fastas.write(\">\" + record[0] + \"\\n\" + record[1] + \"\\n\")"
   ]
  },
  {
   "cell_type": "code",
   "execution_count": null,
   "id": "super-seven",
   "metadata": {},
   "outputs": [],
   "source": [
    "# Compile all binary disorder sequences into a fasta file\n",
    "validation_labels = open(\"out/val_labels_as_fasta.fasta\", \"w\")\n",
    "with open(\"out/val_labels_as_fasta.fasta\", \"w\") as validation_labels:\n",
    "    for record in validation:\n",
    "        validation_labels.write(\">\" + record[0] + \"\\n\" + record[2] + \"\\n\")\n",
    "\n",
    "# Repeat for train \n",
    "with open(\"out/train_labels_as_fasta.fasta\", \"w\") as train_labels:\n",
    "    for record in train:\n",
    "        train_labels.write(\">\" + record[0] + \"\\n\" + record[2] + \"\\n\")\n",
    "\n",
    "# Repeat for test\n",
    "with open(\"out/test_labels_as_fasta.fasta\", \"w\") as test_labels:\n",
    "    for record in test:\n",
    "        test_labels.write(\">\" + record[0] + \"\\n\" + record[2] + \"\\n\")"
   ]
  },
  {
   "cell_type": "code",
   "execution_count": null,
   "id": "introductory-moldova",
   "metadata": {},
   "outputs": [],
   "source": [
    "# Compute statistics for each subset of the split\n",
    "for subset_name, subset in zip(['train', 'test', 'validation'], [train, test, validation]):\n",
    "    residue_num = 0\n",
    "    order_num = 0\n",
    "    disorder_num = 0\n",
    "    for _, _, labels in subset:\n",
    "        residue_num += len(labels)\n",
    "        order_num += labels.count('0')\n",
    "        disorder_num += labels.count('1')\n",
    "    \n",
    "    print(subset_name.upper())\n",
    "    print('Number of proteins:', len(subset))\n",
    "    print('Number of residues:', residue_num)\n",
    "    print('Number of ordered residues:', order_num)\n",
    "    print('Fraction of ordered residues:', order_num / residue_num)\n",
    "    print('Number of disordered residues:', disorder_num)\n",
    "    print('Fraction of disordered residues:', disorder_num / residue_num)\n",
    "    print()\n",
    "print('Subsets sum to total protein number:', sum([len(subset) for subset in [train, test, validation]]) == len(rep_protein_dict))"
   ]
  }
 ],
 "metadata": {
  "kernelspec": {
   "display_name": "Python 3",
   "language": "python",
   "name": "python3"
  },
  "language_info": {
   "codemirror_mode": {
    "name": "ipython",
    "version": 3
   },
   "file_extension": ".py",
   "mimetype": "text/x-python",
   "name": "python",
   "nbconvert_exporter": "python",
   "pygments_lexer": "ipython3",
   "version": "3.8.5"
  }
 },
 "nbformat": 4,
 "nbformat_minor": 5
}
