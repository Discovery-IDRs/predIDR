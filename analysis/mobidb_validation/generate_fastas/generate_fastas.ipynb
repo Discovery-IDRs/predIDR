{
 "cells": [
  {
   "cell_type": "code",
   "execution_count": 2,
   "id": "given-rover",
   "metadata": {},
   "outputs": [],
   "source": [
    "import json\n",
    "import os\n",
    "from Bio import SeqIO"
   ]
  },
  {
   "cell_type": "code",
   "execution_count": 3,
   "id": "lonely-orientation",
   "metadata": {},
   "outputs": [],
   "source": [
    "# Set paths of raw MobiDB files\n",
    "# Set path of curated-disorder-merge fasta file\n",
    "curated_fasta_path = \"../../../data/MobiDB/curated-disorder-merge-2074.fasta\"\n",
    "\n",
    "# Set path of derived-missing_residues-th_90 fasta file\n",
    "missing_fasta_path = \"../../../data/MobiDB/derived-missing_residues-th_90-35136.fasta\"\n",
    "\n",
    "# Set path of derived-mobile-th_90 fasta file\n",
    "mobile_fasta_path = \"../../../data/MobiDB/derived-mobile-th_90-1137.fasta\""
   ]
  },
  {
   "cell_type": "code",
   "execution_count": 4,
   "id": "recognized-laptop",
   "metadata": {
    "scrolled": false
   },
   "outputs": [],
   "source": [
    "# Set save locations for generated fasta files\n",
    "# Set allseq.fasta save path\n",
    "allseq_path = \"out/\"\n",
    "\n",
    "# Set alldisorder.fasta save path\n",
    "alldisorder_path = \"out/\"\n",
    "\n",
    "# Set individual AA sequence fasta files save path\n",
    "seq_fastas_path = \"out/Seq/\"\n",
    "\n",
    "# Set individual disorder fasta files save path\n",
    "disorder_fastas_path = \"out/Disorder/\"\n",
    "\n",
    "# Make save locations\n",
    "for path in [allseq_path, alldisorder_path, seq_fastas_path, disorder_fastas_path]:\n",
    "    if not os.path.exists(path):\n",
    "        os.mkdir(path)"
   ]
  },
  {
   "cell_type": "code",
   "execution_count": 5,
   "id": "median-bathroom",
   "metadata": {},
   "outputs": [],
   "source": [
    "def add_protein(protein_code, protein_dict):\n",
    "    \"\"\"\n",
    "    Using the inputted protein code, write protein information into allseq.fasta and \n",
    "    alldisorder.fasta and create new individual AA seq and binary disorder fasta files\n",
    "    for the protein.\n",
    "    \n",
    "    Input:\n",
    "    - protein_code => string of acc number assigned to protein by MobiDB\n",
    "    - protein_dict => dict with format: (key, value) = (\"Q9UPN6\", [\"Q9UPN6|sequence|SR-rel...\",\"MEAVK...\", \"10000...\"])\n",
    "    \n",
    "    Output:\n",
    "    - new protein entry in allseq.fasta and alldisorder.fasta\n",
    "    - new individual fasta files for protein\n",
    "    \"\"\"\n",
    "    # Write AA sequence of protein into allseq.fasta as entry \n",
    "    with open(allseq_path + \"allseq.fasta\", \"a\") as file:\n",
    "        header, seq, _ = protein_dict.get(protein_code)\n",
    "        seqstring = \"\\n\".join(seq[i:i+80] for i in range(0, len(seq), 80))\n",
    "        file.write(\">\" + header + \"\\n\" + seqstring + \"\\n\")\n",
    "    \n",
    "    # Write individual AA sequence fasta file for protein \n",
    "    with open(seq_fastas_path + protein_code + \"_seq\" +\".fasta\", \"w+\") as file:\n",
    "        header, seq, _ = protein_dict.get(protein_code)\n",
    "        seqstring = \"\\n\".join(seq[i:i+80] for i in range(0, len(seq), 80))\n",
    "        file.write(\">\" + header + \"\\n\" + seqstring + \"\\n\")\n",
    "\n",
    "    # Write binary disorder sequence of protein into alldisorder.fasta as entry \n",
    "    with open(alldisorder_path + \"alldisorder.fasta\", \"a\") as file:\n",
    "        header, _, seq = protein_dict.get(protein_code)\n",
    "        seqstring = \"\\n\".join(seq[i:i+80] for i in range(0, len(seq), 80))\n",
    "        file.write(\">\" + header + \"\\n\" + seqstring + \"\\n\")\n",
    "    \n",
    "    # Write individual binary disorder sequence fasta file for protein\n",
    "    with open(disorder_fastas_path + protein_code + \"_disorder\" + \".fasta\", \"w+\") as file:\n",
    "        header, _, seq = protein_dict.get(protein_code)\n",
    "        seqstring = \"\\n\".join(seq[i:i+80] for i in range(0, len(seq), 80))\n",
    "        file.write(\">\" + header + \"\\n\" + seqstring + \"\\n\")"
   ]
  },
  {
   "cell_type": "code",
   "execution_count": 6,
   "id": "special-investing",
   "metadata": {},
   "outputs": [],
   "source": [
    "def merge_mobile_missing(protein_code, mobile_dict, missing_dict):\n",
    "    \"\"\"\n",
    "    Merges missing and mobile binary disorder annotations for protein given by input protein_code \n",
    "    into one binary disorder sequence and writes this sequence into allseq.fasta and alldisorder.fasta \n",
    "    and new individual AA seq and binary disorder fasta files for the protein.\n",
    "    \n",
    "    Residue is labeled 1 in merged annotation as long as it is labeled 1 by either missing or mobile annotations.\n",
    "    \n",
    "    \n",
    "    Input:\n",
    "    - protein_code => string of acc number assigned to protein by MobiDB\n",
    "    - mobile_dict => dict containing info for proteins with mobile annotations\n",
    "    - missing_dict => dict containing info for proteins with missing annotations\n",
    "    ** dict format: (key, value) = (\"Q9UPN6\", [\"Q9UPN6|sequence|SR-rel...\",\"MEAVK...\", \"10000...\"])\n",
    "    \n",
    "    Output:\n",
    "    - new protein entry in allseq.fasta\n",
    "    - merged binary disorder sequence protein entry alldisorder.fasta\n",
    "    - new individual fasta files for protein\n",
    "    \"\"\"\n",
    "    # Merge annotations\n",
    "    mobile_seq = mobile_dict.get(protein_code)[2]\n",
    "    missing_seq = missing_dict.get(protein_code)[2]\n",
    "\n",
    "    merge_seq = []\n",
    "    for s1, s2 in zip(mobile_seq, missing_seq):\n",
    "        if s1 == s2:\n",
    "            merge_seq.append(s1)\n",
    "        elif (s1 == '1') or (s2 == '1'):  # Effectively an else\n",
    "            merge_seq.append('1')\n",
    "    merge_seq = ''.join(merge_seq)  # Convert list to string\n",
    "            \n",
    "    # Create temporary protein_dict for protein\n",
    "    merge_protein_dict = {}\n",
    "    merge_protein_dict[protein_code] = [mobile_dict[protein_code][0], mobile_dict[protein_code][1], merge_seq]\n",
    "    \n",
    "    # Write fasta files\n",
    "    add_protein(protein_code, merge_protein_dict)"
   ]
  },
  {
   "cell_type": "markdown",
   "id": "thirty-boating",
   "metadata": {},
   "source": [
    "There are the following numbers of proteins in each file:\n",
    " - curated-disorder-merge: 2074\n",
    " - derived-missing_residues-th_90: 35136\n",
    " - derived-mobile-th_90: 1137\n",
    " - total unique: 36391"
   ]
  },
  {
   "cell_type": "code",
   "execution_count": 7,
   "id": "quick-serve",
   "metadata": {},
   "outputs": [],
   "source": [
    "# Load in fasta files with biopython\n",
    "curated_fasta = list(SeqIO.parse(curated_fasta_path, 'fasta'))\n",
    "missing_fasta = list(SeqIO.parse(missing_fasta_path, 'fasta'))\n",
    "mobile_fasta = list(SeqIO.parse(mobile_fasta_path, 'fasta'))"
   ]
  },
  {
   "cell_type": "code",
   "execution_count": 8,
   "id": "whole-latest",
   "metadata": {},
   "outputs": [],
   "source": [
    "# Clean lists of unnecessary entries\n",
    "# The raw FASTAs contain not only the amino acid sequences,\n",
    "# but also residue labels from varying sources and other annotations\n",
    "clean_curated_fasta = []\n",
    "clean_missing_fasta = []\n",
    "clean_mobile_fasta = []\n",
    "\n",
    "for entry in curated_fasta:\n",
    "    # Extracting AA sequence of protein\n",
    "    if \"sequence\" in entry.description:\n",
    "        clean_curated_fasta.append(entry)\n",
    "    # Extracting binary disorder sequence of protein\n",
    "    if \"curated-disorder-merge\" in entry.description:\n",
    "        clean_curated_fasta.append(entry)\n",
    "        \n",
    "for entry in missing_fasta:\n",
    "    # Extracting AA sequence of protein\n",
    "    if \"sequence\" in entry.description:\n",
    "        clean_missing_fasta.append(entry)\n",
    "    # Extracting binary disorder sequence of protein\n",
    "    if \"derived-missing_residues-th_90\" in entry.description:\n",
    "        clean_missing_fasta.append(entry)\n",
    "        \n",
    "for entry in mobile_fasta:\n",
    "    # Extracting AA sequence of protein\n",
    "    if \"sequence\" in entry.description:\n",
    "        clean_mobile_fasta.append(entry)\n",
    "    # Extracting binary disorder sequence of protein\n",
    "    if \"derived-mobile-th_90\" in entry.description:\n",
    "        clean_mobile_fasta.append(entry)"
   ]
  },
  {
   "cell_type": "code",
   "execution_count": 9,
   "id": "scenic-latino",
   "metadata": {},
   "outputs": [
    {
     "name": "stdout",
     "output_type": "stream",
     "text": [
      "length of clean_curated_fasta: 4148\n",
      "length of clean_missing_fasta: 70272\n",
      "length of clean_mobile_fasta: 2274\n"
     ]
    }
   ],
   "source": [
    "# Check length of lists \n",
    "# Length should be double the amount of proteins in each category since \n",
    "# there are two entries (AA seq and binary label seq) per protein\n",
    "print(f\"length of clean_curated_fasta: {len(clean_curated_fasta)}\")\n",
    "print(f\"length of clean_missing_fasta: {len(clean_missing_fasta)}\")\n",
    "print(f\"length of clean_mobile_fasta: {len(clean_mobile_fasta)}\")"
   ]
  },
  {
   "cell_type": "code",
   "execution_count": 10,
   "id": "genuine-bumper",
   "metadata": {},
   "outputs": [],
   "source": [
    "# Create dicts from cleaned lists\n",
    "# Make dicts with string of protein acc as key and list \n",
    "# containing description and string of protein AA sequence as value\n",
    "# (key, value) = (\"Q9UPN6\", [\"Q9UPN6|sequence|SR-rel...\",\"MEAVKTFNSELYSLNDYKP...\"])\n",
    "curated_dict = {}\n",
    "missing_dict = {}\n",
    "mobile_dict = {}\n",
    "\n",
    "for entry in clean_curated_fasta:\n",
    "    if \"sequence\" in entry.description:\n",
    "        curated_dict[entry.description.split(\"|\")[0]] = [entry.description, str(entry.seq)]\n",
    "\n",
    "for entry in clean_missing_fasta:\n",
    "    if \"sequence\" in entry.description:\n",
    "        missing_dict[entry.description.split(\"|\")[0]] = [entry.description, str(entry.seq)]\n",
    "        \n",
    "for entry in clean_mobile_fasta:\n",
    "    if \"sequence\" in entry.description:\n",
    "        mobile_dict[entry.description.split(\"|\")[0]] = [entry.description, str(entry.seq)]\n",
    "        \n",
    "# Append string of binary disorder sequence of protein to value list\n",
    "# (key, value) = (\"Q9UPN6\", [\"Q9UPN6|sequence|SR-rel...\",\"MEAVKTFNSELYSLND...\", \"100000000000...\"])\n",
    "for entry in clean_curated_fasta:\n",
    "    if \"curated-disorder-merge\" in entry.description:\n",
    "        curated_dict[entry.description.split(\"|\")[0]].append(str(entry.seq))\n",
    "        \n",
    "for entry in clean_missing_fasta:\n",
    "    if \"derived-missing_residues-th_90\" in entry.description:\n",
    "        missing_dict[entry.description.split(\"|\")[0]].append(str(entry.seq))\n",
    "\n",
    "for entry in clean_mobile_fasta:\n",
    "    if \"derived-mobile-th_90\" in entry.description:\n",
    "        mobile_dict[entry.description.split(\"|\")[0]].append(str(entry.seq))"
   ]
  },
  {
   "cell_type": "code",
   "execution_count": 11,
   "id": "attempted-design",
   "metadata": {},
   "outputs": [
    {
     "name": "stdout",
     "output_type": "stream",
     "text": [
      "length of curated_dict: 2074\n",
      "length of missing_dict: 35136\n",
      "length of mobile_dict: 1137\n"
     ]
    }
   ],
   "source": [
    "# Check length of dicts\n",
    "# Length should equal amount of proteins in each category\n",
    "print(f\"length of curated_dict: {len(curated_dict)}\")\n",
    "print(f\"length of missing_dict: {len(missing_dict)}\")\n",
    "print(f\"length of mobile_dict: {len(mobile_dict)}\")"
   ]
  },
  {
   "cell_type": "code",
   "execution_count": 12,
   "id": "suffering-decision",
   "metadata": {},
   "outputs": [],
   "source": [
    "# Create lists of protein acc in each dict\n",
    "# set() creates set of keys from dict\n",
    "curated_accs = set(curated_dict)\n",
    "missing_accs = set(missing_dict)\n",
    "mobile_accs = set(mobile_dict)"
   ]
  },
  {
   "cell_type": "code",
   "execution_count": 13,
   "id": "acquired-singapore",
   "metadata": {},
   "outputs": [
    {
     "name": "stdout",
     "output_type": "stream",
     "text": [
      "length of curated_accs: 2074\n",
      "length of missing_accs: 35136\n",
      "length of mobile_accs: 1137\n"
     ]
    }
   ],
   "source": [
    "# Check length of lists\n",
    "# Length should equal amount of proteins in each category\n",
    "print(f\"length of curated_accs: {len(curated_accs)}\")\n",
    "print(f\"length of missing_accs: {len(missing_accs)}\")\n",
    "print(f\"length of mobile_accs: {len(mobile_accs)}\")"
   ]
  },
  {
   "cell_type": "code",
   "execution_count": 14,
   "id": "pressed-passage",
   "metadata": {},
   "outputs": [],
   "source": [
    "# Create set of all protein acc excluding repeats\n",
    "all_accs = curated_accs | missing_accs | mobile_accs"
   ]
  },
  {
   "cell_type": "code",
   "execution_count": 15,
   "id": "later-deadline",
   "metadata": {},
   "outputs": [
    {
     "name": "stdout",
     "output_type": "stream",
     "text": [
      "length of all_accs: 36391\n"
     ]
    }
   ],
   "source": [
    "# Check length of set\n",
    "# Length should equal total amount of proteins excluding repeats\n",
    "print(f\"length of all_accs: {len(all_accs)}\")"
   ]
  },
  {
   "cell_type": "code",
   "execution_count": 16,
   "id": "external-housing",
   "metadata": {},
   "outputs": [],
   "source": [
    "# Generate fasta files\n",
    "for acc in all_accs: \n",
    "    if acc in curated_accs:\n",
    "        add_protein(acc, curated_dict)\n",
    "    elif acc in missing_accs and acc in mobile_accs: \n",
    "        merge_mobile_missing(acc, mobile_dict, missing_dict)\n",
    "    elif acc in missing_accs and acc not in mobile_accs:\n",
    "        add_protein(acc, missing_dict)\n",
    "    elif acc in mobile_accs and acc not in missing_accs:  # Effectively an else\n",
    "        add_protein(acc, mobile_dict)"
   ]
  }
 ],
 "metadata": {
  "kernelspec": {
   "display_name": "Python 3",
   "language": "python",
   "name": "python3"
  },
  "language_info": {
   "codemirror_mode": {
    "name": "ipython",
    "version": 3
   },
   "file_extension": ".py",
   "mimetype": "text/x-python",
   "name": "python",
   "nbconvert_exporter": "python",
   "pygments_lexer": "ipython3",
   "version": "3.8.5"
  }
 },
 "nbformat": 4,
 "nbformat_minor": 5
}
