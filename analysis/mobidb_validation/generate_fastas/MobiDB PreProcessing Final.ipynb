{
 "cells": [
  {
   "cell_type": "code",
   "execution_count": 125,
   "id": "given-rover",
   "metadata": {},
   "outputs": [],
   "source": [
    "import os\n",
    "import json\n",
    "from Bio import SeqIO"
   ]
  },
  {
   "cell_type": "code",
   "execution_count": 126,
   "id": "lonely-orientation",
   "metadata": {},
   "outputs": [
    {
     "name": "stdout",
     "output_type": "stream",
     "text": [
      "curated-disorder-merge fasta file location: '../MobiDB Data/Raw/curated-disorder-merge-2074.fasta'\n",
      "derived-missing_residues-th_90 fasta file location: '../MobiDB Data/Raw/derived-missing_residues-th_90-35136.fasta'\n",
      "derived-mobile-th_90 fasta file location: '../MobiDB Data/Raw/derived-mobile-th_90-1137.fasta'\n"
     ]
    }
   ],
   "source": [
    "#set file locations of raw MobiDB data files(uploaded to Google Drive)\n",
    "\n",
    "#set file location of curated-disorder-merge fasta file\n",
    "curated_fasta_loc = \"../MobiDB Data/Raw/curated-disorder-merge-2074.fasta\"\n",
    "print(f\"curated-disorder-merge fasta file location: '{curated_fasta_loc}'\")\n",
    "\n",
    "#set file location of derived-missing_residues-th_90 fasta file\n",
    "missing_fasta_loc = \"../MobiDB Data/Raw/derived-missing_residues-th_90-35136.fasta\"\n",
    "print(f\"derived-missing_residues-th_90 fasta file location: '{missing_fasta_loc}'\")\n",
    "\n",
    "#set file location of derived-mobile-th_90 fasta file\n",
    "mobile_fasta_loc = \"../MobiDB Data/Raw/derived-mobile-th_90-1137.fasta\"\n",
    "print(f\"derived-mobile-th_90 fasta file location: '{mobile_fasta_loc}'\")"
   ]
  },
  {
   "cell_type": "code",
   "execution_count": 127,
   "id": "recognized-laptop",
   "metadata": {
    "scrolled": false
   },
   "outputs": [
    {
     "name": "stdout",
     "output_type": "stream",
     "text": [
      "allseq.fasta save location: '../MobiDB Data/Processed/'\n",
      "alldisorder.fasta save location: '../MobiDB Data/Processed/'\n",
      "seq fastas save location: '../MobiDB Data/Processed/Seq/'\n",
      "disorder fastas save location: '../MobiDB Data/Processed/Disorder/'\n"
     ]
    }
   ],
   "source": [
    "#set save locations for generated fasta files\n",
    "\n",
    "#set allseq.fasta save location\n",
    "allseq_loc = \"../MobiDB Data/Processed/\"\n",
    "print(f\"allseq.fasta save location: '{allseq_loc}'\")\n",
    "\n",
    "#set alldisorder.fasta save location\n",
    "alldisorder_loc = \"../MobiDB Data/Processed/\"\n",
    "print(f\"alldisorder.fasta save location: '{alldisorder_loc}'\")\n",
    "\n",
    "#set individual AA sequence fasta files save location\n",
    "seq_fastas_loc = \"../MobiDB Data/Processed/Seq/\"\n",
    "print(f\"seq fastas save location: '{seq_fastas_loc}'\")\n",
    "\n",
    "#set individual disorder fasta files save location\n",
    "disorder_fastas_loc = \"../MobiDB Data/Processed/Disorder/\"\n",
    "print(f\"disorder fastas save location: '{disorder_fastas_loc}'\")"
   ]
  },
  {
   "cell_type": "code",
   "execution_count": 128,
   "id": "median-bathroom",
   "metadata": {},
   "outputs": [],
   "source": [
    "#define function for generating fasta files\n",
    "\n",
    "def add_protein(protein_code, protein_dict):\n",
    "    \n",
    "    \"\"\"\n",
    "    Using the inputted protein code, write protein information into allseq.fasta and \n",
    "    alldisorder.fasta and create new individual AA seq and binary disorder fasta files\n",
    "    for the protein.\n",
    "    \n",
    "    Input:\n",
    "    - protein_code => string of acc number assigned to protein by MobiDB\n",
    "    - protein_dict => dict with format:(key, value) = (\"Q9UPN6\", [\"Q9UPN6|sequence|SR-rel...\",\"MEAVK...\", \"10000...\"])\n",
    "    \n",
    "    Output:\n",
    "    - new protein entry in allseq.fasta and alldisorder.fasta\n",
    "    - new individual fasta files for protein\n",
    "    \n",
    "    \"\"\"\n",
    "    \n",
    "    #write AA sequence of protein into allseq.fasta as entry \n",
    "    with open(allseq_loc + \"allseq.fasta\", \"a\") as file:\n",
    "        file.write(\">\" + protein_dict.get(protein_code)[0] + \"\\n\" + protein_dict.get(protein_code)[1] + \"\\n\")\n",
    "    \n",
    "    #write individual AA sequence fasta file for protein \n",
    "    with open(seq_fastas_loc + protein_code + \"_seq\" +\".fasta\", \"w+\") as file:\n",
    "        file.write(\">\" + protein_dict.get(protein_code)[0] + \"\\n\" + protein_dict.get(protein_code)[1] + \"\\n\")\n",
    "\n",
    "    #write binary disorder sequence of protein into alldisorder.fasta as entry \n",
    "    with open(alldisorder_loc + \"alldisorder.fasta\", \"a\") as file:\n",
    "        file.write(\">\" + protein_dict.get(protein_code)[0] + \"\\n\" + protein_dict.get(protein_code)[2] + \"\\n\")\n",
    "    \n",
    "    #write individual binary disorder sequence fasta file for protein\n",
    "    with open(disorder_fastas_loc + protein_code + \"_disorder\" + \".fasta\", \"w+\") as file:\n",
    "        file.write(\">\" + protein_dict.get(protein_code)[0] + \"\\n\" + protein_dict.get(protein_code)[2] + \"\\n\")"
   ]
  },
  {
   "cell_type": "code",
   "execution_count": 129,
   "id": "special-investing",
   "metadata": {},
   "outputs": [],
   "source": [
    "#define function for merging missing and mobile binary disorder annotations \n",
    "#into one binary disorder sequence and writing it into fasta files \n",
    "\n",
    "def merge_mobile_missing(protein_code, mobile_dict, missing_dict):\n",
    "    \n",
    "    \"\"\"\n",
    "    Merges missing and mobile binary disorder annotations for protein given by inputted protein_code \n",
    "    into one binary disorder sequence and writes this sequence into allseq.fasta and alldisorder.fasta \n",
    "    and new individual AA seq and binary disorder fasta files for the protein.\n",
    "    \n",
    "    Residue is labeled 1 in merged annotation as long as it is labeled 1 by either missing or mobile annotations.\n",
    "    \n",
    "    \n",
    "    Input:\n",
    "    - protein_code => string of acc number assigned to protein by MobiDB\n",
    "    - mobile_dict => dict containing info for proteins with mobile annotations\n",
    "    - missing_dict => dict containing info for proteins with missing annotations\n",
    "    ** dict format: (key, value) = (\"Q9UPN6\", [\"Q9UPN6|sequence|SR-rel...\",\"MEAVK...\", \"10000...\"])\n",
    "    \n",
    "    Output:\n",
    "    - new protein entry in allseq.fasta\n",
    "    - merged binary disorder sequence protein entry alldisorder.fasta\n",
    "    - new individual fasta files for protein\n",
    "    \n",
    "    \"\"\"\n",
    "    \n",
    "    #merging annotations\n",
    "    mobile_seq = mobile_dict.get(protein_code)[2]\n",
    "    missing_seq = missing_dict.get(protein_code)[2]\n",
    "    merge_seq = \"\"\n",
    "   \n",
    "    for s in range(max(len(mobile_seq), len(missing_seq))):\n",
    "        if mobile_seq[s] == missing_seq[s]:\n",
    "            merge_seq += mobile_seq[s]\n",
    "        elif (mobile_seq[s] == '1') or (missing_seq[s] == '1'):\n",
    "            merge_seq += '1'\n",
    "            \n",
    "    #create temporary protein_dict for protein\n",
    "    merge_protein_dict = {}\n",
    "    merge_protein_dict[protein_code] = [mobile_dict[protein_code][0],mobile_dict[protein_code][1], merge_seq]\n",
    "    \n",
    "    #write fasta files\n",
    "    add_protein(protein_code, merge_protein_dict)"
   ]
  },
  {
   "cell_type": "markdown",
   "id": "thirty-boating",
   "metadata": {},
   "source": [
    "Will be checking code throughout script by checking if length of dictionaries and lists are correct.\n",
    "\n",
    "Know from exploration of data that there are:\n",
    " - 2074 proteins in curated-disorder-merge\n",
    " - 35136 proteins in derived-missing_residues-th_90\n",
    " - 1137 proteins in derived-mobile-th_90\n",
    " - 36391 proteins when all combined and repeats disregarded"
   ]
  },
  {
   "cell_type": "code",
   "execution_count": 130,
   "id": "quick-serve",
   "metadata": {},
   "outputs": [],
   "source": [
    "#load in fasta files with biopython\n",
    "\n",
    "curated_fasta = SeqIO.parse(curated_fasta_loc, 'fasta')\n",
    "missing_fasta = SeqIO.parse(missing_fasta_loc, 'fasta')\n",
    "mobile_fasta = SeqIO.parse(mobile_fasta_loc, 'fasta')"
   ]
  },
  {
   "cell_type": "code",
   "execution_count": 131,
   "id": "egyptian-pursuit",
   "metadata": {},
   "outputs": [],
   "source": [
    "#load fastas into lists\n",
    "\n",
    "curated_fasta_lst = []\n",
    "missing_fasta_lst = []\n",
    "mobile_fasta_lst = []\n",
    "\n",
    "for entry in curated_fasta:\n",
    "    curated_fasta_lst.append(entry)\n",
    "    \n",
    "for entry in missing_fasta:\n",
    "    missing_fasta_lst.append(entry)\n",
    "    \n",
    "for entry in mobile_fasta:\n",
    "    mobile_fasta_lst.append(entry)"
   ]
  },
  {
   "cell_type": "code",
   "execution_count": 132,
   "id": "whole-latest",
   "metadata": {},
   "outputs": [],
   "source": [
    "#clean lists of unnecessary entries\n",
    "\n",
    "clean_curated_fasta_lst = []\n",
    "clean_missing_fasta_lst = []\n",
    "clean_mobile_fasta_lst = []\n",
    "\n",
    "for entry in curated_fasta_lst:\n",
    "    #extracting AA sequence of protein\n",
    "    if \"sequence\" in entry.description:\n",
    "        clean_curated_fasta_lst.append(entry)\n",
    "    #extracting binary disorder sequence of protein\n",
    "    if \"curated-disorder-merge\" in entry.description:\n",
    "        clean_curated_fasta_lst.append(entry)\n",
    "        \n",
    "for entry in missing_fasta_lst:\n",
    "    #extracting AA sequence of protein\n",
    "    if \"sequence\" in entry.description:\n",
    "        clean_missing_fasta_lst.append(entry)\n",
    "    #extracting binary disorder sequence of protein\n",
    "    if \"derived-missing_residues-th_90\" in entry.description:\n",
    "        clean_missing_fasta_lst.append(entry)\n",
    "        \n",
    "for entry in mobile_fasta_lst:\n",
    "    #extracting AA sequence of protein\n",
    "    if \"sequence\" in entry.description:\n",
    "        clean_mobile_fasta_lst.append(entry)\n",
    "    #extracting binary disorder sequence of protein\n",
    "    if \"derived-mobile-th_90\" in entry.description:\n",
    "        clean_mobile_fasta_lst.append(entry)"
   ]
  },
  {
   "cell_type": "code",
   "execution_count": 133,
   "id": "scenic-latino",
   "metadata": {},
   "outputs": [
    {
     "name": "stdout",
     "output_type": "stream",
     "text": [
      "length of clean_curated_fasta_lst: '4148'\n",
      "length of clean_missing_fasta_lst: '70272'\n",
      "length of clean_mobile_fasta_lst: '2274'\n"
     ]
    }
   ],
   "source": [
    "#checking length of lists \n",
    "\n",
    "#length should be double the amount of proteins in each category since \n",
    "#there are two entries (AA seq and binary disorder seq) per protein\n",
    "\n",
    "print(f\"length of clean_curated_fasta_lst: '{len(clean_curated_fasta_lst)}'\")\n",
    "print(f\"length of clean_missing_fasta_lst: '{len(clean_missing_fasta_lst)}'\")\n",
    "print(f\"length of clean_mobile_fasta_lst: '{len(clean_mobile_fasta_lst)}'\")"
   ]
  },
  {
   "cell_type": "code",
   "execution_count": 134,
   "id": "genuine-bumper",
   "metadata": {},
   "outputs": [],
   "source": [
    "#create dicts from cleaned lists\n",
    "\n",
    "#make dicts with string of protein acc as key and list \n",
    "#containing description and string of protein AA sequence as value\n",
    "\n",
    "#(key, value) = (\"Q9UPN6\", [\"Q9UPN6|sequence|SR-rel...\",\"MEAVKTFNSELYSLNDYKP...\"])\n",
    "\n",
    "curated_dict = {}\n",
    "missing_dict = {}\n",
    "mobile_dict = {}\n",
    "\n",
    "for entry in clean_curated_fasta_lst:\n",
    "    if \"sequence\" in entry.description:\n",
    "        curated_dict[entry.description.split(\"|\")[0]] = [entry.description, str(entry.seq)]\n",
    "\n",
    "for entry in clean_missing_fasta_lst:\n",
    "    if \"sequence\" in entry.description:\n",
    "        missing_dict[entry.description.split(\"|\")[0]] = [entry.description, str(entry.seq)]\n",
    "        \n",
    "for entry in clean_mobile_fasta_lst:\n",
    "    if \"sequence\" in entry.description:\n",
    "        mobile_dict[entry.description.split(\"|\")[0]] = [entry.description, str(entry.seq)]\n",
    "        \n",
    "#append string of binary disorder sequence of protein to value list\n",
    "#(key, value) = (\"Q9UPN6\", [\"Q9UPN6|sequence|SR-rel...\",\"MEAVKTFNSELYSLND...\", \"100000000000...\"])\n",
    "\n",
    "for entry in clean_curated_fasta_lst:\n",
    "    if \"curated-disorder-merge\" in entry.description:\n",
    "        curated_dict[entry.description.split(\"|\")[0]].append(str(entry.seq))\n",
    "        \n",
    "for entry in clean_missing_fasta_lst:\n",
    "    if \"derived-missing_residues-th_90\" in entry.description:\n",
    "        missing_dict[entry.description.split(\"|\")[0]].append(str(entry.seq))\n",
    "\n",
    "for entry in clean_mobile_fasta_lst:\n",
    "    if \"derived-mobile-th_90\" in entry.description:\n",
    "        mobile_dict[entry.description.split(\"|\")[0]].append(str(entry.seq))"
   ]
  },
  {
   "cell_type": "code",
   "execution_count": 135,
   "id": "attempted-design",
   "metadata": {},
   "outputs": [
    {
     "name": "stdout",
     "output_type": "stream",
     "text": [
      "length of curated_dict: '2074'\n",
      "length of missing_dict: '35136'\n",
      "length of mobile_dict: '1137'\n"
     ]
    }
   ],
   "source": [
    "#check length of dicts\n",
    "#length should equal amount of proteins in each category\n",
    "\n",
    "print(f\"length of curated_dict: '{len(curated_dict)}'\")\n",
    "print(f\"length of missing_dict: '{len(missing_dict)}'\")\n",
    "print(f\"length of mobile_dict: '{len(mobile_dict)}'\")"
   ]
  },
  {
   "cell_type": "code",
   "execution_count": 136,
   "id": "suffering-decision",
   "metadata": {},
   "outputs": [],
   "source": [
    "#create lists of protein acc in each dict(will be used in final preprocessing)\n",
    "\n",
    "curated_acc_lst = []\n",
    "missing_acc_lst = []\n",
    "mobile_acc_lst = []\n",
    "\n",
    "for key in curated_dict:\n",
    "    curated_acc_lst.append(key)\n",
    "    \n",
    "for key in missing_dict:\n",
    "    missing_acc_lst.append(key)\n",
    "\n",
    "for key in mobile_dict:\n",
    "    mobile_acc_lst.append(key)"
   ]
  },
  {
   "cell_type": "code",
   "execution_count": 137,
   "id": "acquired-singapore",
   "metadata": {},
   "outputs": [
    {
     "name": "stdout",
     "output_type": "stream",
     "text": [
      "length of curated_acc_lst: '2074'\n",
      "length of missing_acc_lst: '35136'\n",
      "length of mobile_acc_lst: '1137'\n"
     ]
    }
   ],
   "source": [
    "#check length of lists\n",
    "#length should equal amount of proteins in each category\n",
    "\n",
    "print(f\"length of curated_acc_lst: '{len(curated_acc_lst)}'\")\n",
    "print(f\"length of missing_acc_lst: '{len(missing_acc_lst)}'\")\n",
    "print(f\"length of mobile_acc_lst: '{len(mobile_acc_lst)}'\")"
   ]
  },
  {
   "cell_type": "code",
   "execution_count": 138,
   "id": "pressed-passage",
   "metadata": {},
   "outputs": [],
   "source": [
    "#create list of all protein acc excluding repeats(will be used in final preprocessing)\n",
    "\n",
    "all_acc_lst = []\n",
    "\n",
    "all_acc_lst.extend(curated_acc_lst)\n",
    "\n",
    "for acc in missing_acc_lst:\n",
    "    if acc not in curated_acc_lst:\n",
    "        all_acc_lst.append(acc)\n",
    "\n",
    "for acc in mobile_acc_lst:\n",
    "    if acc not in curated_acc_lst and acc not in missing_acc_lst:\n",
    "        all_acc_lst.append(acc)"
   ]
  },
  {
   "cell_type": "code",
   "execution_count": 139,
   "id": "later-deadline",
   "metadata": {},
   "outputs": [
    {
     "name": "stdout",
     "output_type": "stream",
     "text": [
      "length of all_acc_lst: '36391'\n"
     ]
    }
   ],
   "source": [
    "#check length of list\n",
    "#length should equal total amount of proteins excluding repeats\n",
    "\n",
    "print(f\"length of all_acc_lst: '{len(all_acc_lst)}'\")"
   ]
  },
  {
   "cell_type": "code",
   "execution_count": 140,
   "id": "external-housing",
   "metadata": {},
   "outputs": [],
   "source": [
    "#generate fasta files\n",
    "\n",
    "for acc in all_acc_lst: \n",
    "    if acc in curated_acc_lst:\n",
    "        add_protein(acc, curated_dict)\n",
    "    elif acc in missing_acc_lst and acc in mobile_acc_lst: \n",
    "        merge_mobile_missing(acc, mobile_dict, missing_dict)\n",
    "    elif acc in missing_acc_lst and acc not in mobile_acc_lst:\n",
    "        add_protein(acc, missing_dict)\n",
    "    elif acc in mobile_acc_lst and acc not in missing_acc_lst:\n",
    "        add_protein(acc, mobile_dict)"
   ]
  },
  {
   "cell_type": "code",
   "execution_count": null,
   "id": "considered-hybrid",
   "metadata": {},
   "outputs": [],
   "source": []
  }
 ],
 "metadata": {
  "kernelspec": {
   "display_name": "Python 3",
   "language": "python",
   "name": "python3"
  },
  "language_info": {
   "codemirror_mode": {
    "name": "ipython",
    "version": 3
   },
   "file_extension": ".py",
   "mimetype": "text/x-python",
   "name": "python",
   "nbconvert_exporter": "python",
   "pygments_lexer": "ipython3",
   "version": "3.8.3"
  }
 },
 "nbformat": 4,
 "nbformat_minor": 5
}
