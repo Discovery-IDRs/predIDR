{
 "cells": [
  {
   "cell_type": "code",
   "execution_count": 1,
   "id": "broken-flesh",
   "metadata": {},
   "outputs": [],
   "source": [
    "import os\n",
    "from math import floor\n",
    "\n",
    "import Bio.SeqIO as SeqIO\n",
    "import numpy as np\n",
    "from tensorflow import keras\n",
    "from tensorflow.keras import layers\n",
    "\n",
    "import sys\n",
    "sys.path.append('../../../src')\n",
    "from legacy_metrics import *\n",
    "\n",
    "from pandas.core.common import flatten"
   ]
  },
  {
   "cell_type": "code",
   "execution_count": 2,
   "id": "handmade-suicide",
   "metadata": {},
   "outputs": [],
   "source": [
    "model_name = \"mobidb-pdb_cnn_7_2_1\""
   ]
  },
  {
   "cell_type": "code",
   "execution_count": 3,
   "id": "exterior-shadow",
   "metadata": {},
   "outputs": [],
   "source": [
    "class BatchGenerator(keras.utils.Sequence):\n",
    "    \"\"\"Label, batch, and pad protein sequence data.\n",
    "\n",
    "    Only complete batches are returned, so a single epoch may not train on every example.\"\"\"\n",
    "    def __init__(self, records, batch_size, sym_codes, shuffle=True):\n",
    "        self.records = records\n",
    "        self.indices = np.arange(len(self.records))\n",
    "        self.batch_size = batch_size\n",
    "        self.shuffle = shuffle\n",
    "        self.ctable = {}  # Category table\n",
    "        for i, sym_code in enumerate(sym_codes):\n",
    "            self.ctable[sym_code] = i\n",
    "        self.on_epoch_end()\n",
    "\n",
    "    def __len__(self):\n",
    "        \"\"\"Return number of batches.\"\"\"\n",
    "        return floor(len(self.records) / self.batch_size)\n",
    "\n",
    "    def __getitem__(self, index):\n",
    "        \"\"\"Generate one batch of data.\"\"\"\n",
    "        indices = self.indices[index*self.batch_size:(index+1)*self.batch_size]\n",
    "        records = [self.records[i] for i in indices]\n",
    "        max_len = max([len(record[0]) for record in records])\n",
    "        x = np.zeros((self.batch_size, max_len))\n",
    "        y = np.zeros((self.batch_size, max_len))\n",
    "        for i, (syms, labels) in enumerate(records):\n",
    "            x[i, :len(syms)] = [self.ctable.get(sym, 0) for sym in syms]\n",
    "            y[i, :len(syms)] = [int(label) if label in [\"0\", \"1\"] else 2 for label in labels]\n",
    "            \n",
    "        sample_weights = np.ones((self.batch_size, max_len))\n",
    "        sample_weights[y == 1] = 15.0\n",
    "        sample_weights[y == 2] = 0.0\n",
    "\n",
    "        x = keras.utils.to_categorical(x, num_classes=len(self.ctable))\n",
    "        y = keras.utils.to_categorical(y, num_classes=3)\n",
    "        for i, (syms, _) in enumerate(records):\n",
    "            x[i, len(syms):, :] = 0\n",
    "            y[i, len(syms):, :] = 0\n",
    "        \n",
    "        return x, y, sample_weights\n",
    "\n",
    "    def on_epoch_end(self):\n",
    "        \"\"\"Shuffles data after each epoch.\"\"\"\n",
    "        if self.shuffle:\n",
    "            np.random.shuffle(self.indices)"
   ]
  },
  {
   "cell_type": "code",
   "execution_count": 4,
   "id": "searching-image",
   "metadata": {},
   "outputs": [],
   "source": [
    "def load_data(seqs_path, labels_path):\n",
    "    # Load files\n",
    "    seqs = {}\n",
    "    for record in SeqIO.parse(seqs_path, 'fasta'):\n",
    "        accession = record.description.split('|')[0]\n",
    "        seq = str(record.seq)\n",
    "        seqs[accession] = seq\n",
    "    labels = {}\n",
    "    for record in SeqIO.parse(labels_path, 'fasta'):\n",
    "        accession = record.description.split('|')[0]\n",
    "        label = str(record.seq)\n",
    "        labels[accession] = label\n",
    "\n",
    "    # Bundle seqs and labels into single object\n",
    "    records = []\n",
    "    for accession, seq in seqs.items():\n",
    "        records.append((seq, labels[accession]))\n",
    "\n",
    "    return records"
   ]
  },
  {
   "cell_type": "code",
   "execution_count": 5,
   "id": "eastern-exclusion",
   "metadata": {},
   "outputs": [],
   "source": [
    "def decode_sym(batch, sym_codes):\n",
    "    \"\"\"Decodes residue symbols in batch of proteins from encoded form.\"\"\"\n",
    "    ctable, i = {}, 0\n",
    "    for sym_code in sym_codes:\n",
    "        ctable[i] = sym_code\n",
    "        i += 1\n",
    "\n",
    "    decoded_sym = []\n",
    "    for protein in batch:\n",
    "        decoded_protein = []\n",
    "        for residue in protein:\n",
    "            if sum(residue) == 0:\n",
    "                pass\n",
    "            else:\n",
    "                decoded_residue = ctable[np.argmax(residue)]\n",
    "                decoded_protein.append(decoded_residue)\n",
    "        decoded_sym.append(\"\".join(decoded_protein))\n",
    "\n",
    "    return decoded_sym"
   ]
  },
  {
   "cell_type": "code",
   "execution_count": 6,
   "id": "suspended-instrument",
   "metadata": {},
   "outputs": [],
   "source": [
    "def decode_label_by_protein(batch_to_be_decoded, original_batch):\n",
    "    \"\"\"\n",
    "    Decodes residue labels in batch of proteins from encoded form.\n",
    "    Outputs list of str where each str is labels of one protein.\n",
    "\n",
    "    batch_to_be_decoded:\n",
    "    batch of labels which want to be decoded\n",
    "\n",
    "    original_batch:\n",
    "    original batch of labels generated by BatchGenerator which\n",
    "    batch_to_be_decoded is derived from (this is needed in order\n",
    "    to remove unwanted masked values)\n",
    "    \"\"\"\n",
    "    decoded_labels = []\n",
    "    for x in np.arange(len(original_batch)):\n",
    "        protein = original_batch[x]\n",
    "        decoded_protein = []\n",
    "        for y in np.arange(len(protein)):\n",
    "            residue = protein[y]\n",
    "            if sum(residue) == 0:\n",
    "                pass\n",
    "            else:\n",
    "                decoded_residue = np.argmax(batch_to_be_decoded[x][y])\n",
    "                if decoded_residue == 2:\n",
    "                    decoded_protein.append(\"-\")\n",
    "                else:\n",
    "                    decoded_protein.append(str(decoded_residue))\n",
    "        decoded_labels.append(\"\".join(decoded_protein))\n",
    "    return decoded_labels"
   ]
  },
  {
   "cell_type": "code",
   "execution_count": 7,
   "id": "adolescent-hybrid",
   "metadata": {},
   "outputs": [],
   "source": [
    "def decode_label_to_lst(batch_to_be_decoded, original_batch):\n",
    "    \"\"\"\n",
    "    Decodes residue labels in batch of proteins from encoded form.\n",
    "    Outputs list of int where each int is label for one residue.\n",
    "    Does not include residues labeled \"-\" in output.\n",
    "\n",
    "    batch_to_be_decoded:\n",
    "    batch of labels which want to be decoded\n",
    "\n",
    "    original_batch:\n",
    "    original batch of labels generated by BatchGenerator which\n",
    "    batch_to_be_decoded is derived from (this is needed in order\n",
    "    to remove unwanted masked values)\n",
    "    \"\"\"\n",
    "    decoded_labels = []\n",
    "    for x in np.arange(len(original_batch)):\n",
    "        protein = original_batch[x]\n",
    "        for y in np.arange(len(protein)):\n",
    "            residue = protein[y]\n",
    "            if sum(residue) == 0:\n",
    "                pass\n",
    "            elif np.argmax(residue) == 2:\n",
    "                pass\n",
    "            else:\n",
    "                decoded_residue = np.argmax(batch_to_be_decoded[x][y])\n",
    "                decoded_labels.append(decoded_residue)\n",
    "                    \n",
    "    return decoded_labels"
   ]
  },
  {
   "cell_type": "code",
   "execution_count": 8,
   "id": "early-holmes",
   "metadata": {},
   "outputs": [],
   "source": [
    "class MaskedConv1D(keras.layers.Conv1D):\n",
    "    def __init__(self, filters, kernel_size, **kwargs):\n",
    "        super().__init__(filters, kernel_size, **kwargs)\n",
    "        self.supports_masking = True"
   ]
  },
  {
   "cell_type": "code",
   "execution_count": 9,
   "id": "described-wisconsin",
   "metadata": {},
   "outputs": [],
   "source": [
    "# Parameters\n",
    "sym_codes = ['A', 'C', 'D', 'E', 'F', 'G', 'H', 'I', 'K', 'L',\n",
    "             'M', 'N', 'P', 'Q', 'R', 'S', 'T', 'V', 'W', 'Y']"
   ]
  },
  {
   "cell_type": "code",
   "execution_count": 10,
   "id": "understood-testimony",
   "metadata": {},
   "outputs": [],
   "source": [
    "# Load data\n",
    "train_records = load_data('../../mobidb-pdb_validation/split_data/out/train_seqs.fasta', '../../mobidb-pdb_validation/split_data/out/train_labels.fasta')\n",
    "validation_records = load_data('../../mobidb-pdb_validation/split_data/out/validation_seqs.fasta', '../../mobidb-pdb_validation/split_data/out/validation_labels.fasta')\n",
    "test_records = load_data('../../mobidb-pdb_validation/split_data/out/test_seqs.fasta', '../../mobidb-pdb_validation/split_data/out/test_labels.fasta')"
   ]
  },
  {
   "cell_type": "code",
   "execution_count": 11,
   "id": "obvious-producer",
   "metadata": {},
   "outputs": [],
   "source": [
    "# Batch data\n",
    "train_batches = BatchGenerator(train_records, 32, sym_codes)\n",
    "validation_batches = BatchGenerator(validation_records, 32, sym_codes)\n",
    "test_batches = BatchGenerator(test_records, 32, sym_codes)"
   ]
  },
  {
   "cell_type": "code",
   "execution_count": 12,
   "id": "sharp-blanket",
   "metadata": {},
   "outputs": [],
   "source": [
    "model = keras.models.load_model(\"out_model/\" + model_name + \".h5\", custom_objects={\"MaskedConv1D\": MaskedConv1D})"
   ]
  },
  {
   "cell_type": "code",
   "execution_count": 13,
   "id": "naked-territory",
   "metadata": {},
   "outputs": [],
   "source": [
    "metrics_df = pd.read_csv (\"out_metrics/training_metrics.csv\")"
   ]
  },
  {
   "cell_type": "code",
   "execution_count": 14,
   "id": "addressed-lecture",
   "metadata": {
    "scrolled": false
   },
   "outputs": [
    {
     "data": {
      "text/html": [
       "<div>\n",
       "<style scoped>\n",
       "    .dataframe tbody tr th:only-of-type {\n",
       "        vertical-align: middle;\n",
       "    }\n",
       "\n",
       "    .dataframe tbody tr th {\n",
       "        vertical-align: top;\n",
       "    }\n",
       "\n",
       "    .dataframe thead th {\n",
       "        text-align: right;\n",
       "    }\n",
       "</style>\n",
       "<table border=\"1\" class=\"dataframe\">\n",
       "  <thead>\n",
       "    <tr style=\"text-align: right;\">\n",
       "      <th></th>\n",
       "      <th>Accuracy</th>\n",
       "      <th>MCC</th>\n",
       "      <th>Sensitivity</th>\n",
       "      <th>Specificity</th>\n",
       "      <th>Precision</th>\n",
       "      <th>F1</th>\n",
       "    </tr>\n",
       "  </thead>\n",
       "  <tbody>\n",
       "    <tr>\n",
       "      <th>0</th>\n",
       "      <td>0.775367</td>\n",
       "      <td>0.330168</td>\n",
       "      <td>0.743156</td>\n",
       "      <td>0.778384</td>\n",
       "      <td>0.238993</td>\n",
       "      <td>0.361675</td>\n",
       "    </tr>\n",
       "    <tr>\n",
       "      <th>1</th>\n",
       "      <td>0.849406</td>\n",
       "      <td>0.394416</td>\n",
       "      <td>0.677051</td>\n",
       "      <td>0.865547</td>\n",
       "      <td>0.320466</td>\n",
       "      <td>0.435024</td>\n",
       "    </tr>\n",
       "    <tr>\n",
       "      <th>2</th>\n",
       "      <td>0.862671</td>\n",
       "      <td>0.412309</td>\n",
       "      <td>0.667240</td>\n",
       "      <td>0.880974</td>\n",
       "      <td>0.344262</td>\n",
       "      <td>0.454186</td>\n",
       "    </tr>\n",
       "    <tr>\n",
       "      <th>3</th>\n",
       "      <td>0.856428</td>\n",
       "      <td>0.406358</td>\n",
       "      <td>0.677248</td>\n",
       "      <td>0.873209</td>\n",
       "      <td>0.333439</td>\n",
       "      <td>0.446866</td>\n",
       "    </tr>\n",
       "    <tr>\n",
       "      <th>4</th>\n",
       "      <td>0.902819</td>\n",
       "      <td>0.460872</td>\n",
       "      <td>0.587331</td>\n",
       "      <td>0.932365</td>\n",
       "      <td>0.448508</td>\n",
       "      <td>0.508617</td>\n",
       "    </tr>\n",
       "    <tr>\n",
       "      <th>...</th>\n",
       "      <td>...</td>\n",
       "      <td>...</td>\n",
       "      <td>...</td>\n",
       "      <td>...</td>\n",
       "      <td>...</td>\n",
       "      <td>...</td>\n",
       "    </tr>\n",
       "    <tr>\n",
       "      <th>95</th>\n",
       "      <td>0.917682</td>\n",
       "      <td>0.396173</td>\n",
       "      <td>0.364291</td>\n",
       "      <td>0.969509</td>\n",
       "      <td>0.528056</td>\n",
       "      <td>0.431146</td>\n",
       "    </tr>\n",
       "    <tr>\n",
       "      <th>96</th>\n",
       "      <td>0.918193</td>\n",
       "      <td>0.397382</td>\n",
       "      <td>0.362285</td>\n",
       "      <td>0.970255</td>\n",
       "      <td>0.532852</td>\n",
       "      <td>0.431318</td>\n",
       "    </tr>\n",
       "    <tr>\n",
       "      <th>97</th>\n",
       "      <td>0.917739</td>\n",
       "      <td>0.396444</td>\n",
       "      <td>0.364327</td>\n",
       "      <td>0.969567</td>\n",
       "      <td>0.528561</td>\n",
       "      <td>0.431339</td>\n",
       "    </tr>\n",
       "    <tr>\n",
       "      <th>98</th>\n",
       "      <td>0.917897</td>\n",
       "      <td>0.397176</td>\n",
       "      <td>0.364380</td>\n",
       "      <td>0.969735</td>\n",
       "      <td>0.529974</td>\n",
       "      <td>0.431847</td>\n",
       "    </tr>\n",
       "    <tr>\n",
       "      <th>99</th>\n",
       "      <td>0.917754</td>\n",
       "      <td>0.397079</td>\n",
       "      <td>0.365383</td>\n",
       "      <td>0.969485</td>\n",
       "      <td>0.528610</td>\n",
       "      <td>0.432095</td>\n",
       "    </tr>\n",
       "  </tbody>\n",
       "</table>\n",
       "<p>100 rows × 6 columns</p>\n",
       "</div>"
      ],
      "text/plain": [
       "    Accuracy       MCC  Sensitivity  Specificity  Precision        F1\n",
       "0   0.775367  0.330168     0.743156     0.778384   0.238993  0.361675\n",
       "1   0.849406  0.394416     0.677051     0.865547   0.320466  0.435024\n",
       "2   0.862671  0.412309     0.667240     0.880974   0.344262  0.454186\n",
       "3   0.856428  0.406358     0.677248     0.873209   0.333439  0.446866\n",
       "4   0.902819  0.460872     0.587331     0.932365   0.448508  0.508617\n",
       "..       ...       ...          ...          ...        ...       ...\n",
       "95  0.917682  0.396173     0.364291     0.969509   0.528056  0.431146\n",
       "96  0.918193  0.397382     0.362285     0.970255   0.532852  0.431318\n",
       "97  0.917739  0.396444     0.364327     0.969567   0.528561  0.431339\n",
       "98  0.917897  0.397176     0.364380     0.969735   0.529974  0.431847\n",
       "99  0.917754  0.397079     0.365383     0.969485   0.528610  0.432095\n",
       "\n",
       "[100 rows x 6 columns]"
      ]
     },
     "execution_count": 14,
     "metadata": {},
     "output_type": "execute_result"
    }
   ],
   "source": [
    "metrics_df"
   ]
  },
  {
   "cell_type": "code",
   "execution_count": 15,
   "id": "silent-cannon",
   "metadata": {},
   "outputs": [
    {
     "data": {
      "text/plain": [
       "0.6684623543029334"
      ]
     },
     "execution_count": 15,
     "metadata": {},
     "output_type": "execute_result"
    }
   ],
   "source": [
    "balanced_accuracy = (metrics_df[\"Sensitivity\"].values[49]+metrics_df[\"Specificity\"].values[49])/2\n",
    "balanced_accuracy"
   ]
  },
  {
   "cell_type": "code",
   "execution_count": 17,
   "id": "massive-synthetic",
   "metadata": {
    "scrolled": false
   },
   "outputs": [
    {
     "data": {
      "image/png": "[encoded data removed]",
      "text/plain": [
       "<Figure size 864x360 with 1 Axes>"
      ]
     },
     "metadata": {
      "needs_background": "light"
     },
     "output_type": "display_data"
    }
   ],
   "source": [
    "x_axis_ticks = np.arange(100)\n",
    "y_axis_ticks = np.arange(11)/10\n",
    "\n",
    "metrics_fig = metrics_df.plot(figsize = (12, 5), use_index = True, title = model_name + \" training metrics\", \n",
    "                              xticks = x_axis_ticks, yticks = y_axis_ticks)\n",
    "\n",
    "metrics_fig = metrics_fig.legend(bbox_to_anchor=(1, 1))\n",
    "metrics_fig = metrics_fig.get_figure()"
   ]
  },
  {
   "cell_type": "code",
   "execution_count": null,
   "id": "obvious-outreach",
   "metadata": {},
   "outputs": [],
   "source": []
  }
 ],
 "metadata": {
  "kernelspec": {
   "display_name": "Python 3",
   "language": "python",
   "name": "python3"
  },
  "language_info": {
   "codemirror_mode": {
    "name": "ipython",
    "version": 3
   },
   "file_extension": ".py",
   "mimetype": "text/x-python",
   "name": "python",
   "nbconvert_exporter": "python",
   "pygments_lexer": "ipython3",
   "version": "3.8.3"
  }
 },
 "nbformat": 4,
 "nbformat_minor": 5
}
