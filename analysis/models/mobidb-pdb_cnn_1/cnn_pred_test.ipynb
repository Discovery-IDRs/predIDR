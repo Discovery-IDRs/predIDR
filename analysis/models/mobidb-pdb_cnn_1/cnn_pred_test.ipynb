{
 "cells": [
  {
   "cell_type": "code",
   "execution_count": 1,
   "id": "integrated-greene",
   "metadata": {},
   "outputs": [],
   "source": [
    "# view specific predictions made by cnn\n",
    "\n",
    "import os\n",
    "from math import floor\n",
    "\n",
    "import Bio.SeqIO as SeqIO\n",
    "import numpy as np\n",
    "from tensorflow import keras\n",
    "from tensorflow.keras import layers\n",
    "from keras.models import load_model\n",
    "\n",
    "import sys  \n",
    "sys.path.append('../../../src')\n",
    "from legacy_metrics import *\n",
    "\n",
    "from pandas.core.common import flatten\n",
    "\n",
    "from Bio import SeqIO\n",
    "\n",
    "from matplotlib import pyplot as plt"
   ]
  },
  {
   "cell_type": "code",
   "execution_count": null,
   "id": "peripheral-vintage",
   "metadata": {},
   "outputs": [],
   "source": [
    "model_name = \"jason_cnn_10_2\"\n",
    "\n",
    "mobidb_category_to_compare = \"P03265|derived-observed-th_90\"\n",
    "\n",
    "fasta_file_path = \"../../../data/MobiDB/2020_09/P03265.fasta\""
   ]
  },
  {
   "cell_type": "code",
   "execution_count": null,
   "id": "criminal-procedure",
   "metadata": {},
   "outputs": [],
   "source": [
    "class BatchGenerator(keras.utils.Sequence):\n",
    "    \"\"\"Label, batch, and pad protein sequence data.\n",
    "\n",
    "    Only complete batches are returned, so a single epoch may not train on every example.\"\"\"\n",
    "    def __init__(self, records, batch_size, sym_codes, shuffle=True):\n",
    "        self.records = records\n",
    "        self.indices = np.arange(len(self.records))\n",
    "        self.batch_size = batch_size\n",
    "        self.shuffle = shuffle\n",
    "        self.ctable = {}  # Category table\n",
    "        for i, sym_code in enumerate(sym_codes):\n",
    "            self.ctable[sym_code] = i\n",
    "        self.on_epoch_end()\n",
    "\n",
    "    def __len__(self):\n",
    "        \"\"\"Return number of batches.\"\"\"\n",
    "        return floor(len(self.records) / self.batch_size)\n",
    "\n",
    "    def __getitem__(self, index):\n",
    "        \"\"\"Generate one batch of data.\"\"\"\n",
    "        indices = self.indices[index*self.batch_size:(index+1)*self.batch_size]\n",
    "        records = [self.records[i] for i in indices]\n",
    "        max_len = max([len(record[0]) for record in records])\n",
    "        x = np.zeros((self.batch_size, max_len))\n",
    "        y = np.zeros((self.batch_size, max_len))\n",
    "        for i, (syms, labels) in enumerate(records):\n",
    "            x[i, :len(syms)] = [self.ctable.get(sym, 0) for sym in syms]\n",
    "            y[i, :len(syms)] = [int(label) if label in [\"0\", \"1\"] else 2 for label in labels]\n",
    "            \n",
    "        sample_weights = np.ones((self.batch_size, max_len))\n",
    "        sample_weights[y == 1] = 15.0\n",
    "        sample_weights[y == 2] = 0.0\n",
    "\n",
    "        x = keras.utils.to_categorical(x, num_classes=len(self.ctable))\n",
    "        y = keras.utils.to_categorical(y, num_classes=3)\n",
    "        for i, (syms, _) in enumerate(records):\n",
    "            x[i, len(syms):, :] = 0\n",
    "            y[i, len(syms):, :] = 0\n",
    "        \n",
    "        return x, y, sample_weights\n",
    "\n",
    "    def on_epoch_end(self):\n",
    "        \"\"\"Shuffles data after each epoch.\"\"\"\n",
    "        if self.shuffle:\n",
    "            np.random.shuffle(self.indices)"
   ]
  },
  {
   "cell_type": "code",
   "execution_count": null,
   "id": "juvenile-cemetery",
   "metadata": {},
   "outputs": [],
   "source": [
    "def load_data(seqs_path, labels_path):\n",
    "    # Load files\n",
    "    seqs = {}\n",
    "    for record in SeqIO.parse(seqs_path, 'fasta'):\n",
    "        accession = record.description.split('|')[0]\n",
    "        seq = str(record.seq)\n",
    "        seqs[accession] = seq\n",
    "    labels = {}\n",
    "    for record in SeqIO.parse(labels_path, 'fasta'):\n",
    "        accession = record.description.split('|')[0]\n",
    "        label = str(record.seq)\n",
    "        labels[accession] = label\n",
    "\n",
    "    # Bundle seqs and labels into single object\n",
    "    records = []\n",
    "    for accession, seq in seqs.items():\n",
    "        records.append((seq, labels[accession]))\n",
    "\n",
    "    return records"
   ]
  },
  {
   "cell_type": "code",
   "execution_count": null,
   "id": "quiet-soviet",
   "metadata": {},
   "outputs": [],
   "source": [
    "def decode_sym(batch, sym_codes):\n",
    "    \"\"\"Decodes residue symbols in batch of proteins from encoded form.\"\"\"\n",
    "    ctable, i = {}, 0\n",
    "    for sym_code in sym_codes:\n",
    "        ctable[i] = sym_code\n",
    "        i += 1\n",
    "\n",
    "    decoded_sym = []\n",
    "    for protein in batch:\n",
    "        decoded_protein = []\n",
    "        for residue in protein:\n",
    "            if sum(residue) == 0:\n",
    "                pass\n",
    "            else:\n",
    "                decoded_residue = ctable[np.argmax(residue)]\n",
    "                decoded_protein.append(decoded_residue)\n",
    "        decoded_sym.append(\"\".join(decoded_protein))\n",
    "\n",
    "    return decoded_sym"
   ]
  },
  {
   "cell_type": "code",
   "execution_count": null,
   "id": "joint-daily",
   "metadata": {},
   "outputs": [],
   "source": [
    "def decode_label_by_protein(batch_to_be_decoded, original_batch):\n",
    "    \"\"\"\n",
    "    Decodes residue labels in batch of proteins from encoded form.\n",
    "    Outputs list of str where each str is labels of one protein.\n",
    "\n",
    "    batch_to_be_decoded:\n",
    "    batch of labels which want to be decoded\n",
    "\n",
    "    original_batch:\n",
    "    original batch of labels generated by BatchGenerator which\n",
    "    batch_to_be_decoded is derived from (this is needed in order\n",
    "    to remove unwanted masked values)\n",
    "    \"\"\"\n",
    "    decoded_labels = []\n",
    "    for x in np.arange(len(original_batch)):\n",
    "        protein = original_batch[x]\n",
    "        decoded_protein = []\n",
    "        for y in np.arange(len(protein)):\n",
    "            residue = protein[y]\n",
    "            if sum(residue) == 0:\n",
    "                pass\n",
    "            else:\n",
    "                decoded_residue = np.argmax(batch_to_be_decoded[x][y])\n",
    "                if decoded_residue == 2:\n",
    "                    decoded_protein.append(\"-\")\n",
    "                else:\n",
    "                    decoded_protein.append(str(decoded_residue))\n",
    "        decoded_labels.append(\"\".join(decoded_protein))\n",
    "    return decoded_labels"
   ]
  },
  {
   "cell_type": "code",
   "execution_count": null,
   "id": "thorough-wallace",
   "metadata": {},
   "outputs": [],
   "source": [
    "def decode_label_to_lst(batch_to_be_decoded, original_batch):\n",
    "    \"\"\"\n",
    "    Decodes residue labels in batch of proteins from encoded form.\n",
    "    Outputs list of int where each int is label for one residue.\n",
    "    Does not include residues labeled \"-\" in output.\n",
    "\n",
    "    batch_to_be_decoded:\n",
    "    batch of labels which want to be decoded\n",
    "\n",
    "    original_batch:\n",
    "    original batch of labels generated by BatchGenerator which\n",
    "    batch_to_be_decoded is derived from (this is needed in order\n",
    "    to remove unwanted masked values)\n",
    "    \"\"\"\n",
    "    decoded_labels = []\n",
    "    for x in np.arange(len(original_batch)):\n",
    "        protein = original_batch[x]\n",
    "        for y in np.arange(len(protein)):\n",
    "            residue = protein[y]\n",
    "            if sum(residue) == 0:\n",
    "                pass\n",
    "            elif np.argmax(residue) == 2:\n",
    "                pass\n",
    "            else:\n",
    "                decoded_residue = np.argmax(batch_to_be_decoded[x][y])\n",
    "                decoded_labels.append(decoded_residue)\n",
    "                    \n",
    "    return decoded_labels"
   ]
  },
  {
   "cell_type": "code",
   "execution_count": null,
   "id": "governing-nashville",
   "metadata": {},
   "outputs": [],
   "source": [
    "class MaskedConv1D(keras.layers.Conv1D):\n",
    "    def __init__(self, filters, kernel_size, **kwargs):\n",
    "        super().__init__(filters, kernel_size, **kwargs)\n",
    "        self.supports_masking = True"
   ]
  },
  {
   "cell_type": "code",
   "execution_count": null,
   "id": "oriental-ceiling",
   "metadata": {},
   "outputs": [],
   "source": [
    "def plt_results(results, width, height):\n",
    "    true = [int(i) for i in results[2]]\n",
    "    binary_pred = [int(i) for i in results[3]]\n",
    "    dec_pred_ord = results[4]\n",
    "    dec_pred_dis = results[5]\n",
    "    \n",
    "    x = np.arange(1,len(true)+1)\n",
    "      \n",
    "    plt.figure(figsize=(width, height))\n",
    "    plt.title(results[0] + \" Results\")\n",
    "    plt.ylabel(\"Binary Disorder\")\n",
    "    plt.plot(x, true, color = \"black\", alpha = 2)\n",
    "    plt.plot(x, binary_pred, color = \"green\", alpha = 0.5)\n",
    "    plt.fill_between(x, binary_pred, color = \"green\", alpha = 0.2)\n",
    "    plt.show()\n",
    "        \n",
    "    plt.figure(figsize=(width, height))\n",
    "    plt.title(results[0] + \" Decimal Results\")\n",
    "    plt.ylabel(\"Decimal Results\")\n",
    "    plt.plot(x, true, color = \"black\", alpha = 2)\n",
    "    plt.plot(x, dec_pred_ord, color = \"blue\", alpha = 0.5)\n",
    "    plt.plot(x, dec_pred_dis, color = \"red\", alpha = 0.5)\n",
    "    plt.show()        \n",
    "    \n",
    "    plt.figure(figsize=(width, height))\n",
    "    plt.title(results[0] + \" Results\")\n",
    "    plt.ylabel(\"Dec Order\")\n",
    "    plt.plot(x, true, color = \"black\", alpha = 2)\n",
    "    plt.plot(x, dec_pred_ord, color = \"blue\", alpha = 0.5)\n",
    "    plt.fill_between(x, dec_pred_ord, color = \"blue\", alpha = 0.2)\n",
    "    plt.show()\n",
    "                 \n",
    "    plt.figure(figsize=(width, height))\n",
    "    plt.title(results[0] + \" Results\")\n",
    "    plt.ylabel(\"Dec Disorder\")\n",
    "    plt.plot(x, true, color = \"black\", alpha = 2)\n",
    "    plt.plot(x, dec_pred_dis, color = \"red\", alpha = 0.5)\n",
    "    plt.fill_between(x, dec_pred_dis, color = \"red\", alpha = 0.2)\n",
    "    plt.show()"
   ]
  },
  {
   "cell_type": "code",
   "execution_count": null,
   "id": "boring-strand",
   "metadata": {},
   "outputs": [],
   "source": [
    "# Parameters\n",
    "sym_codes = ['A', 'C', 'D', 'E', 'F', 'G', 'H', 'I', 'K', 'L',\n",
    "             'M', 'N', 'P', 'Q', 'R', 'S', 'T', 'V', 'W', 'Y']"
   ]
  },
  {
   "cell_type": "code",
   "execution_count": null,
   "id": "mobile-winning",
   "metadata": {},
   "outputs": [],
   "source": [
    "model = keras.models.load_model(\"../\" + model_name + \"/out_model/\" + model_name + \".h5\", custom_objects={\"MaskedConv1D\": MaskedConv1D})"
   ]
  },
  {
   "cell_type": "code",
   "execution_count": null,
   "id": "swiss-daily",
   "metadata": {},
   "outputs": [],
   "source": [
    "records_lst = list(SeqIO.parse(fasta_file_path, \"fasta\"))"
   ]
  },
  {
   "cell_type": "code",
   "execution_count": null,
   "id": "greek-condition",
   "metadata": {},
   "outputs": [],
   "source": [
    "records_dict = {}\n",
    "\n",
    "for entry in records_lst:\n",
    "    if \"sequence\" in entry.description:\n",
    "        records_dict[entry.description.split(\"|\")[0]] = [str(entry.description), str(entry.seq)]\n",
    "\n",
    "for entry in records_lst:\n",
    "    if mobidb_category_to_compare in entry.description:\n",
    "        records_dict[entry.description.split(\"|\")[0]].append(str(entry.seq))"
   ]
  },
  {
   "cell_type": "code",
   "execution_count": null,
   "id": "rental-finland",
   "metadata": {},
   "outputs": [],
   "source": [
    "records_tuple_lst = []\n",
    "\n",
    "for key in records_dict:\n",
    "    lst = [records_dict[key][1], records_dict[key][2]]\n",
    "    records_tuple_lst.append(tuple(lst))"
   ]
  },
  {
   "cell_type": "code",
   "execution_count": null,
   "id": "fifteen-terry",
   "metadata": {},
   "outputs": [],
   "source": [
    "batches = BatchGenerator(records_tuple_lst, 1, sym_codes)"
   ]
  },
  {
   "cell_type": "code",
   "execution_count": null,
   "id": "southeast-local",
   "metadata": {
    "scrolled": true
   },
   "outputs": [],
   "source": [
    "results_lst = []\n",
    "\n",
    "for key in records_dict:\n",
    "    results_lst.append(list(records_dict[key]))\n",
    "\n",
    "for batch in batches:\n",
    "    sequence = decode_sym(batch[0], sym_codes)[0]\n",
    "    pred_binary = decode_label_by_protein(model.predict(batch[0]), batch[1])[0]\n",
    "    \n",
    "    pred_dec_order = []\n",
    "    pred_dec_dis = []\n",
    "    \n",
    "    for entry in model.predict(batch[0])[0]:\n",
    "        pred_dec_order.append(entry[0])\n",
    "        pred_dec_dis.append(entry[1])\n",
    "    \n",
    "    for entry in results_lst:\n",
    "        if entry[1] == sequence:\n",
    "            entry.append(pred_binary)\n",
    "            entry.append(pred_dec_order)\n",
    "            entry.append(pred_dec_dis)"
   ]
  },
  {
   "cell_type": "code",
   "execution_count": null,
   "id": "former-recycling",
   "metadata": {
    "scrolled": true
   },
   "outputs": [],
   "source": [
    "results_lst"
   ]
  },
  {
   "cell_type": "code",
   "execution_count": null,
   "id": "assumed-aberdeen",
   "metadata": {
    "scrolled": false
   },
   "outputs": [],
   "source": [
    "for results in results_lst:\n",
    "    plt_results(results, 30, 10)"
   ]
  },
  {
   "cell_type": "code",
   "execution_count": null,
   "id": "working-strip",
   "metadata": {},
   "outputs": [],
   "source": []
  }
 ],
 "metadata": {
  "kernelspec": {
   "display_name": "Python 3",
   "language": "python",
   "name": "python3"
  },
  "language_info": {
   "codemirror_mode": {
    "name": "ipython",
    "version": 3
   },
   "file_extension": ".py",
   "mimetype": "text/x-python",
   "name": "python",
   "nbconvert_exporter": "python",
   "pygments_lexer": "ipython3",
   "version": "3.8.3"
  }
 },
 "nbformat": 4,
 "nbformat_minor": 5
}
